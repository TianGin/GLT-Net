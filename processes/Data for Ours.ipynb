{
 "cells": [
  {
   "cell_type": "code",
   "execution_count": 1,
   "metadata": {},
   "outputs": [],
   "source": [
    "import os\n",
    "import _pickle as pickle\n",
    "import os\n",
    "from datetime import datetime\n",
    "from collections import OrderedDict\n",
    "import pandas as pd\n",
    "import numpy as np\n",
    "import copy\n",
    "import itertools"
   ]
  },
  {
   "cell_type": "code",
   "execution_count": 2,
   "metadata": {},
   "outputs": [],
   "source": [
    "class EHRParser:\n",
    "    def __init__(self, path):\n",
    "        self.path = path\n",
    "        self.admission_csv = ''\n",
    "        self.diagnosis_csv = ''\n",
    "        self.admission_cols = {\n",
    "            'pid': None,\n",
    "            'adm_id': None,\n",
    "            'adm_time': None\n",
    "        }\n",
    "        self.diagnosis_cols = {\n",
    "            'pid': None,\n",
    "            'adm_id': None,\n",
    "            'cid': None\n",
    "        }\n",
    "        self.skip_pid_check = False\n",
    "        self.patient_admission = None\n",
    "        self.admission_codes = None\n",
    "\n",
    "        self.admission_col_converter = self.set_admission_col()\n",
    "        self.diagnosis_col_converter = self.set_diagnosis_col()\n",
    "\n",
    "    def set_admission_col(self) -> dict:\n",
    "        raise NotImplementedError\n",
    "\n",
    "    def set_diagnosis_col(self) -> dict:\n",
    "        raise NotImplementedError\n",
    "\n",
    "    def to_standard_icd9(self, code: str):\n",
    "        raise NotImplementedError\n",
    "\n",
    "    def parse_admission(self):\n",
    "        print('parsing the csv file of admission ...')\n",
    "        admission_path = os.path.join(self.path, self.admission_csv)\n",
    "        admissions = pd.read_csv(\n",
    "            admission_path,\n",
    "            usecols=list(self.admission_cols.values()),\n",
    "            converters=self.admission_col_converter\n",
    "        )\n",
    "        all_patients = OrderedDict()\n",
    "        for i, row in admissions.iterrows():\n",
    "            if i % 100 == 0:\n",
    "                print('\\r\\t%d in %d rows' % (i + 1, len(admissions)), end='')\n",
    "            pid = row[self.admission_cols['pid']]\n",
    "            admission_id = row[self.admission_cols['adm_id']]\n",
    "            admission_time = row[self.admission_cols['adm_time']]\n",
    "            if pid not in all_patients:\n",
    "                all_patients[pid] = []\n",
    "            admission = all_patients[pid]\n",
    "            admission.append({\n",
    "                'admission_id': admission_id,\n",
    "                'admission_time': admission_time\n",
    "            })\n",
    "        print('\\r\\t%d in %d rows' % (len(admissions), len(admissions)))\n",
    "\n",
    "        patient_admission = OrderedDict()\n",
    "        for pid, admissions in all_patients.items():\n",
    "            patient_admission[pid] = sorted(admissions, key=lambda admission: admission['admission_time'])\n",
    "\n",
    "        self.patient_admission = patient_admission\n",
    "\n",
    "    def parse_diagnoses(self):\n",
    "        print('parsing csv file of diagnosis ...')\n",
    "        diagnoses_path = os.path.join(self.path, self.diagnosis_csv)\n",
    "        diagnoses = pd.read_csv(\n",
    "            diagnoses_path,\n",
    "            usecols=list(self.diagnosis_cols.values()),\n",
    "            converters=self.diagnosis_col_converter\n",
    "        )\n",
    "\n",
    "        admission_codes = OrderedDict()\n",
    "        for i, row in diagnoses.iterrows():\n",
    "            if i % 100 == 0:\n",
    "                print('\\r\\t%d in %d rows' % (i + 1, len(diagnoses)), end='')\n",
    "            pid = row[self.diagnosis_cols['pid']]\n",
    "            if self.skip_pid_check or pid in self.patient_admission:\n",
    "                admission_id = row[self.diagnosis_cols['adm_id']]\n",
    "                code = row[self.diagnosis_cols['cid']]\n",
    "                code = self.to_standard_icd9(code)\n",
    "                if code == '':\n",
    "                    continue\n",
    "                if admission_id not in admission_codes:\n",
    "                    codes = []\n",
    "                    admission_codes[admission_id] = codes\n",
    "                else:\n",
    "                    codes = admission_codes[admission_id]\n",
    "                codes.append(code)\n",
    "        print('\\r\\t%d in %d rows' % (len(diagnoses), len(diagnoses)))\n",
    "\n",
    "        self.admission_codes = admission_codes\n",
    "\n",
    "        self.after_parse_diagnosis()\n",
    "\n",
    "    def after_parse_diagnosis(self):\n",
    "        pass\n",
    "\n",
    "    def calibrate_patient_by_admission(self):\n",
    "        print('calibrating patients by admission ...')\n",
    "        del_pids = []\n",
    "        for pid, admissions in self.patient_admission.items():\n",
    "            for admission in admissions:\n",
    "                if admission['admission_id'] not in self.admission_codes:\n",
    "                    break\n",
    "            else:\n",
    "                continue\n",
    "            del_pids.append(pid)\n",
    "        for pid in del_pids:\n",
    "            admissions = self.patient_admission[pid]\n",
    "            for admission in admissions:\n",
    "                if admission['admission_id'] in self.admission_codes:\n",
    "                    del self.admission_codes[admission['admission_id']]\n",
    "                else:\n",
    "                    # print('\\tpatient %d have an admission %d without diagnosis' % (pid, admission['admission_id']))\n",
    "                    pass\n",
    "            del self.patient_admission[pid]\n",
    "\n",
    "    def parse(self):\n",
    "        self.parse_admission()\n",
    "        self.parse_diagnoses()\n",
    "        self.calibrate_patient_by_admission()\n",
    "        return self.patient_admission, self.admission_codes"
   ]
  },
  {
   "cell_type": "code",
   "execution_count": 3,
   "metadata": {},
   "outputs": [],
   "source": [
    "def encode_code(patient_admission: dict, admission_codes: dict) -> (dict, dict, dict):\n",
    "    print('encoding code ...')\n",
    "    code_map = OrderedDict()\n",
    "    for pid, admissions in patient_admission.items():\n",
    "        if len(admissions) <= 2:\n",
    "            continue\n",
    "        for admission in admissions:\n",
    "            codes = admission_codes[admission['admission_id']]\n",
    "            for code in codes:\n",
    "                if code not in code_map:\n",
    "                    code_map[code] = len(code_map) + 1\n",
    "    code_map_pretrain = copy.deepcopy(code_map)\n",
    "    for pid, admissions in patient_admission.items():\n",
    "        if len(admissions) > 2:\n",
    "            continue\n",
    "        for admission in admissions:\n",
    "            codes = admission_codes[admission['admission_id']]\n",
    "            for code in codes:\n",
    "                if code not in code_map_pretrain:\n",
    "                    code_map_pretrain[code] = len(code_map_pretrain) + 1\n",
    "\n",
    "    admission_codes_encoded = {\n",
    "        admission_id: [code_map_pretrain[code] for code in codes]\n",
    "        for admission_id, codes in admission_codes.items()\n",
    "    }\n",
    "    return admission_codes_encoded, code_map, code_map_pretrain"
   ]
  },
  {
   "cell_type": "code",
   "execution_count": 4,
   "metadata": {},
   "outputs": [],
   "source": [
    "class MentalParser(EHRParser):\n",
    "    def __init__(self, path):\n",
    "        super().__init__(path)\n",
    "        self.admission_csv = 'ADMISSIONS.csv'\n",
    "        self.diagnosis_csv = 'DIAGNOSES_ICD.csv'\n",
    "\n",
    "    def set_admission_col(self) -> dict:\n",
    "        self.admission_cols['pid'] = 'SUBJECT_ID'\n",
    "        self.admission_cols['adm_id'] = 'HADM_ID'\n",
    "        self.admission_cols['adm_time'] = 'ADMITTIME'\n",
    "        converter = {\n",
    "            'SUBJECT_ID': int,\n",
    "            'HADM_ID': int,\n",
    "            'ADMITTIME': lambda cell: datetime.strptime(str(cell), '%Y-%m-%d')\n",
    "        }\n",
    "        return converter\n",
    "\n",
    "    def set_diagnosis_col(self) -> dict:\n",
    "        self.diagnosis_cols['pid'] = 'SUBJECT_ID'\n",
    "        self.diagnosis_cols['adm_id'] = 'HADM_ID'\n",
    "        self.diagnosis_cols['cid'] = 'ICD10_CODE'\n",
    "        converter = {'SUBJECT_ID': int, 'HADM_ID': int, 'ICD10_CODE': str}\n",
    "        return converter\n",
    "\n",
    "    def to_standard_icd9(self, code: str):\n",
    "        if code == '':\n",
    "            return code\n",
    "        split_pos = 3\n",
    "        icd9_code = code[:split_pos] + '.' + code[split_pos+1:split_pos+2]\n",
    "        return icd9_code"
   ]
  },
  {
   "cell_type": "code",
   "execution_count": 5,
   "metadata": {},
   "outputs": [
    {
     "name": "stdout",
     "output_type": "stream",
     "text": [
      "parsing the csv file of admission ...\n",
      "\t271980 in 271980 rows\n",
      "parsing csv file of diagnosis ...\n",
      "\t1315701 in 1315701 rows\n",
      "calibrating patients by admission ...\n",
      "There are 102171 valid patients\n",
      "max admission num: 50, max code num in an admission: 16\n",
      "encoding code ...\n",
      "There are 4930 pretrain codes, 4516 codes in multiple visits\n"
     ]
    }
   ],
   "source": [
    "if __name__ == '__main__':\n",
    "    conf = {\n",
    "        'Mental': {\n",
    "            'parser': MentalParser,\n",
    "\n",
    "        },\n",
    "    }\n",
    "    data_path = '../data'\n",
    "    dataset = 'Mental'  \n",
    "    # dataset_path = os.path.join(data_path, dataset)\n",
    "    raw_path = os.path.join(data_path, 'raw')\n",
    "    if not os.path.exists(raw_path):\n",
    "        os.makedirs(raw_path)\n",
    "        print('please put the CSV files in `data/%s/raw`' % dataset)\n",
    "        exit()\n",
    "    parser = conf[dataset]['parser'](raw_path)\n",
    "    patient_admission, admission_codes = parser.parse()\n",
    "\n",
    "    print('There are %d valid patients' % len(patient_admission))\n",
    "\n",
    "    max_admission_num = max([len(admissions) for admissions in patient_admission.values()])\n",
    "    max_code_num_in_a_visit = max([len(codes) for codes in admission_codes.values()])\n",
    "    print('max admission num: %d, max code num in an admission: %d' % (max_admission_num, max_code_num_in_a_visit))\n",
    "    # 对具有多次入院的患者遍历其入院次数，对医疗代码进行编码，编码存储在 code_map 中。\n",
    "    # 对只有一次入院的患者进行类似的遍历和编码，编码存储在 code_map_pretrain 中。\n",
    "    # 使用 code_map_pretrain 对所有患者的医疗代码进行编码，生成 admission_codes_encoded。\n",
    "    admission_codes_encoded, code_map, code_map_pretrain = encode_code(patient_admission, admission_codes)\n",
    "\n",
    "    code_num = len(code_map)\n",
    "    code_num_pretrain = len(code_map_pretrain)\n",
    "    print('There are %d pretrain codes, %d codes in multiple visits' % (code_num_pretrain, code_num))"
   ]
  },
  {
   "cell_type": "code",
   "execution_count": 6,
   "metadata": {},
   "outputs": [
    {
     "data": {
      "image/png": "[encoded data removed]",
      "text/plain": [
       "<Figure size 500x300 with 1 Axes>"
      ]
     },
     "metadata": {},
     "output_type": "display_data"
    }
   ],
   "source": [
    "per_visit = [len(codes) for codes in admission_codes.values()]\n",
    "import matplotlib.pyplot as plt\n",
    "from collections import Counter\n",
    "\n",
    "# 给定的数字列表\n",
    "numbers = per_visit\n",
    "\n",
    "# 计算每个数字的频率\n",
    "frequency = Counter(numbers)\n",
    "total_count = sum(frequency.values())\n",
    "\n",
    "# 计算每个数字出现的百分比\n",
    "percentages = {num: (count / total_count)  for num, count in frequency.items()}\n",
    "\n",
    "# 准备绘图数据\n",
    "labels, percents = zip(*percentages.items())\n",
    "\n",
    "# 绘制百分比分布图\n",
    "plt.figure(figsize=(5, 3))\n",
    "plt.bar(labels, percents, color='skyblue')\n",
    "plt.xlabel('Number of Diagnosis per visit')\n",
    "plt.ylabel('ratio')\n",
    "# plt.title('数字出现百分比分布')\n",
    "plt.xticks(labels)\n",
    "plt.yticks(np.arange(0, 0.25, 0.05))\n",
    "plt.grid(axis='y', linestyle='--', alpha=0.7)\n",
    "plt.show()\n"
   ]
  },
  {
   "cell_type": "code",
   "execution_count": 18,
   "metadata": {},
   "outputs": [
    {
     "data": {
      "text/plain": [
       "Counter({4: 33554,\n",
       "         5: 29293,\n",
       "         8: 14805,\n",
       "         6: 23374,\n",
       "         7: 18724,\n",
       "         9: 10869,\n",
       "         10: 8349,\n",
       "         1: 36555,\n",
       "         2: 38149,\n",
       "         3: 39221,\n",
       "         15: 1469,\n",
       "         16: 2399,\n",
       "         12: 3982,\n",
       "         11: 5636,\n",
       "         14: 1764,\n",
       "         13: 2653})"
      ]
     },
     "execution_count": 18,
     "metadata": {},
     "output_type": "execute_result"
    }
   ],
   "source": [
    "frequency"
   ]
  },
  {
   "cell_type": "code",
   "execution_count": 20,
   "metadata": {},
   "outputs": [
    {
     "data": {
      "text/plain": [
       "4.843660910796319"
      ]
     },
     "execution_count": 20,
     "metadata": {},
     "output_type": "execute_result"
    }
   ],
   "source": [
    "product_sum = sum(key * value for key, value in frequency.items())\n",
    "product_sum / total_count"
   ]
  },
  {
   "cell_type": "code",
   "execution_count": 21,
   "metadata": {},
   "outputs": [
    {
     "data": {
      "text/plain": [
       "270796"
      ]
     },
     "execution_count": 21,
     "metadata": {},
     "output_type": "execute_result"
    }
   ],
   "source": [
    "total_count"
   ]
  },
  {
   "cell_type": "code",
   "execution_count": 6,
   "metadata": {},
   "outputs": [],
   "source": [
    "def split_patients(patient_admission: dict,\n",
    "                   admission_codes: dict,\n",
    "                   code_map: dict,\n",
    "                   seed=6669) -> (np.ndarray, np.ndarray, np.ndarray, np.ndarray): # type: ignore\n",
    "    print('splitting pretrain, train, valid, and test pids ...')\n",
    "    single = []\n",
    "    multiple = []\n",
    "    for pid, admissions in patient_admission.items():\n",
    "        if len(admissions) > 2:\n",
    "            multiple.append(pid)\n",
    "        else:\n",
    "            single.append(pid)\n",
    "    print('There are %d single+ admission patients, %d multiple admission patients' % (len(single), len(multiple)))\n",
    "    np.random.seed(seed)\n",
    "    common_pids = set()\n",
    "    for i, code in enumerate(code_map):\n",
    "        print('\\r\\t%.2f%%' % ((i + 1) * 100 / len(code_map)), end='')\n",
    "        for pid in multiple:\n",
    "            admissions = patient_admission[pid]\n",
    "            for admission in admissions:\n",
    "                codes = admission_codes[admission['admission_id']]\n",
    "                if code in codes:\n",
    "                    common_pids.add(pid)\n",
    "                    break\n",
    "            else:\n",
    "                continue\n",
    "            break\n",
    "    print('\\r\\t100%')\n",
    "\n",
    "    pid_max_admission_num, _ = max([(pid, len(patient_admission[pid])) for pid in multiple], key=lambda x: x[1])\n",
    "    common_pids.add(pid_max_admission_num)\n",
    "    remaining_pids = np.array(list(set(multiple).difference(common_pids)))\n",
    "    np.random.shuffle(remaining_pids)\n",
    "\n",
    "    train_num = int(len(multiple) * 0.7)\n",
    "    test_num = int(len(multiple) * 0.2)\n",
    "    valid_num = len(multiple) - train_num - test_num\n",
    "    train_pids = np.array(list(common_pids.union(set(remaining_pids[:(train_num - len(common_pids))].tolist()))))\n",
    "    valid_pids = remaining_pids[(train_num - len(common_pids)):(train_num + valid_num - len(common_pids))]\n",
    "    test_pids = remaining_pids[(train_num + valid_num - len(common_pids)):]\n",
    "    pretrain_pids = np.concatenate([np.array(single), train_pids])\n",
    "    return pretrain_pids, train_pids, valid_pids, test_pids, single, multiple\n"
   ]
  },
  {
   "cell_type": "code",
   "execution_count": 7,
   "metadata": {},
   "outputs": [
    {
     "name": "stdout",
     "output_type": "stream",
     "text": [
      "splitting pretrain, train, valid, and test pids ...\n",
      "There are 74629 single+ admission patients, 27542 multiple admission patients\n",
      "\t100%00%\n",
      "There are 93908 pretrain, 19279 train, 2755 valid, 5508 test samples\n"
     ]
    }
   ],
   "source": [
    "if __name__ == '__main__':\n",
    "    pretrain_pids, train_pids, valid_pids, test_pids, single, multiple = split_patients(\n",
    "        patient_admission=patient_admission,\n",
    "        admission_codes=admission_codes,\n",
    "        code_map=code_map,\n",
    "\n",
    "    )\n",
    "    # prtrain是单次+多次train\n",
    "    print('There are %d pretrain, %d train, %d valid, %d test samples' %\n",
    "          (len(pretrain_pids), len(train_pids), len(valid_pids), len(test_pids)))"
   ]
  },
  {
   "cell_type": "code",
   "execution_count": 8,
   "metadata": {},
   "outputs": [
    {
     "data": {
      "text/plain": [
       "27542"
      ]
     },
     "execution_count": 8,
     "metadata": {},
     "output_type": "execute_result"
    }
   ],
   "source": [
    "len(multiple)"
   ]
  },
  {
   "cell_type": "code",
   "execution_count": 9,
   "metadata": {},
   "outputs": [
    {
     "name": "stderr",
     "output_type": "stream",
     "text": [
      "/tmp/ipykernel_112383/3326838971.py:1: DtypeWarning: Columns (6) have mixed types. Specify dtype option on import or set low_memory=False.\n",
      "  tes_adm = pd.read_csv('../data/raw/ADMISSIONS.csv')\n"
     ]
    },
    {
     "name": "stdout",
     "output_type": "stream",
     "text": [
      "(180444, 10)\n",
      "(917809, 5)\n"
     ]
    }
   ],
   "source": [
    "tes_adm = pd.read_csv('../data/raw/ADMISSIONS.csv')\n",
    "# 将特定值赋为空值\n",
    "# tes_icd.replace(np.nan, 'None', inplace=True)  # 将所有 '' 替换为nan\n",
    "test_adm = tes_adm[tes_adm.SUBJECT_ID.isin(multiple)]\n",
    "test_adm.reset_index(drop=True, inplace=True)\n",
    "print(test_adm.shape)\n",
    "tes_icd = pd.read_csv('../data/raw/DIAGNOSES_ICD.csv')\n",
    "# 将特定值赋为空值\n",
    "# tes_icd.replace(np.nan, 'None', inplace=True)  # 将所有 '' 替换为nan\n",
    "test_icd = tes_icd[tes_icd.SUBJECT_ID.isin(multiple)]\n",
    "test_icd.reset_index(drop=True, inplace=True)\n",
    "print(test_icd.shape)"
   ]
  },
  {
   "cell_type": "code",
   "execution_count": 10,
   "metadata": {},
   "outputs": [
    {
     "data": {
      "text/plain": [
       "5.086392454168607"
      ]
     },
     "execution_count": 10,
     "metadata": {},
     "output_type": "execute_result"
    }
   ],
   "source": [
    "len(test_icd)/len(test_adm)"
   ]
  },
  {
   "cell_type": "code",
   "execution_count": 11,
   "metadata": {},
   "outputs": [
    {
     "data": {
      "text/plain": [
       "6.551593929271657"
      ]
     },
     "execution_count": 11,
     "metadata": {},
     "output_type": "execute_result"
    }
   ],
   "source": [
    "len(test_adm) / len(multiple)"
   ]
  },
  {
   "cell_type": "code",
   "execution_count": 12,
   "metadata": {},
   "outputs": [
    {
     "name": "stdout",
     "output_type": "stream",
     "text": [
      "[3, 10, 13, 16, 18, 21, 22, 35, 41, 53, 57, 63, 65, 66, 68, 74, 79, 85, 87, 97, 104, 107, 111, 123, 145, 151, 161, 163, 165, 178, 185, 186, 193, 197, 207, 217, 231, 236, 238, 267, 269, 284, 285, 297, 300, 303, 329, 339, 340, 342, 344, 347, 349, 351, 353, 371, 378, 390, 392, 398, 438, 443, 445, 446, 448, 449, 470, 474, 475, 489, 500, 501, 527, 545, 559, 564, 575, 584, 587, 600, 602, 616, 619, 620, 621, 650, 652, 653, 670, 672, 678, 719, 724, 742, 750, 762, 765, 770, 773, 774, 778, 781, 796, 827, 829, 837, 842, 855, 868, 869, 876, 879, 880, 884, 899, 903, 909, 916, 929, 947, 954, 955, 957, 963, 968, 973, 978, 979, 980, 981, 983, 986, 987, 993, 994, 999, 1002, 1008, 1018, 1019, 1021, 1022, 1029, 1033, 1034, 1035, 1037, 1038, 1043, 1046, 1051, 1056, 1058, 1061, 1063, 1073, 1087, 1092, 1093, 1095, 1101, 1108, 1121, 1131, 1135, 1141, 1144, 1147, 1148, 1154, 1156, 1158, 1161, 1165, 1172, 1173, 1174, 1178, 1189, 1195, 1198, 1199, 1201, 1202, 1203, 1207, 1211, 1217, 1218, 1222, 1231, 1241, 1243, 1245, 1247, 1272, 1274, 1276, 1303, 1304, 1305, 1311, 1319, 1320, 1321, 1333, 1337, 1342, 1345, 1346, 1353, 1355, 1359, 1362, 1368, 1378, 1379, 1380, 1381, 1384, 1386, 1387, 1388, 1390, 1391, 1392, 1399, 1402, 1403, 1404, 1409, 1410, 1411, 1412, 1415, 1418, 1423, 1424, 1425, 1427, 1431, 1432, 1442, 1447, 1449, 1451, 1452, 1461, 1464, 1466, 1467, 1469, 1470, 1475, 1484, 1485, 1487, 1489, 1490, 1492, 1496, 1498, 1504, 1508, 1511, 1517, 1521, 1522, 1524, 1525, 1527, 1531, 1534, 1535, 1536, 1538, 1546, 1548, 1554, 1557, 1561, 1563, 1571, 1572, 1577, 1582, 1584, 1589, 1598, 1600, 1602, 1609, 1611, 1619, 1620, 1623, 1624, 1629, 1630, 1638, 1642, 1643, 1644, 1647, 1650, 1658, 1663, 1666, 1670, 1671, 1678, 1682, 1683, 1684, 1689, 1693, 1699, 1702, 1708, 1712, 1715, 1731, 1742, 1749, 1751, 1755, 1756, 1759, 1762, 1766, 1767, 1768, 1772, 1778, 1781, 1791, 1798, 1805, 1809, 1811, 1812, 1813, 1814, 1815, 1838, 1841, 1853, 1857, 1858, 1862, 1865, 1867, 1869, 1876, 1886, 1888, 1890, 1894, 1895, 1896, 1905, 1909, 1913, 1917, 1925, 1931, 1935, 1938, 1948, 1950, 1955, 1956, 1966, 1969, 1971, 1977, 1985, 1988, 1993, 2001, 2013, 2015, 2017, 2018, 2025, 2031, 2037, 2038, 2053, 2058, 2059, 2060, 2064, 2070, 2075, 2077, 2099, 2101, 2111, 2113, 2116, 2136, 2140, 2141, 2146, 2149, 2155, 2176, 2181, 2185, 2188, 2192, 2207, 2208, 2213, 2214, 2221, 2224, 2247, 2254, 2256, 2261, 2263, 2269, 2271, 2284, 2286, 2287, 2291, 2298, 2305, 2313, 2314, 2325, 2331, 2332, 2337, 2343, 2350, 2352, 2356, 2357, 2362, 2365, 2371, 2373, 2377, 2380, 2388, 2389, 2390, 2391, 2395, 2398, 2400, 2405, 2410, 2411, 2412, 2413, 2421, 2422, 2438, 2444, 2457, 2458, 2462, 2467, 2471, 2477, 2481, 2484, 2485, 2487, 2490, 2496, 2497, 2498, 2499, 2500, 2502, 2508, 2509, 2515, 2516, 2520, 2523, 2526, 2537, 2538, 2546, 2547, 2548, 2549, 2551, 2553, 2556, 2562, 2563, 2564, 2568, 2569, 2572, 2577, 2584, 2594, 2597, 2598, 2615, 2617, 2621, 2626, 2631, 2636, 2641, 2643, 2644, 2645, 2652, 2655, 2667, 2668, 2672, 2678, 2681, 2683, 2684, 2694, 2696, 2700, 2701, 2708, 2711, 2714, 2715, 2718, 2724, 2741, 2743, 2765, 2789, 2798, 2820, 2821, 2829, 2836, 2840, 2843, 2845, 2848, 2853, 2863, 2864, 2866, 2869, 2870, 2873, 2874, 2875, 2876, 2882, 2891, 2895, 2896, 2901, 2902, 2905, 2907, 2909, 2914, 2916, 2922, 2924, 2927, 2928, 2931, 2932, 2934, 2935, 2936, 2937, 2939, 2940, 2941, 2943, 2944, 2945, 2946, 2949, 2950, 2952, 2953, 2954, 2965, 2967, 2969, 2971, 2975, 2976, 2980, 2981, 2987, 2993, 2994, 2996, 2997, 2999, 3003, 3005, 3006, 3007, 3008, 3009, 3010, 3014, 3017, 3018, 3019, 3021, 3026, 3027, 3030, 3033, 3037, 3041, 3044, 3046, 3048, 3050, 3051, 3052, 3053, 3059, 3064, 3067, 3070, 3072, 3073, 3076, 3080, 3085, 3086, 3087, 3088, 3090, 3092, 3095, 3097, 3098, 3101, 3103, 3104, 3106, 3108, 3109, 3113, 3116, 3119, 3123, 3127, 3128, 3131, 3137, 3140, 3141, 3143, 3148, 3150, 3151, 3152, 3153, 3158, 3160, 3161, 3163, 3166, 3167, 3170, 3174, 3175, 3179, 3180, 3181, 3182, 3183, 3187, 3189, 3190, 3193, 3201, 3203, 3204, 3205, 3206, 3207, 3208, 3209, 3212, 3213, 3214, 3215, 3216, 3217, 3222, 3223, 3225, 3231, 3232, 3234, 3235, 3237, 3241, 3243, 3244, 3245, 3246, 3247, 3252, 3253, 3256, 3257, 3263, 3267, 3268, 3269, 3272, 3276, 3277, 3278, 3280, 3284, 3287, 3290, 3296, 3298, 3299, 3301, 3302, 3303, 3304, 3305, 3307, 3308, 3314, 3316, 3320, 3321, 3323, 3328, 3333, 3334, 3336, 3338, 3346, 3347, 3349, 3351, 3354, 3355, 3360, 3362, 3365, 3366, 3371, 3372, 3375, 3376, 3377, 3379, 3380, 3382, 3387, 3390, 3391, 3395, 3399, 3400, 3402, 3404, 3405, 3406, 3408, 3410, 3413, 3418, 3424, 3428, 3429, 3430, 3431, 3433, 3437, 3439, 3441, 3444, 3450, 3454, 3455, 3459, 3462, 3464, 3465, 3466, 3469, 3471, 3472, 3474, 3475, 3476, 3477, 3482, 3483, 3488, 3489, 3491, 3493, 3498, 3501, 3504, 3505, 3507, 3509, 3510, 3516, 3517, 3518, 3520, 3531, 3534, 3537, 3543, 3545, 3546, 3547, 3551, 3552, 3554, 3556, 3560, 3561, 3566, 3567, 3569, 3571, 3573, 3574, 3575, 3576, 3580, 3582, 3584, 3585, 3586, 3590, 3593, 3599, 3604, 3605, 3607, 3614, 3618, 3619, 3620, 3621, 3625, 3626, 3628, 3632, 3636, 3637, 3638, 3639, 3647, 3650, 3655, 3658, 3661, 3664, 3665, 3674, 3677, 3681, 3685, 3689, 3690, 3692, 3693, 3694, 3700, 3707, 3708, 3711, 3714, 3715, 3717, 3723, 3725, 3726, 3739, 3746, 3752, 3754, 3755, 3757, 3760, 3762, 3764, 3766, 3772, 3777, 3783, 3784, 3786, 3787, 3789, 3790, 3792, 3794, 3796, 3798, 3799, 3800, 3801, 3802, 3805, 3807, 3808, 3813, 3814, 3816, 3817, 3818, 3820, 3823, 3825, 3827, 3833, 3835, 3843, 3844, 3850, 3853, 3854, 3860, 3865, 3866, 3870, 3877, 3882, 3884, 3887, 3889, 3894, 3899, 3902, 3904, 3908, 3909, 3910, 3911, 3913, 3914, 3918, 3919, 3925, 3928, 3930, 3938, 3946, 3947, 3949, 3951, 3952, 3955, 3956, 3962, 3965, 3966, 3967, 3968, 3971, 3974, 3977, 3980, 3981, 3988, 3989, 3991, 3992, 3994, 3998, 4002, 4004, 4006, 4007, 4015, 4017, 4020, 4024, 4029, 4030, 4033, 4034, 4040, 4042, 4048, 4051, 4057, 4058, 4061, 4067, 4071, 4075, 4079, 4082, 4086, 4090, 4091, 4092, 4095, 4109, 4112, 4114, 4115, 4119, 4121, 4122, 4124, 4125, 4126, 4127, 4128, 4129, 4135, 4136, 4138, 4139, 4140, 4142, 4149, 4155, 4156, 4157, 4160, 4163, 4164, 4167, 4170, 4172, 4175, 4177, 4178, 4186, 4191, 4194, 4199, 4200, 4210, 4214, 4219, 4220, 4225, 4228, 4229, 4233, 4235, 4237, 4241, 4243, 4248, 4249, 4252, 4253, 4256, 4258, 4259, 4260, 4261, 4266, 4268, 4272, 4274, 4278, 4284, 4286, 4289, 4294, 4298, 4300, 4304, 4309, 4313, 4318, 4321, 4323, 4326, 4327, 4328, 4329, 4330, 4333, 4334, 4335, 4339, 4340, 4346, 4347, 4356, 4358, 4360, 4365, 4366, 4368, 4371, 4379, 4390, 4391, 4392, 4393, 4396, 4400, 4403, 4407, 4409, 4415, 4416, 4418, 4422, 4430, 4431, 4434, 4440, 4451, 4453, 4455, 4456, 4467, 4468, 4469, 4473, 4475, 4478, 4482, 4487, 4491, 4493, 4498, 4503, 4511, 4513, 4515, 4516, 4517, 4521, 4522, 4523, 4525, 4526, 4530, 4532, 4534, 4536, 4542, 4545, 4547, 4550, 4551, 4554, 4556, 4562, 4565, 4569, 4573, 4578, 4580, 4584, 4590, 4591, 4597, 4601, 4608, 4609, 4619, 4624, 4625, 4628, 4635, 4639, 4640, 4646, 4647, 4652, 4656, 4657, 4665, 4666, 4668, 4670, 4676, 4677, 4680, 4684, 4685, 4700, 4702, 4704, 4705, 4708, 4712, 4714, 4717, 4721, 4722, 4724, 4731, 4732, 4745, 4749, 4750, 4753, 4757, 4769, 4770, 4774, 4783, 4792, 4796, 4801, 4806, 4814, 4815, 4824, 4829, 4830, 4832, 4836, 4847, 4850, 4851, 4852, 4855, 4856, 4859, 4863, 4868, 4869, 4871, 4875, 4878, 4879, 4880, 4898, 4913, 4914, 4916, 4917, 4918, 4924, 4925, 4926, 4927, 4940, 4943, 4945, 4948, 4950, 4953, 4958, 4959, 4962, 4965, 4967, 4974, 4975, 4985, 4986, 4996, 5016, 5020, 5024, 5028, 5031, 5033, 5034, 5038, 5046, 5051, 5053, 5060, 5064, 5065, 5066, 5068, 5072, 5085, 5087, 5092, 5095, 5100, 5103, 5105, 5110, 5111, 5114, 5119, 5120, 5124, 5135, 5137, 5139, 5145, 5156, 5160, 5163, 5180, 5181, 5184, 5190, 5191, 5192, 5199, 5204, 5208, 5211, 5214, 5216, 5220, 5221, 5226, 5234, 5237, 5238, 5248, 5252, 5263, 5266, 5270, 5272, 5274, 5302, 5305, 5306, 5314, 5317, 5318, 5324, 5332, 5333, 5338, 5345, 5351, 5353, 5356, 5357, 5359, 5360, 5366, 5368, 5371, 5375, 5381, 5382, 5385, 5386, 5389, 5391, 5394, 5395, 5407, 5410, 5412, 5413, 5416, 5417, 5420, 5423, 5427, 5433, 5442, 5445, 5446, 5447, 5454, 5458, 5463, 5470, 5471, 5477, 5479, 5481, 5489, 5491, 5495, 5496, 5499, 5504, 5509, 5512, 5513, 5519, 5520, 5529, 5530, 5534, 5535, 5541, 5545, 5548, 5557, 5558, 5569, 5570, 5572, 5575, 5579, 5584, 5589, 5593, 5603, 5610, 5613, 5620, 5621, 5628, 5636, 5639, 5640, 5642, 5645, 5648, 5652, 5655, 5662, 5663, 5669, 5672, 5679, 5685, 5690, 5697, 5710, 5714, 5715, 5717, 5718, 5719, 5720, 5722, 5723, 5731, 5736, 5740, 5746, 5754, 5757, 5761, 5769, 5771, 5776, 5777, 5779, 5786, 5790, 5794, 5799, 5802, 5811, 5814, 5821, 5826, 5827, 5828, 5833, 5838, 5841, 5844, 5846, 5853, 5854, 5858, 5861, 5862, 5868, 5870, 5871, 5874, 5875, 5879, 5880, 5891, 5898, 5899, 5906, 5911, 5916, 5918, 5919, 5922, 5926, 5929, 5930, 5933, 5935, 5941, 5944, 5957, 5959, 5960, 5962, 5964, 5971, 5976, 5979, 5982, 5984, 5991, 5993, 5994, 6000, 6006, 6008, 6009, 6016, 6018, 6022, 6024, 6028, 6033, 6035, 6037, 6049, 6050, 6058, 6061, 6062, 6064, 6066, 6069, 6070, 6078, 6081, 6092, 6098, 6100, 6109, 6114, 6115, 6119, 6122, 6123, 6130, 6141, 6146, 6147, 6148, 6155, 6159, 6171, 6187, 6188, 6190, 6199, 6214, 6218, 6223, 6228, 6234, 6246, 6247, 6249, 6254, 6257, 6258, 6260, 6261, 6267, 6269, 6270, 6272, 6277, 6279, 6282, 6285, 6287, 6289, 6294, 6300, 6301, 6303, 6306, 6307, 6308, 6315, 6316, 6319, 6320, 6321, 6322, 6324, 6329, 6331, 6332, 6335, 6337, 6339, 6346, 6347, 6349, 6350, 6355, 6359, 6361, 6362, 6365, 6366, 6367, 6369, 6370, 6372, 6376, 6380, 6385, 6386, 6388, 6394, 6395, 6396, 6398, 6399, 6400, 6406, 6408, 6411, 6412, 6413, 6415, 6418, 6419, 6420, 6421, 6436, 6440, 6442, 6443, 6449, 6465, 6467, 6469, 6470, 6472, 6474, 6476, 6478, 6479, 6480, 6481, 6485, 6486, 6488, 6489, 6491, 6493, 6495, 6496, 6497, 6501, 6506, 6507, 6511, 6513, 6514, 6515, 6518, 6520, 6523, 6525, 6529, 6530, 6531, 6534, 6538, 6539, 6542, 6543, 6546, 6548, 6549, 6552, 6553, 6555, 6558, 6560, 6562, 6563, 6564, 6565, 6566, 6568, 6569, 6572, 6575, 6579, 6580, 6581, 6584, 6588, 6589, 6590, 6592, 6595, 6598, 6601, 6608, 6609, 6612, 6613, 6621, 6623, 6625, 6626, 6627, 6628, 6629, 6630, 6631, 6633, 6641, 6643, 6645, 6647, 6652, 6653, 6654, 6656, 6660, 6661, 6662, 6664, 6672, 6676, 6677, 6681, 6684, 6685, 6687, 6693, 6695, 6698, 6700, 6701, 6706, 6708, 6711, 6712, 6713, 6717, 6718, 6719, 6720, 6721, 6722, 6726, 6727, 6729, 6734, 6738, 6739, 6741, 6742, 6743, 6747, 6749, 6752, 6753, 6755, 6762, 6765, 6766, 6769, 6771, 6772, 6773, 6775, 6776, 6778, 6779, 6781, 6783, 6788, 6791, 6792, 6793, 6796, 6799, 6801, 6806, 6807, 6812, 6813, 6815, 6817, 6818, 6819, 6820, 6823, 6826, 6828, 6830, 6832, 6835, 6837, 6843, 6844, 6845, 6848, 6849, 6852, 6854, 6860, 6863, 6865, 6869, 6871, 6872, 6874, 6876, 6878, 6879, 6880, 6884, 6886, 6887, 6888, 6891, 6894, 6897, 6898, 6900, 6908, 6909, 6910, 6911, 6912, 6915, 6916, 6917, 6918, 6920, 6921, 6922, 6925, 6926, 6935, 6936, 6937, 6938, 6940, 6942, 6946, 6949, 6952, 6956, 6957, 6959, 6960, 6961, 6962, 6964, 6965, 6968, 6969, 6970, 6972, 6973, 6974, 6976, 6977, 6982, 6983, 6985, 6997, 7003, 7004, 7005, 7006, 7007, 7008, 7009, 7011, 7012, 7014, 7015, 7017, 7018, 7019, 7020, 7021, 7023, 7026, 7028, 7030, 7033, 7034, 7037, 7039, 7042, 7046, 7049, 7052, 7054, 7057, 7060, 7062, 7063, 7065, 7068, 7070, 7071, 7072, 7073, 7074, 7076, 7079, 7080, 7083, 7084, 7085, 7088, 7090, 7091, 7093, 7098, 7099, 7101, 7103, 7106, 7110, 7111, 7114, 7115, 7116, 7117, 7118, 7119, 7120, 7124, 7129, 7130, 7131, 7133, 7142, 7143, 7146, 7147, 7148, 7149, 7152, 7155, 7156, 7157, 7158, 7161, 7162, 7165, 7167, 7168, 7174, 7175, 7176, 7177, 7181, 7183, 7184, 7186, 7187, 7188, 7189, 7190, 7191, 7192, 7193, 7195, 7197, 7200, 7204, 7213, 7217, 7218, 7222, 7224, 7226, 7228, 7230, 7232, 7236, 7237, 7238, 7241, 7242, 7244, 7248, 7249, 7250, 7252, 7253, 7254, 7255, 7256, 7258, 7260, 7261, 7262, 7263, 7265, 7266, 7269, 7272, 7273, 7274, 7275, 7279, 7290, 7291, 7294, 7295, 7296, 7297, 7299, 7307, 7308, 7309, 7312, 7313, 7318, 7320, 7322, 7324, 7327, 7329, 7330, 7333, 7346, 7348, 7351, 7352, 7355, 7356, 7358, 7360, 7361, 7367, 7369, 7370, 7371, 7378, 7380, 7382, 7383, 7385, 7386, 7388, 7389, 7390, 7391, 7392, 7395, 7396, 7398, 7401, 7402, 7403, 7410, 7416, 7417, 7418, 7420, 7426, 7429, 7432, 7436, 7437, 7442, 7445, 7449, 7450, 7454, 7455, 7458, 7459, 7460, 7461, 7462, 7467, 7468, 7469, 7472, 7477, 7478, 7480, 7482, 7483, 7485, 7486, 7489, 7491, 7494, 7497, 7498, 7502, 7507, 7508, 7514, 7517, 7518, 7523, 7524, 7526, 7529, 7530, 7531, 7532, 7533, 7535, 7539, 7543, 7544, 7545, 7546, 7547, 7549, 7550, 7551, 7553, 7554, 7557, 7559, 7560, 7561, 7562, 7564, 7568, 7569, 7571, 7576, 7577, 7581, 7583, 7584, 7588, 7589, 7590, 7592, 7593, 7596, 7600, 7606, 7607, 7609, 7610, 7614, 7615, 7616, 7618, 7620, 7621, 7622, 7628, 7631, 7632, 7633, 7635, 7644, 7645, 7646, 7647, 7649, 7652, 7653, 7655, 7656, 7658, 7660, 7662, 7664, 7665, 7666, 7667, 7670, 7671, 7673, 7675, 7679, 7680, 7687, 7688, 7690, 7692, 7693, 7694, 7699, 7704, 7707, 7710, 7715, 7717, 7720, 7723, 7725, 7728, 7729, 7730, 7731, 7732, 7734, 7736, 7739, 7741, 7742, 7745, 7747, 7754, 7755, 7759, 7761, 7764, 7766, 7767, 7768, 7775, 7776, 7780, 7782, 7784, 7786, 7788, 7790, 7795, 7797, 7799, 7800, 7802, 7805, 7806, 7809, 7810, 7813, 7814, 7817, 7818, 7824, 7825, 7828, 7829, 7831, 7832, 7834, 7835, 7841, 7846, 7848, 7850, 7852, 7853, 7856, 7857, 7858, 7860, 7862, 7864, 7873, 7874, 7876, 7877, 7879, 7885, 7889, 7891, 7892, 7893, 7896, 7899, 7906, 7907, 7910, 7911, 7913, 7914, 7916, 7918, 7922, 7925, 7926, 7927, 7932, 7933, 7935, 7936, 7937, 7940, 7944, 7945, 7946, 7947, 7949, 7950, 7954, 7956, 7957, 7960, 7962, 7964, 7965, 7968, 7971, 7972, 7973, 7974, 7975, 7977, 7978, 7981, 7982, 7983, 7986, 7988, 7989, 7992, 7995, 7996, 7997, 7999, 8008, 8010, 8011, 8012, 8013, 8014, 8016, 8017, 8021, 8024, 8028, 8029, 8030, 8034, 8037, 8039, 8040, 8041, 8047, 8048, 8049, 8052, 8053, 8058, 8059, 8062, 8067, 8069, 8071, 8072, 8073, 8074, 8079, 8082, 8084, 8088, 8091, 8092, 8094, 8095, 8102, 8103, 8104, 8108, 8110, 8111, 8113, 8114, 8115, 8117, 8118, 8122, 8127, 8130, 8133, 8134, 8138, 8141, 8142, 8145, 8146, 8149, 8154, 8158, 8159, 8160, 8163, 8166, 8174, 8175, 8177, 8184, 8185, 8186, 8188, 8189, 8190, 8191, 8192, 8194, 8199, 8201, 8203, 8207, 8212, 8214, 8215, 8218, 8219, 8220, 8223, 8226, 8227, 8229, 8231, 8232, 8233, 8238, 8239, 8241, 8242, 8248, 8249, 8250, 8253, 8254, 8257, 8259, 8260, 8261, 8262, 8268, 8274, 8275, 8277, 8280, 8282, 8284, 8285, 8288, 8289, 8290, 8292, 8294, 8297, 8298, 8300, 8301, 8304, 8307, 8308, 8310, 8312, 8318, 8327, 8332, 8336, 8340, 8342, 8343, 8344, 8346, 8348, 8350, 8351, 8353, 8360, 8362, 8363, 8364, 8365, 8368, 8374, 8376, 8377, 8379, 8383, 8386, 8387, 8389, 8391, 8393, 8394, 8398, 8399, 8400, 8402, 8405, 8407, 8408, 8409, 8410, 8412, 8415, 8416, 8418, 8420, 8423, 8424, 8426, 8428, 8429, 8435, 8436, 8437, 8439, 8440, 8443, 8444, 8447, 8449, 8451, 8452, 8453, 8455, 8459, 8460, 8461, 8467, 8468, 8470, 8474, 8475, 8478, 8479, 8485, 8486, 8491, 8493, 8495, 8496, 8503, 8504, 8507, 8511, 8514, 8521, 8522, 8524, 8527, 8530, 8532, 8534, 8538, 8541, 8542, 8543, 8544, 8551, 8554, 8555, 8557, 8561, 8565, 8566, 8567, 8570, 8575, 8576, 8579, 8580, 8582, 8584, 8592, 8593, 8595, 8596, 8604, 8608, 8610, 8611, 8612, 8613, 8616, 8619, 8623, 8625, 8626, 8628, 8629, 8630, 8631, 8634, 8635, 8641, 8643, 8646, 8651, 8654, 8655, 8661, 8668, 8670, 8674, 8676, 8677, 8678, 8684, 8686, 8687, 8688, 8689, 8692, 8693, 8697, 8698, 8705, 8713, 8717, 8719, 8721, 8723, 8724, 8726, 8727, 8729, 8730, 8732, 8740, 8741, 8744, 8745, 8746, 8747, 8749, 8750, 8751, 8759, 8765, 8771, 8772, 8773, 8774, 8779, 8781, 8783, 8787, 8788, 8791, 8794, 8798, 8802, 8804, 8806, 8814, 8818, 8819, 8822, 8825, 8827, 8830, 8832, 8836, 8837, 8839, 8842, 8845, 8847, 8849, 8851, 8852, 8854, 8856, 8858, 8859, 8860, 8862, 8863, 8868, 8870, 8875, 8876, 8881, 8884, 8890, 8892, 8894, 8898, 8901, 8908, 8911, 8912, 8914, 8920, 8927, 8930, 8931, 8932, 8934, 8936, 8937, 8938, 8940, 8943, 8944, 8945, 8947, 8949, 8950, 8951, 8955, 8956, 8958, 8959, 8963, 8965, 8966, 8973, 8975, 8978, 8982, 8984, 8986, 8994, 8997, 8998, 9002, 9003, 9008, 9013, 9014, 9015, 9021, 9023, 9027, 9029, 9030, 9031, 9038, 9042, 9044, 9051, 9052, 9055, 9056, 9057, 9058, 9061, 9062, 9064, 9066, 9067, 9072, 9073, 9074, 9076, 9079, 9081, 9082, 9083, 9084, 9085, 9086, 9089, 9093, 9097, 9098, 9100, 9102, 9110, 9121, 9125, 9126, 9128, 9129, 9130, 9131, 9142, 9144, 9145, 9146, 9152, 9154, 9155, 9161, 9162, 9165, 9166, 9172, 9176, 9179, 9183, 9186, 9187, 9188, 9189, 9191, 9193, 9196, 9201, 9205, 9206, 9210, 9214, 9218, 9224, 9225, 9230, 9231, 9237, 9243, 9246, 9247, 9249, 9250, 9253, 9259, 9268, 9274, 9277, 9281, 9282, 9283, 9284, 9287, 9292, 9296, 9300, 9301, 9305, 9315, 9317, 9319, 9326, 9328, 9330, 9331, 9335, 9337, 9340, 9344, 9350, 9352, 9357, 9365, 9372, 9379, 9388, 9396, 9398, 9400, 9401, 9405, 9406, 9407, 9410, 9414, 9417, 9433, 9434, 9436, 9437, 9438, 9440, 9444, 9451, 9452, 9461, 9463, 9469, 9471, 9482, 9483, 9484, 9488, 9490, 9498, 9500, 9503, 9506, 9507, 9508, 9510, 9514, 9517, 9527, 9532, 9534, 9535, 9541, 9543, 9546, 9548, 9550, 9552, 9554, 9557, 9560, 9561, 9562, 9567, 9575, 9578, 9582, 9584, 9588, 9596, 9604, 9609, 9613, 9614, 9619, 9621, 9626, 9638, 9653, 9670, 9677, 9679, 9683, 9688, 9692, 9695, 9696, 9697, 9698, 9699, 9700, 9704, 9710, 9715, 9716, 9717, 9720, 9726, 9729, 9733, 9738, 9742, 9745, 9747, 9749, 9750, 9757, 9763, 9767, 9778, 9779, 9784, 9785, 9791, 9796, 9797, 9799, 9800, 9803, 9805, 9809, 9810, 9815, 9817, 9819, 9827, 9830, 9837, 9847, 9848, 9850, 9852, 9864, 9866, 9867, 9868, 9874, 9879, 9884, 9890, 9891, 9892, 9893, 9896, 9904, 9913, 9921, 9922, 9923, 9927, 9932, 9933, 9934, 9938, 9941, 9943, 9946, 9949, 9950, 9953, 9956, 9957, 9958, 9960, 9962, 9966, 9968, 9971, 9979, 9987, 9990, 9995, 9997, 10000, 10001, 10002, 10008, 10011, 10014, 10015, 10021, 10022, 10023, 10028, 10029, 10033, 10035, 10044, 10050, 10052, 10054, 10058, 10065, 10073, 10079, 10083, 10093, 10097, 10100, 10106, 10111, 10112, 10117, 10119, 10121, 10126, 10127, 10129, 10130, 10135, 10137, 10140, 10144, 10169, 10170, 10171, 10182, 10187, 10189, 10196, 10204, 10209, 10217, 10222, 10227, 10229, 10233, 10234, 10235, 10238, 10239, 10240, 10241, 10244, 10251, 10252, 10254, 10255, 10256, 10266, 10270, 10276, 10281, 10295, 10301, 10302, 10307, 10308, 10316, 10320, 10327, 10329, 10331, 10334, 10338, 10339, 10341, 10346, 10354, 10355, 10357, 10360, 10378, 10379, 10380, 10386, 10391, 10392, 10397, 10398, 10400, 10401, 10409, 10414, 10419, 10422, 10424, 10426, 10430, 10433, 10438, 10439, 10442, 10443, 10446, 10447, 10451, 10452, 10457, 10463, 10464, 10468, 10470, 10472, 10474, 10476, 10483, 10485, 10486, 10487, 10502, 10517, 10518, 10525, 10526, 10527, 10531, 10532, 10536, 10537, 10539, 10543, 10545, 10546, 10547, 10552, 10561, 10564, 10573, 10585, 10587, 10597, 10603, 10604, 10606, 10609, 10612, 10613, 10615, 10618, 10619, 10620, 10622, 10631, 10637, 10638, 10639, 10648, 10654, 10656, 10661, 10670, 10678, 10680, 10683, 10688, 10693, 10698, 10708, 10710, 10711, 10713, 10715, 10716, 10719, 10720, 10735, 10736, 10739, 10748, 10751, 10760, 10764, 10769, 10770, 10787, 10790, 10795, 10799, 10806, 10818, 10824, 10827, 10832, 10839, 10842, 10845, 10850, 10869, 10875, 10877, 10883, 10884, 10886, 10891, 10901, 10904, 10916, 10924, 10928, 10932, 10934, 10935, 10943, 10944, 10946, 10951, 10956, 10959, 10965, 10966, 10967, 10978, 10983, 10984, 10987, 10988, 10997, 10998, 11001, 11002, 11017, 11019, 11021, 11027, 11035, 11047, 11050, 11051, 11052, 11055, 11057, 11063, 11072, 11075, 11076, 11082, 11084, 11093, 11094, 11095, 11100, 11101, 11107, 11108, 11115, 11117, 11118, 11129, 11135, 11139, 11143, 11157, 11163, 11169, 11172, 11174, 11179, 11186, 11192, 11195, 11196, 11198, 11208, 11210, 11212, 11222, 11225, 11230, 11234, 11237, 11244, 11245, 11247, 11249, 11254, 11255, 11256, 11257, 11263, 11265, 11271, 11277, 11279, 11280, 11284, 11290, 11302, 11305, 11306, 11312, 11320, 11324, 11327, 11331, 11335, 11336, 11340, 11348, 11350, 11352, 11361, 11363, 11364, 11365, 11368, 11388, 11393, 11397, 11403, 11404, 11405, 11415, 11420, 11424, 11426, 11429, 11434, 11436, 11437, 11448, 11452, 11455, 11467, 11468, 11472, 11478, 11482, 11490, 11495, 11497, 11516, 11520, 11529, 11530, 11535, 11536, 11539, 11546, 11548, 11552, 11558, 11565, 11567, 11570, 11572, 11573, 11574, 11578, 11582, 11587, 11591, 11593, 11600, 11603, 11605, 11606, 11610, 11612, 11616, 11628, 11632, 11633, 11636, 11639, 11659, 11672, 11674, 11678, 11679, 11682, 11683, 11684, 11686, 11692, 11693, 11703, 11713, 11719, 11723, 11732, 11737, 11742, 11743, 11744, 11750, 11755, 11757, 11762, 11767, 11769, 11773, 11778, 11780, 11781, 11783, 11787, 11790, 11794, 11802, 11809, 11810, 11816, 11837, 11847, 11849, 11851, 11856, 11861, 11862, 11869, 11872, 11876, 11878, 11879, 11880, 11891, 11897, 11900, 11908, 11910, 11912, 11914, 11921, 11924, 11925, 11929, 11930, 11931, 11932, 11933, 11936, 11937, 11941, 11943, 11944, 11945, 11949, 11950, 11952, 11960, 11968, 11969, 11972, 11980, 11982, 11984, 11988, 11990, 11994, 12000, 12002, 12009, 12010, 12015, 12020, 12023, 12028, 12035, 12040, 12049, 12052, 12055, 12063, 12071, 12074, 12081, 12082, 12083, 12084, 12085, 12087, 12089, 12090, 12091, 12099, 12101, 12112, 12116, 12126, 12129, 12135, 12138, 12142, 12155, 12159, 12160, 12161, 12170, 12173, 12187, 12198, 12204, 12229, 12231, 12250, 12255, 12259, 12261, 12263, 12272, 12273, 12275, 12277, 12278, 12281, 12285, 12286, 12287, 12288, 12289, 12291, 12293, 12295, 12303, 12304, 12306, 12309, 12311, 12314, 12315, 12316, 12322, 12325, 12327, 12331, 12336, 12340, 12341, 12344, 12352, 12356, 12358, 12359, 12360, 12363, 12365, 12366, 12368, 12370, 12373, 12375, 12378, 12379, 12383, 12386, 12390, 12393, 12398, 12402, 12403, 12409, 12417, 12422, 12443, 12444, 12452, 12454, 12460, 12463, 12470, 12472, 12473, 12475, 12478, 12487, 12489, 12490, 12494, 12495, 12496, 12505, 12506, 12508, 12509, 12510, 12512, 12513, 12514, 12516, 12521, 12523, 12525, 12526, 12529, 12530, 12535, 12541, 12551, 12555, 12560, 12562, 12564, 12567, 12570, 12571, 12573, 12575, 12577, 12578, 12581, 12582, 12583, 12591, 12593, 12599, 12600, 12603, 12606, 12610, 12612, 12613, 12621, 12623, 12626, 12627, 12632, 12634, 12635, 12636, 12638, 12639, 12642, 12643, 12651, 12652, 12653, 12656, 12660, 12661, 12662, 12664, 12669, 12670, 12671, 12672, 12674, 12675, 12676, 12678, 12679, 12680, 12683, 12684, 12686, 12687, 12689, 12694, 12696, 12699, 12703, 12704, 12706, 12708, 12709, 12715, 12719, 12722, 12723, 12725, 12726, 12730, 12732, 12733, 12735, 12741, 12745, 12746, 12751, 12755, 12757, 12760, 12761, 12764, 12769, 12770, 12771, 12772, 12775, 12777, 12784, 12785, 12786, 12787, 12789, 12791, 12793, 12794, 12795, 12796, 12799, 12803, 12805, 12807, 12808, 12810, 12813, 12817, 12818, 12823, 12824, 12826, 12828, 12829, 12830, 12842, 12847, 12848, 12849, 12852, 12853, 12855, 12860, 12868, 12874, 12878, 12888, 12891, 12896, 12897, 12898, 12902, 12903, 12923, 12927, 12932, 12933, 12934, 12938, 12939, 12940, 12942, 12943, 12945, 12948, 12952, 12958, 12964, 12967, 12970, 12976, 12977, 12979, 12981, 12982, 12985, 12987, 12991, 12994, 12998, 12999, 13001, 13010, 13013, 13021, 13022, 13025, 13037, 13041, 13042, 13046, 13047, 13048, 13050, 13051, 13054, 13059, 13061, 13067, 13077, 13086, 13088, 13090, 13093, 13096, 13097, 13098, 13100, 13102, 13103, 13104, 13107, 13115, 13120, 13123, 13124, 13125, 13126, 13130, 13131, 13134, 13137, 13138, 13139, 13141, 13143, 13145, 13152, 13154, 13163, 13164, 13171, 13175, 13177, 13179, 13181, 13182, 13185, 13190, 13193, 13194, 13195, 13196, 13197, 13198, 13199, 13205, 13207, 13209, 13211, 13213, 13214, 13215, 13218, 13223, 13224, 13225, 13229, 13230, 13231, 13239, 13241, 13244, 13248, 13249, 13250, 13252, 13257, 13259, 13260, 13262, 13264, 13268, 13271, 13272, 13277, 13282, 13283, 13284, 13287, 13294, 13295, 13296, 13300, 13304, 13306, 13308, 13309, 13310, 13311, 13312, 13313, 13314, 13316, 13318, 13320, 13321, 13324, 13327, 13331, 13339, 13340, 13342, 13349, 13351, 13355, 13357, 13358, 13359, 13366, 13369, 13370, 13371, 13373, 13382, 13384, 13388, 13392, 13400, 13401, 13405, 13406, 13412, 13416, 13422, 13423, 13426, 13430, 13431, 13433, 13441, 13446, 13450, 13456, 13457, 13458, 13459, 13462, 13472, 13476, 13482, 13483, 13484, 13486, 13489, 13490, 13494, 13496, 13499, 13503, 13504, 13507, 13510, 13519, 13520, 13521, 13523, 13525, 13529, 13531, 13532, 13533, 13534, 13536, 13538, 13541, 13547, 13552, 13553, 13556, 13557, 13565, 13569, 13570, 13571, 13576, 13584, 13589, 13591, 13592, 13595, 13596, 13603, 13610, 13611, 13616, 13617, 13622, 13625, 13632, 13637, 13638, 13639, 13640, 13645, 13646, 13648, 13667, 13673, 13674, 13675, 13676, 13677, 13680, 13681, 13682, 13686, 13687, 13693, 13700, 13704, 13706, 13708, 13710, 13712, 13718, 13720, 13722, 13728, 13731, 13733, 13735, 13738, 13743, 13746, 13749, 13760, 13764, 13766, 13770, 13772, 13774, 13776, 13777, 13779, 13790, 13791, 13795, 13799, 13803, 13804, 13805, 13811, 13812, 13813, 13821, 13823, 13826, 13827, 13828, 13830, 13833, 13840, 13845, 13848, 13849, 13851, 13855, 13857, 13862, 13863, 13864, 13867, 13875, 13877, 13885, 13893, 13895, 13898, 13901, 13902, 13909, 13914, 13915, 13917, 13921, 13934, 13941, 13943, 13947, 13955, 13957, 13962, 13964, 13965, 13970, 13985, 13988, 13989, 13990, 13993, 14006, 14007, 14011, 14013, 14022, 14032, 14036, 14037, 14038, 14042, 14045, 14047, 14052, 14058, 14059, 14062, 14065, 14067, 14073, 14078, 14085, 14087, 14091, 14092, 14095, 14098, 14099, 14100, 14104, 14105, 14106, 14111, 14115, 14116, 14117, 14118, 14121, 14127, 14129, 14130, 14132, 14133, 14135, 14136, 14138, 14141, 14149, 14158, 14163, 14164, 14165, 14169, 14183, 14189, 14192, 14193, 14194, 14197, 14206, 14219, 14229, 14235, 14237, 14240, 14254, 14255, 14262, 14267, 14269, 14270, 14275, 14277, 14284, 14291, 14304, 14306, 14310, 14324, 14325, 14326, 14332, 14337, 14338, 14341, 14351, 14355, 14357, 14360, 14361, 14367, 14378, 14379, 14401, 14411, 14422, 14425, 14426, 14430, 14437, 14448, 14449, 14452, 14456, 14461, 14464, 14470, 14473, 14475, 14482, 14485, 14487, 14495, 14496, 14497, 14504, 14513, 14514, 14518, 14520, 14526, 14529, 14541, 14548, 14550, 14558, 14559, 14561, 14562, 14568, 14573, 14578, 14581, 14587, 14594, 14622, 14623, 14626, 14631, 14636, 14643, 14644, 14646, 14650, 14664, 14665, 14670, 14671, 14674, 14686, 14687, 14690, 14709, 14727, 14730, 14736, 14738, 14747, 14757, 14760, 14766, 14767, 14768, 14771, 14772, 14773, 14775, 14779, 14780, 14790, 14809, 14816, 14821, 14822, 14824, 14836, 14840, 14841, 14844, 14847, 14849, 14851, 14854, 14855, 14861, 14865, 14875, 14876, 14881, 14887, 14895, 14903, 14914, 14917, 14921, 14922, 14923, 14931, 14932, 14935, 14936, 14938, 14940, 14958, 14963, 14969, 14973, 14980, 14981, 14982, 14986, 14987, 14993, 14996, 15009, 15020, 15021, 15022, 15024, 15025, 15037, 15043, 15044, 15047, 15060, 15061, 15062, 15068, 15073, 15082, 15090, 15098, 15117, 15118, 15122, 15136, 15146, 15147, 15169, 15174, 15178, 15179, 15182, 15187, 15191, 15194, 15197, 15200, 15211, 15213, 15216, 15218, 15220, 15223, 15242, 15248, 15252, 15258, 15259, 15261, 15262, 15264, 15265, 15272, 15275, 15276, 15285, 15302, 15315, 15317, 15321, 15325, 15327, 15335, 15337, 15339, 15340, 15345, 15348, 15349, 15350, 15352, 15357, 15360, 15377, 15382, 15385, 15386, 15392, 15394, 15413, 15416, 15417, 15419, 15420, 15423, 15424, 15432, 15439, 15442, 15453, 15456, 15461, 15468, 15475, 15484, 15486, 15490, 15492, 15503, 15504, 15526, 15527, 15528, 15532, 15534, 15539, 15545, 15548, 15557, 15558, 15564, 15565, 15577, 15579, 15581, 15590, 15599, 15600, 15603, 15614, 15620, 15621, 15626, 15627, 15630, 15634, 15656, 15681, 15691, 15692, 15698, 15699, 15704, 15708, 15710, 15712, 15714, 15717, 15723, 15727, 15728, 15732, 15734, 15736, 15738, 15741, 15744, 15755, 15762, 15765, 15768, 15771, 15774, 15775, 15777, 15783, 15793, 15795, 15820, 15823, 15826, 15833, 15835, 15837, 15847, 15856, 15861, 15868, 15871, 15875, 15884, 15899, 15906, 15909, 15922, 15923, 15927, 15928, 15935, 15936, 15940, 15942, 15945, 15946, 15950, 15951, 15953, 15958, 15961, 15966, 15968, 15971, 15973, 15975, 15979, 15995, 15996, 16004, 16005, 16012, 16014, 16018, 16024, 16025, 16029, 16031, 16036, 16037, 16038, 16043, 16049, 16053, 16055, 16060, 16069, 16074, 16077, 16082, 16085, 16087, 16090, 16096, 16098, 16110, 16113, 16127, 16129, 16132, 16139, 16150, 16154, 16165, 16192, 16197, 16202, 16214, 16217, 16219, 16222, 16223, 16241, 16242, 16243, 16244, 16254, 16264, 16265, 16269, 16271, 16277, 16281, 16283, 16287, 16290, 16292, 16297, 16298, 16301, 16302, 16304, 16305, 16306, 16311, 16312, 16316, 16323, 16339, 16341, 16346, 16373, 16376, 16380, 16384, 16389, 16396, 16402, 16405, 16406, 16408, 16411, 16413, 16418, 16425, 16428, 16433, 16438, 16439, 16443, 16446, 16448, 16449, 16452, 16464, 16465, 16468, 16470, 16484, 16485, 16487, 16488, 16490, 16502, 16507, 16514, 16516, 16522, 16529, 16542, 16546, 16552, 16554, 16556, 16558, 16561, 16565, 16568, 16569, 16570, 16573, 16579, 16585, 16589, 16593, 16597, 16610, 16619, 16627, 16633, 16643, 16645, 16655, 16658, 16661, 16670, 16672, 16674, 16682, 16696, 16702, 16707, 16724, 16730, 16743, 16752, 16754, 16756, 16773, 16777, 16783, 16793, 16806, 16811, 16814, 16821, 16826, 16827, 16835, 16840, 16861, 16864, 16872, 16878, 16884, 16887, 16888, 16891, 16901, 16922, 16944, 16952, 16963, 17010, 17027, 17028, 17037, 17044, 17047, 17048, 17049, 17050, 17052, 17057, 17067, 17072, 17079, 17081, 17084, 17086, 17088, 17093, 17096, 17097, 17098, 17099, 17101, 17102, 17104, 17107, 17109, 17115, 17116, 17120, 17122, 17123, 17126, 17127, 17128, 17132, 17136, 17138, 17148, 17153, 17154, 17157, 17161, 17168, 17171, 17172, 17176, 17177, 17180, 17184, 17187, 17188, 17189, 17190, 17191, 17192, 17195, 17196, 17199, 17200, 17202, 17204, 17205, 17207, 17210, 17213, 17215, 17217, 17218, 17220, 17222, 17224, 17225, 17227, 17228, 17229, 17231, 17241, 17249, 17254, 17260, 17265, 17268, 17274, 17278, 17279, 17285, 17314, 17330, 17332, 17339, 17340, 17344, 17345, 17346, 17349, 17350, 17352, 17353, 17354, 17357, 17360, 17361, 17366, 17370, 17371, 17372, 17383, 17389, 17390, 17392, 17393, 17397, 17401, 17402, 17403, 17405, 17406, 17408, 17412, 17414, 17415, 17417, 17418, 17420, 17421, 17422, 17427, 17435, 17436, 17439, 17443, 17447, 17451, 17454, 17455, 17459, 17460, 17462, 17463, 17467, 17472, 17474, 17475, 17476, 17477, 17478, 17481, 17488, 17502, 17505, 17507, 17509, 17511, 17515, 17521, 17522, 17523, 17524, 17525, 17527, 17529, 17530, 17533, 17534, 17535, 17537, 17540, 17543, 17546, 17547, 17548, 17550, 17552, 17553, 17556, 17557, 17560, 17562, 17564, 17565, 17568, 17570, 17571, 17580, 17581, 17584, 17585, 17588, 17589, 17591, 17592, 17594, 17595, 17598, 17600, 17601, 17606, 17614, 17615, 17622, 17623, 17627, 17628, 17633, 17634, 17640, 17641, 17642, 17647, 17648, 17649, 17650, 17652, 17654, 17656, 17658, 17662, 17663, 17665, 17668, 17669, 17670, 17672, 17674, 17676, 17680, 17683, 17687, 17688, 17689, 17692, 17693, 17694, 17697, 17698, 17699, 17704, 17711, 17713, 17715, 17716, 17717, 17720, 17724, 17725, 17727, 17733, 17735, 17739, 17745, 17748, 17750, 17752, 17754, 17756, 17758, 17765, 17766, 17767, 17768, 17769, 17776, 17781, 17783, 17789, 17792, 17794, 17795, 17798, 17800, 17805, 17806, 17807, 17810, 17816, 17818, 17820, 17822, 17826, 17831, 17834, 17838, 17839, 17843, 17844, 17845, 17848, 17850, 17853, 17854, 17855, 17860, 17861, 17863, 17865, 17873, 17879, 17883, 17884, 17885, 17886, 17888, 17895, 17898, 17900, 17901, 17909, 17911, 17912, 17915, 17919, 17920, 17921, 17923, 17928, 17929, 17931, 17932, 17935, 17937, 17938, 17944, 17946, 17950, 17953, 17954, 17955, 17957, 17961, 17962, 17966, 17967, 17970, 17971, 17974, 17975, 17985, 17989, 17990, 17992, 17997, 17998, 18002, 18003, 18004, 18006, 18010, 18019, 18022, 18023, 18025, 18035, 18044, 18045, 18049, 18050, 18052, 18056, 18058, 18059, 18062, 18065, 18066, 18072, 18073, 18074, 18078, 18083, 18087, 18091, 18093, 18096, 18100, 18102, 18107, 18108, 18111, 18112, 18115, 18116, 18118, 18122, 18123, 18125, 18128, 18129, 18131, 18137, 18138, 18139, 18142, 18143, 18148, 18151, 18152, 18153, 18154, 18155, 18157, 18159, 18161, 18163, 18165, 18171, 18172, 18175, 18176, 18177, 18178, 18180, 18182, 18184, 18185, 18187, 18197, 18204, 18208, 18210, 18212, 18214, 18215, 18218, 18219, 18220, 18223, 18227, 18230, 18231, 18232, 18234, 18238, 18239, 18240, 18243, 18244, 18249, 18250, 18258, 18263, 18268, 18271, 18276, 18277, 18280, 18286, 18288, 18292, 18298, 18299, 18300, 18301, 18305, 18309, 18314, 18315, 18319, 18322, 18324, 18332, 18333, 18334, 18336, 18337, 18341, 18345, 18347, 18349, 18352, 18354, 18358, 18359, 18361, 18365, 18366, 18367, 18371, 18373, 18378, 18381, 18382, 18388, 18389, 18395, 18397, 18398, 18401, 18406, 18408, 18409, 18413, 18416, 18417, 18420, 18428, 18430, 18431, 18435, 18436, 18442, 18444, 18445, 18449, 18450, 18452, 18453, 18458, 18461, 18476, 18477, 18480, 18485, 18489, 18491, 18493, 18498, 18499, 18501, 18502, 18513, 18514, 18520, 18521, 18528, 18530, 18533, 18537, 18538, 18541, 18544, 18559, 18560, 18562, 18566, 18567, 18568, 18571, 18573, 18574, 18579, 18587, 18588, 18589, 18594, 18595, 18596, 18599, 18600, 18609, 18620, 18621, 18629, 18630, 18635, 18649, 18654, 18655, 18656, 18657, 18663, 18669, 18672, 18675, 18679, 18680, 18682, 18684, 18685, 18693, 18695, 18700, 18702, 18704, 18705, 18709, 18739, 18742, 18750, 18752, 18754, 18756, 18757, 18758, 18760, 18762, 18768, 18777, 18779, 18784, 18795, 18796, 18797, 18800, 18804, 18806, 18810, 18814, 18820, 18821, 18825, 18826, 18830, 18831, 18833, 18834, 18835, 18837, 18839, 18842, 18843, 18848, 18857, 18858, 18859, 18862, 18864, 18865, 18868, 18869, 18871, 18872, 18873, 18880, 18882, 18886, 18887, 18889, 18890, 18893, 18897, 18901, 18905, 18914, 18924, 18926, 18928, 18929, 18933, 18934, 18942, 18948, 18953, 18954, 18958, 18960, 18964, 18965, 18966, 18967, 18970, 18972, 18973, 18974, 18975, 18977, 18978, 18981, 18987, 18991, 18996, 19000, 19005, 19012, 19020, 19022, 19024, 19027, 19029, 19031, 19037, 19045, 19047, 19053, 19057, 19066, 19071, 19073, 19074, 19085, 19086, 19098, 19102, 19108, 19111, 19112, 19113, 19117, 19118, 19119, 19120, 19126, 19127, 19132, 19134, 19138, 19139, 19141, 19142, 19145, 19146, 19152, 19155, 19162, 19164, 19168, 19172, 19174, 19183, 19184, 19188, 19198, 19201, 19202, 19203, 19204, 19208, 19209, 19210, 19211, 19212, 19219, 19222, 19224, 19225, 19233, 19234, 19237, 19238, 19240, 19242, 19244, 19266, 19272, 19274, 19278, 19279, 19287, 19290, 19293, 19295, 19298, 19302, 19307, 19316, 19327, 19330, 19332, 19333, 19338, 19341, 19343, 19359, 19360, 19361, 19364, 19365, 19369, 19378, 19381, 19388, 19389, 19394, 19397, 19401, 19402, 19409, 19412, 19417, 19445, 19447, 19448, 19475, 19477, 19478, 19480, 19482, 19483, 19484, 19487, 19493, 19495, 19498, 19499, 19500, 19504, 19505, 19507, 19517, 19519, 19523, 19541, 19546, 19553, 19577, 19582, 19585, 19587, 19588, 19589, 19591, 19593, 19596, 19598, 19606, 19610, 19613, 19614, 19616, 19617, 19619, 19621, 19626, 19628, 19635, 19638, 19644, 19649, 19654, 19662, 19667, 19672, 19675, 19682, 19694, 19698, 19715, 19720, 19728, 19733, 19742, 19746, 19748, 19749, 19758, 19759, 19760, 19761, 19762, 19765, 19771, 19772, 19778, 19781, 19787, 19792, 19793, 19798, 19800, 19801, 19803, 19815, 19819, 19822, 19841, 19842, 19844, 19847, 19857, 19865, 19866, 19867, 19869, 19870, 19874, 19884, 19885, 19892, 19893, 19896, 19897, 19899, 19903, 19905, 19906, 19909, 19915, 19926, 19927, 19933, 19938, 19945, 19947, 19948, 19951, 19955, 19957, 19960, 19965, 19971, 19974, 19983, 19996, 20013, 20021, 20024, 20025, 20030, 20034, 20035, 20040, 20049, 20052, 20053, 20061, 20063, 20075, 20077, 20079, 20080, 20081, 20083, 20084, 20087, 20088, 20096, 20097, 20098, 20099, 20101, 20102, 20113, 20115, 20122, 20123, 20131, 20139, 20144, 20145, 20156, 20164, 20165, 20167, 20172, 20173, 20179, 20181, 20182, 20187, 20210, 20211, 20212, 20214, 20217, 20224, 20230, 20234, 20240, 20244, 20245, 20248, 20249, 20259, 20272, 20273, 20274, 20276, 20278, 20290, 20291, 20295, 20304, 20309, 20319, 20321, 20322, 20323, 20328, 20331, 20333, 20336, 20338, 20340, 20342, 20344, 20347, 20356, 20361, 20362, 20363, 20365, 20367, 20368, 20370, 20374, 20376, 20377, 20380, 20404, 20408, 20411, 20415, 20417, 20420, 20421, 20425, 20435, 20440, 20442, 20449, 20451, 20453, 20458, 20461, 20468, 20480, 20481, 20484, 20487, 20490, 20500, 20503, 20504, 20507, 20511, 20512, 20516, 20517, 20519, 20520, 20524, 20527, 20531, 20532, 20533, 20538, 20542, 20547, 20553, 20556, 20560, 20561, 20564, 20571, 20574, 20577, 20581, 20590, 20594, 20595, 20599, 20601, 20606, 20618, 20621, 20627, 20633, 20634, 20635, 20637, 20642, 20646, 20647, 20651, 20657, 20659, 20667, 20670, 20674, 20675, 20680, 20689, 20690, 20691, 20694, 20697, 20698, 20699, 20700, 20702, 20723, 20731, 20734, 20735, 20739, 20745, 20749, 20751, 20754, 20758, 20759, 20763, 20765, 20766, 20767, 20769, 20770, 20778, 20780, 20781, 20783, 20785, 20788, 20789, 20790, 20792, 20793, 20799, 20800, 20801, 20805, 20810, 20817, 20823, 20824, 20828, 20833, 20834, 20835, 20836, 20838, 20841, 20846, 20848, 20850, 20852, 20855, 20860, 20870, 20874, 20876, 20885, 20887, 20888, 20889, 20891, 20903, 20905, 20907, 20912, 20913, 20919, 20922, 20929, 20940, 20943, 20946, 20952, 20962, 20968, 20969, 20975, 20977, 20978, 20980, 20999, 21000, 21005, 21007, 21008, 21018, 21021, 21031, 21033, 21036, 21047, 21049, 21058, 21061, 21065, 21068, 21070, 21071, 21072, 21081, 21082, 21083, 21085, 21090, 21091, 21100, 21109, 21110, 21114, 21115, 21117, 21121, 21122, 21132, 21140, 21142, 21149, 21153, 21159, 21160, 21168, 21174, 21179, 21180, 21190, 21194, 21195, 21197, 21204, 21206, 21207, 21208, 21214, 21215, 21217, 21223, 21231, 21233, 21235, 21242, 21243, 21244, 21246, 21251, 21255, 21257, 21258, 21259, 21263, 21266, 21273, 21275, 21276, 21277, 21282, 21284, 21285, 21287, 21295, 21300, 21301, 21305, 21306, 21308, 21319, 21322, 21325, 21333, 21335, 21341, 21343, 21355, 21356, 21357, 21359, 21360, 21363, 21366, 21368, 21371, 21377, 21380, 21384, 21388, 21389, 21391, 21394, 21395, 21398, 21409, 21411, 21412, 21422, 21423, 21430, 21437, 21438, 21442, 21444, 21449, 21456, 21458, 21460, 21462, 21463, 21474, 21477, 21478, 21481, 21483, 21484, 21486, 21487, 21491, 21498, 21499, 21501, 21502, 21503, 21510, 21515, 21527, 21528, 21533, 21535, 21550, 21551, 21552, 21553, 21556, 21568, 21569, 21571, 21574, 21578, 21579, 21580, 21583, 21586, 21591, 21592, 21593, 21597, 21601, 21603, 21608, 21610, 21611, 21614, 21615, 21617, 21618, 21619, 21620, 21623, 21624, 21627, 21629, 21637, 21639, 21648, 21652, 21660, 21662, 21663, 21669, 21675, 21679, 21686, 21700, 21709, 21738, 21751, 21763, 21765, 21766, 21768, 21771, 21774, 21776, 21779, 21781, 21783, 21786, 21787, 21788, 21791, 21793, 21801, 21807, 21809, 21812, 21813, 21818, 21820, 21825, 21826, 21830, 21831, 21834, 21839, 21846, 21848, 21852, 21857, 21859, 21869, 21874, 21876, 21878, 21880, 21882, 21891, 21892, 21910, 21913, 21916, 21920, 21922, 21925, 21929, 21930, 21940, 21946, 21949, 21951, 21955, 21957, 21958, 21959, 21963, 21965, 21966, 21976, 21978, 21981, 21982, 21986, 21987, 21989, 21993, 21995, 21996, 22006, 22010, 22012, 22016, 22018, 22021, 22026, 22028, 22029, 22030, 22031, 22036, 22038, 22039, 22041, 22043, 22045, 22048, 22055, 22056, 22058, 22059, 22060, 22063, 22066, 22068, 22071, 22072, 22078, 22079, 22080, 22084, 22085, 22087, 22093, 22094, 22095, 22098, 22104, 22105, 22107, 22109, 22111, 22114, 22118, 22119, 22121, 22122, 22123, 22124, 22125, 22126, 22128, 22129, 22130, 22135, 22136, 22137, 22140, 22147, 22154, 22156, 22157, 22158, 22159, 22160, 22162, 22167, 22172, 22175, 22176, 22180, 22187, 22192, 22193, 22194, 22196, 22199, 22200, 22203, 22206, 22209, 22211, 22212, 22213, 22216, 22219, 22220, 22225, 22226, 22228, 22229, 22230, 22233, 22234, 22236, 22238, 22242, 22248, 22251, 22258, 22263, 22266, 22272, 22273, 22274, 22277, 22279, 22284, 22289, 22291, 22296, 22300, 22302, 22305, 22306, 22309, 22310, 22311, 22312, 22316, 22318, 22333, 22337, 22341, 22344, 22350, 22353, 22354, 22356, 22357, 22360, 22363, 22364, 22365, 22367, 22369, 22372, 22373, 22380, 22381, 22382, 22387, 22388, 22391, 22394, 22405, 22407, 22410, 22412, 22413, 22416, 22417, 22419, 22423, 22425, 22427, 22428, 22431, 22433, 22434, 22437, 22438, 22439, 22443, 22445, 22446, 22449, 22450, 22451, 22452, 22456, 22461, 22467, 22471, 22473, 22475, 22476, 22477, 22479, 22480, 22481, 22482, 22483, 22485, 22486, 22487, 22489, 22491, 22493, 22496, 22501, 22503, 22505, 22506, 22509, 22513, 22515, 22518, 22520, 22521, 22522, 22523, 22525, 22527, 22535, 22538, 22539, 22541, 22542, 22544, 22545, 22546, 22549, 22550, 22553, 22556, 22560, 22565, 22566, 22570, 22575, 22578, 22579, 22581, 22585, 22586, 22588, 22589, 22590, 22592, 22593, 22595, 22597, 22602, 22606, 22607, 22610, 22611, 22614, 22616, 22619, 22620, 22621, 22622, 22623, 22626, 22627, 22629, 22630, 22633, 22636, 22637, 22641, 22644, 22651, 22652, 22653, 22654, 22659, 22665, 22666, 22667, 22669, 22670, 22672, 22677, 22679, 22680, 22682, 22684, 22685, 22686, 22687, 22689, 22691, 22692, 22694, 22698, 22703, 22707, 22708, 22709, 22713, 22717, 22718, 22725, 22726, 22730, 22736, 22737, 22739, 22742, 22744, 22745, 22751, 22753, 22754, 22755, 22756, 22760, 22762, 22764, 22765, 22767, 22770, 22771, 22772, 22775, 22778, 22779, 22787, 22790, 22793, 22794, 22795, 22800, 22802, 22803, 22804, 22805, 22806, 22808, 22816, 22817, 22819, 22828, 22830, 22831, 22832, 22834, 22835, 22842, 22845, 22846, 22848, 22855, 22858, 22859, 22861, 22862, 22870, 22873, 22876, 22877, 22878, 22879, 22880, 22881, 22883, 22885, 22887, 22888, 22889, 22896, 22897, 22898, 22899, 22900, 22903, 22904, 22905, 22906, 22908, 22909, 22910, 22911, 22913, 22915, 22917, 22918, 22919, 22923, 22925, 22927, 22928, 22929, 22932, 22934, 22938, 22942, 22945, 22947, 22958, 22960, 22964, 22966, 22968, 22970, 22972, 22974, 22979, 22981, 22982, 22991, 22993, 22994, 22995, 22996, 22999, 23002, 23003, 23009, 23013, 23015, 23016, 23018, 23019, 23021, 23026, 23031, 23032, 23035, 23036, 23041, 23042, 23044, 23046, 23047, 23049, 23052, 23053, 23058, 23061, 23062, 23067, 23068, 23071, 23074, 23075, 23081, 23083, 23084, 23085, 23089, 23090, 23091, 23092, 23095, 23098, 23099, 23102, 23108, 23109, 23111, 23112, 23113, 23115, 23117, 23118, 23120, 23127, 23128, 23129, 23134, 23136, 23137, 23138, 23142, 23146, 23148, 23149, 23153, 23159, 23161, 23162, 23164, 23169, 23174, 23176, 23180, 23182, 23184, 23185, 23191, 23193, 23195, 23199, 23204, 23205, 23207, 23214, 23215, 23216, 23218, 23219, 23221, 23222, 23223, 23224, 23225, 23227, 23228, 23230, 23235, 23236, 23237, 23238, 23243, 23244, 23245, 23247, 23250, 23252, 23254, 23256, 23262, 23263, 23264, 23265, 23270, 23271, 23272, 23281, 23283, 23284, 23286, 23287, 23290, 23291, 23295, 23296, 23300, 23302, 23308, 23312, 23316, 23320, 23323, 23325, 23327, 23332, 23334, 23336, 23338, 23339, 23342, 23343, 23344, 23346, 23349, 23351, 23353, 23354, 23361, 23366, 23367, 23368, 23370, 23372, 23373, 23374, 23377, 23378, 23379, 23380, 23381, 23383, 23385, 23388, 23391, 23394, 23398, 23399, 23403, 23404, 23407, 23409, 23411, 23412, 23415, 23418, 23419, 23421, 23422, 23423, 23427, 23428, 23431, 23433, 23434, 23437, 23440, 23441, 23444, 23446, 23447, 23448, 23449, 23450, 23451, 23452, 23453, 23457, 23459, 23461, 23468, 23469, 23470, 23471, 23472, 23475, 23476, 23477, 23480, 23484, 23485, 23488, 23491, 23494, 23496, 23497, 23500, 23502, 23506, 23508, 23510, 23511, 23512, 23515, 23516, 23517, 23522, 23523, 23525, 23526, 23527, 23529, 23531, 23532, 23534, 23542, 23543, 23544, 23550, 23552, 23554, 23557, 23558, 23560, 23565, 23566, 23567, 23571, 23572, 23575, 23577, 23578, 23579, 23582, 23583, 23584, 23585, 23586, 23589, 23591, 23592, 23596, 23598, 23599, 23602, 23606, 23607, 23608, 23610, 23611, 23613, 23614, 23616, 23623, 23624, 23626, 23628, 23629, 23636, 23637, 23638, 23640, 23641, 23642, 23646, 23647, 23649, 23652, 23653, 23654, 23659, 23660, 23661, 23662, 23663, 23666, 23667, 23668, 23669, 23670, 23671, 23672, 23675, 23678, 23682, 23683, 23687, 23690, 23693, 23694, 23695, 23698, 23700, 23702, 23703, 23704, 23707, 23708, 23709, 23711, 23713, 23714, 23718, 23725, 23728, 23731, 23733, 23740, 23742, 23743, 23746, 23748, 23750, 23751, 23752, 23753, 23755, 23758, 23759, 23761, 23763, 23767, 23768, 23772, 23773, 23774, 23777, 23779, 23781, 23782, 23783, 23787, 23789, 23790, 23791, 23795, 23801, 23804, 23806, 23807, 23808, 23810, 23811, 23814, 23816, 23817, 23819, 23820, 23822, 23824, 23825, 23826, 23827, 23828, 23829, 23830, 23832, 23837, 23846, 23847, 23849, 23851, 23855, 23856, 23858, 23860, 23862, 23864, 23865, 23867, 23868, 23870, 23872, 23874, 23883, 23885, 23887, 23888, 23890, 23891, 23893, 23894, 23898, 23903, 23904, 23907, 23912, 23913, 23922, 23923, 23928, 23930, 23932, 23938, 23940, 23942, 23943, 23948, 23949, 23950, 23953, 23954, 23956, 23957, 23958, 23959, 23962, 23964, 23968, 23969, 23971, 23973, 23974, 23975, 23983, 23987, 23989, 23990, 23994, 23997, 23998, 24000, 24002, 24003, 24007, 24012, 24013, 24014, 24015, 24018, 24020, 24021, 24024, 24025, 24026, 24027, 24028, 24030, 24033, 24037, 24038, 24042, 24043, 24047, 24050, 24054, 24055, 24056, 24057, 24059, 24064, 24065, 24066, 24067, 24071, 24074, 24075, 24078, 24080, 24081, 24084, 24086, 24087, 24092, 24095, 24096, 24099, 24100, 24101, 24102, 24105, 24110, 24111, 24113, 24117, 24119, 24125, 24127, 24128, 24129, 24130, 24131, 24133, 24136, 24138, 24139, 24141, 24143, 24145, 24150, 24152, 24153, 24154, 24155, 24156, 24163, 24164, 24167, 24168, 24169, 24170, 24171, 24172, 24174, 24177, 24178, 24182, 24184, 24186, 24187, 24188, 24191, 24192, 24193, 24194, 24198, 24201, 24203, 24204, 24206, 24211, 24215, 24216, 24217, 24222, 24224, 24225, 24227, 24229, 24236, 24238, 24243, 24245, 24246, 24247, 24254, 24256, 24259, 24260, 24265, 24268, 24276, 24277, 24283, 24292, 24293, 24298, 24299, 24301, 24302, 24306, 24308, 24310, 24312, 24313, 24315, 24320, 24321, 24323, 24324, 24326, 24328, 24329, 24333, 24334, 24336, 24344, 24345, 24349, 24351, 24360, 24361, 24365, 24370, 24371, 24372, 24373, 24382, 24383, 24385, 24386, 24387, 24390, 24391, 24393, 24394, 24395, 24396, 24397, 24398, 24399, 24404, 24406, 24408, 24412, 24414, 24416, 24417, 24420, 24423, 24424, 24425, 24426, 24429, 24432, 24433, 24435, 24436, 24439, 24440, 24441, 24442, 24444, 24447, 24452, 24453, 24457, 24465, 24466, 24468, 24471, 24473, 24476, 24485, 24486, 24488, 24489, 24491, 24493, 24496, 24498, 24500, 24501, 24504, 24505, 24506, 24510, 24511, 24514, 24518, 24522, 24524, 24527, 24528, 24529, 24530, 24531, 24532, 24535, 24536, 24552, 24555, 24560, 24561, 24564, 24565, 24568, 24571, 24576, 24578, 24582, 24585, 24587, 24589, 24590, 24595, 24596, 24599, 24600, 24601, 24603, 24606, 24609, 24610, 24611, 24613, 24616, 24617, 24618, 24620, 24621, 24624, 24626, 24627, 24628, 24631, 24634, 24638, 24642, 24644, 24645, 24647, 24649, 24650, 24651, 24654, 24655, 24658, 24660, 24665, 24666, 24667, 24671, 24675, 24679, 24681, 24683, 24685, 24686, 24687, 24692, 24693, 24695, 24696, 24698, 24704, 24708, 24709, 24710, 24712, 24713, 24718, 24721, 24722, 24723, 24725, 24726, 24727, 24728, 24729, 24735, 24738, 24739, 24740, 24744, 24747, 24748, 24750, 24751, 24752, 24753, 24754, 24755, 24761, 24763, 24770, 24773, 24774, 24778, 24779, 24780, 24782, 24786, 24788, 24789, 24791, 24792, 24798, 24799, 24801, 24803, 24804, 24810, 24811, 24815, 24820, 24823, 24824, 24826, 24830, 24835, 24842, 24848, 24850, 24853, 24854, 24856, 24863, 24864, 24871, 24875, 24877, 24878, 24880, 24883, 24884, 24886, 24890, 24891, 24893, 24908, 24909, 24910, 24912, 24916, 24917, 24919, 24920, 24922, 24923, 24925, 24932, 24934, 24937, 24938, 24939, 24942, 24945, 24947, 24948, 24950, 24951, 24952, 24954, 24955, 24956, 24957, 24967, 24968, 24972, 24973, 24974, 24978, 24980, 24984, 24986, 24987, 24988, 24989, 24990, 24997, 25000, 25003, 25009, 25011, 25013, 25015, 25016, 25017, 25018, 25020, 25022, 25028, 25031, 25032, 25034, 25035, 25040, 25041, 25046, 25049, 25050, 25051, 25054, 25056, 25062, 25063, 25067, 25068, 25069, 25070, 25072, 25073, 25074, 25076, 25077, 25080, 25084, 25085, 25086, 25092, 25095, 25099, 25100, 25101, 25103, 25104, 25106, 25108, 25113, 25115, 25116, 25117, 25118, 25119, 25121, 25128, 25132, 25134, 25135, 25136, 25140, 25141, 25142, 25147, 25148, 25149, 25150, 25154, 25156, 25157, 25159, 25165, 25166, 25167, 25168, 25174, 25176, 25178, 25182, 25185, 25187, 25188, 25192, 25196, 25199, 25201, 25202, 25203, 25207, 25208, 25209, 25212, 25213, 25214, 25216, 25219, 25223, 25224, 25225, 25227, 25228, 25232, 25233, 25234, 25236, 25237, 25238, 25243, 25245, 25247, 25248, 25249, 25250, 25253, 25255, 25258, 25260, 25261, 25265, 25268, 25269, 25270, 25271, 25274, 25276, 25279, 25282, 25283, 25286, 25288, 25290, 25292, 25294, 25296, 25297, 25302, 25303, 25304, 25307, 25309, 25318, 25320, 25321, 25322, 25324, 25325, 25326, 25327, 25328, 25330, 25333, 25334, 25336, 25337, 25348, 25349, 25351, 25353, 25355, 25359, 25360, 25364, 25366, 25367, 25368, 25370, 25371, 25372, 25378, 25379, 25384, 25387, 25392, 25395, 25399, 25401, 25402, 25407, 25408, 25410, 25415, 25418, 25420, 25427, 25429, 25431, 25434, 25437, 25438, 25439, 25446, 25448, 25450, 25452, 25453, 25455, 25457, 25458, 25460, 25463, 25464, 25466, 25468, 25470, 25471, 25476, 25478, 25479, 25483, 25484, 25488, 25489, 25490, 25495, 25496, 25497, 25499, 25500, 25502, 25505, 25506, 25509, 25510, 25515, 25520, 25527, 25528, 25531, 25535, 25538, 25540, 25546, 25547, 25548, 25552, 25553, 25554, 25555, 25556, 25559, 25563, 25565, 25566, 25569, 25570, 25583, 25584, 25586, 25588, 25600, 25603, 25607, 25608, 25609, 25610, 25611, 25612, 25615, 25616, 25618, 25620, 25621, 25624, 25626, 25629, 25632, 25640, 25645, 25650, 25651, 25652, 25653, 25654, 25656, 25659, 25660, 25665, 25666, 25667, 25668, 25670, 25671, 25672, 25674, 25675, 25679, 25680, 25685, 25686, 25688, 25692, 25694, 25696, 25698, 25701, 25702, 25705, 25710, 25715, 25717, 25718, 25719, 25721, 25722, 25724, 25725, 25726, 25728, 25731, 25733, 25738, 25739, 25743, 25745, 25746, 25747, 25748, 25749, 25750, 25755, 25756, 25757, 25764, 25767, 25769, 25771, 25772, 25773, 25774, 25776, 25779, 25780, 25781, 25782, 25787, 25795, 25796, 25798, 25799, 25800, 25805, 25807, 25809, 25813, 25821, 25823, 25824, 25826, 25827, 25828, 25830, 25832, 25833, 25837, 25841, 25842, 25843, 25844, 25845, 25847, 25851, 25856, 25857, 25859, 25860, 25861, 25863, 25868, 25869, 25870, 25879, 25880, 25883, 25893, 25894, 25896, 25897, 25901, 25909, 25910, 25911, 25913, 25918, 25923, 25925, 25926, 25929, 25931, 25932, 25933, 25934, 25938, 25952, 25954, 25959, 25963, 25966, 25967, 25969, 25970, 25972, 25973, 25975, 25977, 25978, 25980, 25983, 25988, 25990, 25996, 25997, 25998, 26002, 26003, 26006, 26012, 26014, 26015, 26016, 26018, 26023, 26024, 26025, 26026, 26027, 26029, 26032, 26034, 26036, 26038, 26040, 26044, 26053, 26055, 26058, 26063, 26064, 26065, 26068, 26069, 26071, 26073, 26075, 26076, 26077, 26082, 26083, 26085, 26089, 26096, 26098, 26099, 26103, 26104, 26107, 26111, 26112, 26116, 26120, 26122, 26123, 26124, 26128, 26129, 26130, 26131, 26134, 26136, 26144, 26145, 26151, 26157, 26158, 26161, 26165, 26166, 26168, 26171, 26173, 26174, 26181, 26183, 26185, 26191, 26193, 26194, 26197, 26204, 26212, 26214, 26221, 26224, 26228, 26231, 26241, 26244, 26245, 26255, 26259, 26260, 26262, 26263, 26269, 26271, 26275, 26277, 26279, 26280, 26284, 26285, 26287, 26292, 26294, 26296, 26297, 26300, 26302, 26304, 26308, 26309, 26311, 26315, 26316, 26328, 26331, 26340, 26341, 26344, 26348, 26357, 26362, 26363, 26364, 26365, 26369, 26370, 26371, 26373, 26376, 26377, 26378, 26383, 26386, 26387, 26390, 26391, 26400, 26407, 26409, 26410, 26411, 26420, 26422, 26428, 26429, 26435, 26443, 26444, 26448, 26453, 26457, 26461, 26476, 26479, 26482, 26487, 26488, 26489, 26490, 26491, 26493, 26494, 26499, 26501, 26502, 26503, 26505, 26508, 26509, 26512, 26513, 26518, 26519, 26521, 26531, 26533, 26539, 26541, 26543, 26544, 26546, 26550, 26552, 26553, 26558, 26569, 26570, 26573, 26583, 26584, 26588, 26589, 26590, 26596, 26597, 26611, 26614, 26617, 26621, 26622, 26627, 26628, 26629, 26630, 26631, 26633, 26634, 26638, 26640, 26644, 26648, 26649, 26652, 26653, 26654, 26661, 26663, 26664, 26667, 26668, 26669, 26672, 26677, 26679, 26681, 26683, 26685, 26686, 26696, 26697, 26702, 26704, 26706, 26709, 26710, 26712, 26715, 26718, 26721, 26722, 26723, 26724, 26727, 26729, 26730, 26732, 26735, 26736, 26740, 26742, 26744, 26748, 26750, 26752, 26753, 26754, 26758, 26762, 26763, 26765, 26766, 26767, 26769, 26770, 26775, 26777, 26781, 26783, 26788, 26792, 26797, 26798, 26802, 26808, 26811, 26812, 26813, 26818, 26820, 26822, 26828, 26829, 26831, 26835, 26843, 26845, 26847, 26848, 26850, 26852, 26856, 26857, 26858, 26861, 26862, 26869, 26871, 26872, 26882, 26884, 26885, 26887, 26889, 26892, 26893, 26895, 26898, 26899, 26905, 26907, 26908, 26909, 26910, 26912, 26913, 26914, 26918, 26923, 26926, 26929, 26933, 26935, 26939, 26946, 26949, 26950, 26955, 26957, 26958, 26959, 26960, 26962, 26964, 26965, 26967, 26970, 26971, 26972, 26974, 26975, 26976, 26979, 26982, 26994, 26996, 26999, 27004, 27009, 27012, 27014, 27023, 27024, 27026, 27031, 27035, 27038, 27039, 27041, 27045, 27046, 27047, 27062, 27063, 27064, 27065, 27067, 27073, 27076, 27077, 27081, 27083, 27085, 27088, 27089, 27093, 27097, 27099, 27100, 27101, 27104, 27112, 27121, 27124, 27129, 27130, 27131, 27140, 27141, 27143, 27147, 27153, 27155, 27157, 27158, 27160, 27161, 27162, 27165, 27166, 27172, 27182, 27185, 27189, 27190, 27192, 27193, 27194, 27195, 27199, 27202, 27205, 27209, 27213, 27217, 27220, 27221, 27226, 27227, 27229, 27232, 27234, 27235, 27238, 27240, 27241, 27243, 27246, 27247, 27250, 27252, 27254, 27256, 27258, 27262, 27263, 27266, 27270, 27275, 27276, 27277, 27279, 27281, 27282, 27289, 27290, 27294, 27295, 27299, 27304, 27305, 27306, 27312, 27313, 27314, 27315, 27318, 27319, 27322, 27324, 27328, 27330, 27331, 27333, 27335, 27339, 27340, 27342, 27349, 27356, 27357, 27359, 27362, 27363, 27377, 27381, 27390, 27393, 27394, 27397, 27399, 27405, 27409, 27411, 27413, 27420, 27424, 27426, 27430, 27435, 27445, 27446, 27447, 27448, 27450, 27451, 27452, 27456, 27457, 27458, 27459, 27461, 27464, 27467, 27473, 27477, 27482, 27486, 27487, 27488, 27489, 27492, 27497, 27498, 27500, 27504, 27506, 27508, 27513, 27516, 27527, 27529, 27530, 27535, 27542, 27544, 27549, 27551, 27554, 27555, 27556, 27559, 27560, 27561, 27566, 27571, 27574, 27576, 27579, 27586, 27588, 27593, 27596, 27599, 27604, 27605, 27606, 27607, 27610, 27611, 27618, 27619, 27621, 27624, 27625, 27630, 27632, 27633, 27634, 27638, 27646, 27649, 27655, 27656, 27657, 27662, 27667, 27674, 27679, 27685, 27687, 27692, 27697, 27698, 27699, 27700, 27701, 27707, 27720, 27721, 27728, 27740, 27747, 27755, 27756, 27758, 27761, 27763, 27768, 27770, 27772, 27774, 27778, 27785, 27786, 27788, 27790, 27791, 27792, 27800, 27801, 27802, 27803, 27804, 27809, 27810, 27815, 27816, 27821, 27826, 27828, 27829, 27830, 27832, 27840, 27846, 27849, 27853, 27857, 27858, 27861, 27865, 27869, 27876, 27880, 27885, 27886, 27889, 27890, 27894, 27901, 27909, 27916, 27917, 27928, 27935, 27937, 27938, 27939, 27943, 27951, 27952, 27954, 27956, 27957, 27959, 27963, 27964, 27965, 27966, 27967, 27969, 27975, 27977, 27981, 27984, 27985, 27986, 27987, 27989, 27995, 27998, 27999, 28004, 28007, 28009, 28012, 28017, 28026, 28033, 28036, 28037, 28042, 28043, 28044, 28045, 28046, 28047, 28048, 28052, 28053, 28054, 28055, 28063, 28067, 28068, 28072, 28073, 28076, 28081, 28083, 28088, 28090, 28092, 28096, 28098, 28099, 28100, 28102, 28109, 28119, 28121, 28127, 28132, 28133, 28134, 28139, 28140, 28144, 28147, 28149, 28151, 28152, 28154, 28156, 28159, 28161, 28163, 28165, 28167, 28171, 28175, 28180, 28181, 28183, 28186, 28190, 28200, 28202, 28207, 28215, 28216, 28219, 28222, 28223, 28228, 28230, 28232, 28234, 28236, 28238, 28240, 28242, 28243, 28252, 28254, 28255, 28259, 28260, 28264, 28267, 28268, 28269, 28270, 28279, 28282, 28288, 28296, 28297, 28298, 28299, 28301, 28303, 28304, 28308, 28309, 28319, 28323, 28324, 28328, 28329, 28331, 28333, 28338, 28342, 28344, 28350, 28356, 28357, 28361, 28362, 28363, 28366, 28368, 28369, 28372, 28382, 28384, 28386, 28390, 28391, 28392, 28394, 28396, 28400, 28401, 28403, 28408, 28411, 28413, 28418, 28421, 28422, 28428, 28433, 28434, 28437, 28442, 28449, 28450, 28456, 28459, 28460, 28475, 28477, 28478, 28480, 28481, 28482, 28485, 28487, 28488, 28489, 28490, 28495, 28497, 28510, 28512, 28514, 28519, 28520, 28521, 28523, 28526, 28531, 28535, 28538, 28539, 28540, 28541, 28544, 28545, 28546, 28549, 28562, 28563, 28565, 28567, 28568, 28569, 28570, 28573, 28576, 28578, 28580, 28581, 28587, 28588, 28590, 28592, 28593, 28594, 28595, 28596, 28597, 28602, 28612, 28613, 28615, 28633, 28643, 28644, 28647, 28650, 28655, 28660, 28663, 28676, 28677, 28679, 28684, 28688, 28689, 28690, 28692, 28695, 28696, 28697, 28699, 28704, 28707, 28710, 28711, 28712, 28716, 28717, 28719, 28720, 28721, 28727, 28729, 28733, 28737, 28741, 28742, 28743, 28746, 28748, 28749, 28756, 28757, 28761, 28762, 28764, 28765, 28769, 28775, 28781, 28783, 28789, 28790, 28796, 28797, 28798, 28799, 28801, 28803, 28807, 28809, 28812, 28813, 28817, 28818, 28826, 28833, 28841, 28844, 28859, 28863, 28864, 28865, 28867, 28872, 28873, 28874, 28877, 28879, 28880, 28885, 28897, 28898, 28901, 28903, 28906, 28916, 28917, 28921, 28922, 28925, 28928, 28932, 28935, 28943, 28944, 28946, 28947, 28949, 28955, 28961, 28962, 28968, 28973, 28983, 28993, 28994, 28997, 28999, 29004, 29006, 29007, 29010, 29014, 29016, 29017, 29019, 29027, 29031, 29032, 29035, 29036, 29037, 29038, 29052, 29053, 29056, 29063, 29066, 29067, 29074, 29077, 29079, 29084, 29085, 29086, 29103, 29106, 29107, 29110, 29116, 29119, 29120, 29121, 29123, 29125, 29128, 29132, 29138, 29139, 29147, 29151, 29154, 29156, 29163, 29168, 29170, 29175, 29177, 29191, 29192, 29197, 29200, 29206, 29208, 29214, 29221, 29228, 29231, 29232, 29233, 29239, 29241, 29246, 29249, 29255, 29257, 29261, 29265, 29268, 29270, 29275, 29284, 29285, 29286, 29287, 29289, 29294, 29295, 29298, 29305, 29306, 29307, 29308, 29314, 29324, 29328, 29329, 29332, 29336, 29337, 29350, 29353, 29363, 29366, 29371, 29378, 29388, 29390, 29392, 29393, 29401, 29405, 29410, 29421, 29428, 29430, 29434, 29448, 29449, 29452, 29454, 29456, 29458, 29461, 29469, 29471, 29473, 29475, 29481, 29482, 29487, 29495, 29501, 29503, 29504, 29505, 29514, 29523, 29524, 29533, 29534, 29535, 29541, 29546, 29547, 29550, 29557, 29558, 29566, 29568, 29569, 29570, 29571, 29573, 29577, 29579, 29582, 29586, 29587, 29588, 29589, 29590, 29591, 29594, 29601, 29603, 29605, 29611, 29618, 29619, 29626, 29630, 29631, 29632, 29640, 29643, 29652, 29653, 29659, 29663, 29665, 29666, 29667, 29672, 29677, 29679, 29684, 29686, 29688, 29689, 29693, 29699, 29709, 29712, 29717, 29718, 29721, 29724, 29725, 29728, 29729, 29732, 29736, 29741, 29747, 29752, 29753, 29755, 29759, 29761, 29771, 29777, 29781, 29782, 29789, 29790, 29792, 29795, 29800, 29802, 29808, 29816, 29822, 29823, 29838, 29843, 29847, 29849, 29854, 29862, 29863, 29866, 29870, 29871, 29872, 29874, 29876, 29878, 29884, 29895, 29905, 29907, 29913, 29915, 29920, 29923, 29927, 29929, 29946, 29951, 29954, 29956, 29957, 29959, 29973, 29976, 29984, 29988, 29992, 29994, 29995, 29999, 30002, 30003, 30009, 30012, 30014, 30020, 30021, 30024, 30025, 30027, 30028, 30030, 30031, 30039, 30050, 30056, 30059, 30064, 30068, 30075, 30080, 30082, 30096, 30098, 30108, 30114, 30116, 30124, 30126, 30131, 30132, 30156, 30168, 30169, 30175, 30177, 30178, 30182, 30194, 30196, 30214, 30221, 30225, 30240, 30256, 30259, 30266, 30267, 30268, 30272, 30281, 30283, 30289, 30299, 30303, 30306, 30307, 30312, 30315, 30323, 30324, 30326, 30327, 30346, 30348, 30350, 30356, 30369, 30378, 30384, 30385, 30388, 30390, 30394, 30398, 30417, 30420, 30421, 30426, 30432, 30435, 30445, 30446, 30448, 30450, 30452, 30456, 30477, 30478, 30483, 30484, 30487, 30496, 30511, 30517, 30518, 30519, 30520, 30533, 30536, 30537, 30540, 30541, 30550, 30551, 30553, 30559, 30563, 30564, 30567, 30570, 30577, 30581, 30583, 30586, 30592, 30597, 30600, 30611, 30620, 30621, 30623, 30630, 30633, 30638, 30639, 30645, 30646, 30649, 30653, 30654, 30655, 30657, 30659, 30667, 30668, 30672, 30690, 30697, 30704, 30705, 30716, 30718, 30720, 30722, 30725, 30734, 30744, 30746, 30747, 30751, 30753, 30756, 30757, 30762, 30769, 30773, 30781, 30784, 30787, 30788, 30794, 30797, 30805, 30807, 30808, 30814, 30818, 30820, 30833, 30845, 30850, 30851, 30854, 30855, 30858, 30866, 30872, 30876, 30886, 30887, 30889, 30899, 30905, 30906, 30927, 30934, 30938, 30939, 30972, 30974, 30975, 30976, 30987, 30997, 31007, 31009, 31016, 31018, 31021, 31027, 31035, 31039, 31041, 31055, 31058, 31060, 31063, 31078, 31080, 31081, 31086, 31087, 31094, 31100, 31109, 31110, 31114, 31115, 31118, 31122, 31124, 31133, 31134, 31136, 31143, 31151, 31153, 31154, 31155, 31160, 31168, 31169, 31176, 31184, 31192, 31193, 31196, 31210, 31217, 31221, 31224, 31226, 31229, 31258, 31261, 31263, 31264, 31265, 31266, 31285, 31286, 31289, 31291, 31294, 31298, 31300, 31307, 31308, 31325, 31333, 31334, 31338, 31339, 31341, 31343, 31348, 31354, 31361, 31362, 31363, 31366, 31367, 31372, 31376, 31378, 31382, 31393, 31397, 31406, 31410, 31416, 31417, 31427, 31439, 31447, 31456, 31457, 31462, 31463, 31464, 31470, 31473, 31477, 31479, 31482, 31484, 31487, 31488, 31497, 31507, 31517, 31518, 31520, 31525, 31536, 31538, 31539, 31543, 31553, 31561, 31565, 31581, 31585, 31589, 31596, 31616, 31618, 31621, 31623, 31629, 31630, 31634, 31638, 31642, 31652, 31658, 31661, 31666, 31671, 31681, 31693, 31704, 31711, 31722, 31731, 31736, 31743, 31744, 31750, 31759, 31777, 31791, 31800, 31803, 31809, 31815, 31827, 31840, 31847, 31850, 31853, 31867, 31883, 31887, 31890, 31898, 31905, 31914, 31922, 31924, 31925, 31934, 31935, 31936, 31938, 31949, 31950, 31953, 31956, 31979, 31983, 31986, 31997, 32003, 32007, 32009, 32011, 32040, 32044, 32053, 32059, 32062, 32074, 32076, 32088, 32112, 32131, 32141, 32149, 32176, 32177, 32179, 32183, 32185, 32196, 32202, 32205, 32208, 32215, 32220, 32225, 32231, 32235, 32238, 32246, 32248, 32273, 32279, 32281, 32283, 32286, 32287, 32295, 32297, 32301, 32302, 32306, 32307, 32309, 32310, 32311, 32313, 32316, 32317, 32318, 32320, 32322, 32325, 32333, 32334, 32339, 32341, 32344, 32345, 32352, 32353, 32355, 32357, 32360, 32364, 32369, 32380, 32383, 32384, 32385, 32388, 32389, 32393, 32394, 32397, 32399, 32404, 32405, 32406, 32410, 32411, 32418, 32421, 32424, 32425, 32427, 32428, 32429, 32430, 32431, 32435, 32438, 32453, 32460, 32463, 32467, 32468, 32473, 32475, 32478, 32482, 32483, 32485, 32486, 32491, 32493, 32494, 32495, 32496, 32502, 32509, 32510, 32516, 32518, 32520, 32521, 32522, 32526, 32532, 32533, 32536, 32541, 32543, 32544, 32545, 32546, 32547, 32548, 32550, 32551, 32555, 32558, 32559, 32561, 32565, 32568, 32574, 32575, 32576, 32577, 32579, 32580, 32583, 32586, 32587, 32588, 32589, 32597, 32613, 32619, 32627, 32628, 32630, 32631, 32632, 32638, 32645, 32651, 32652, 32653, 32655, 32664, 32665, 32666, 32669, 32670, 32673, 32675, 32677, 32678, 32688, 32696, 32697, 32699, 32700, 32701, 32704, 32708, 32710, 32713, 32714, 32715, 32720, 32722, 32723, 32725, 32727, 32730, 32732, 32734, 32736, 32740, 32741, 32743, 32746, 32749, 32750, 32753, 32754, 32755, 32756, 32757, 32758, 32760, 32763, 32765, 32770, 32773, 32775, 32776, 32779, 32783, 32787, 32788, 32801, 32802, 32803, 32805, 32806, 32807, 32814, 32815, 32816, 32817, 32819, 32821, 32822, 32829, 32830, 32831, 32832, 32839, 32845, 32846, 32849, 32850, 32852, 32856, 32860, 32861, 32862, 32866, 32869, 32874, 32877, 32879, 32880, 32886, 32890, 32892, 32898, 32902, 32904, 32905, 32907, 32908, 32909, 32913, 32915, 32916, 32918, 32919, 32922, 32927, 32928, 32929, 32931, 32932, 32933, 32934, 32937, 32941, 32943, 32946, 32950, 32952, 32953, 32959, 32962, 32964, 32967, 32971, 32977, 32980, 32981, 32984, 32988, 32990, 32993, 32998, 33005, 33006, 33007, 33008, 33012, 33017, 33023, 33026, 33027, 33035, 33036, 33039, 33040, 33044, 33046, 33047, 33049, 33050, 33056, 33060, 33061, 33062, 33067, 33072, 33073, 33077, 33079, 33082, 33084, 33088, 33093, 33097, 33105, 33111, 33112, 33114, 33115, 33120, 33124, 33126, 33127, 33128, 33131, 33139, 33141, 33143, 33144, 33146, 33147, 33149, 33154, 33156, 33157, 33159, 33161, 33168, 33169, 33173, 33174, 33178, 33181, 33182, 33183, 33188, 33189, 33194, 33197, 33199, 33209, 33210, 33215, 33217, 33227, 33229, 33230, 33232, 33233, 33237, 33241, 33244, 33247, 33253, 33256, 33266, 33268, 33273, 33274, 33275, 33276, 33277, 33278, 33279, 33286, 33287, 33288, 33294, 33296, 33298, 33301, 33302, 33305, 33310, 33312, 33314, 33315, 33318, 33320, 33323, 33324, 33325, 33326, 33328, 33329, 33335, 33336, 33337, 33338, 33340, 33357, 33359, 33364, 33365, 33369, 33370, 33376, 33380, 33381, 33389, 33392, 33395, 33396, 33407, 33412, 33414, 33417, 33420, 33422, 33427, 33428, 33430, 33431, 33432, 33433, 33435, 33436, 33438, 33441, 33443, 33444, 33445, 33448, 33452, 33455, 33459, 33461, 33463, 33465, 33467, 33469, 33471, 33473, 33474, 33477, 33478, 33479, 33490, 33497, 33499, 33503, 33505, 33506, 33508, 33511, 33512, 33520, 33528, 33530, 33531, 33532, 33533, 33536, 33537, 33542, 33543, 33547, 33549, 33551, 33554, 33558, 33560, 33562, 33566, 33570, 33572, 33574, 33577, 33580, 33583, 33584, 33585, 33587, 33589, 33590, 33593, 33597, 33603, 33606, 33607, 33612, 33613, 33614, 33620, 33622, 33626, 33634, 33635, 33637, 33638, 33640, 33642, 33649, 33650, 33655, 33656, 33659, 33661, 33662, 33666, 33667, 33670, 33675, 33678, 33683, 33686, 33687, 33689, 33690, 33693, 33697, 33698, 33701, 33702, 33704, 33706, 33707, 33708, 33709, 33711, 33712, 33715, 33717, 33718, 33719, 33723, 33724, 33729, 33730, 33733, 33734, 33736, 33737, 33746, 33747, 33750, 33754, 33755, 33756, 33758, 33761, 33766, 33770, 33774, 33775, 33777, 33778, 33783, 33787, 33788, 33789, 33790, 33793, 33795, 33796, 33799, 33810, 33812, 33815, 33816, 33817, 33818, 33821, 33825, 33828, 33831, 33832, 33833, 33834, 33836, 33838, 33840, 33845, 33846, 33849, 33850, 33851, 33853, 33854, 33855, 33860, 33861, 33869, 33873, 33875, 33876, 33877, 33880, 33884, 33891, 33893, 33903, 33909, 33914, 33919, 33920, 33925, 33929, 33933, 33941, 33947, 33951, 33954, 33958, 33959, 33962, 33963, 33965, 33966, 33971, 33972, 33976, 33977, 33979, 33981, 33982, 33984, 33985, 33987, 33988, 33989, 33990, 33993, 33994, 33997, 33998, 34000, 34001, 34002, 34007, 34008, 34011, 34012, 34020, 34025, 34026, 34029, 34036, 34038, 34042, 34048, 34052, 34053, 34055, 34058, 34059, 34061, 34062, 34065, 34066, 34068, 34070, 34073, 34074, 34077, 34080, 34081, 34084, 34087, 34090, 34091, 34097, 34104, 34111, 34112, 34113, 34114, 34116, 34119, 34120, 34125, 34127, 34136, 34141, 34146, 34147, 34154, 34156, 34157, 34159, 34160, 34161, 34163, 34164, 34165, 34169, 34172, 34173, 34175, 34182, 34184, 34186, 34189, 34190, 34191, 34195, 34198, 34201, 34202, 34203, 34205, 34212, 34217, 34222, 34226, 34227, 34232, 34234, 34241, 34243, 34247, 34249, 34250, 34252, 34258, 34260, 34261, 34266, 34270, 34273, 34274, 34279, 34281, 34285, 34290, 34294, 34295, 34298, 34300, 34302, 34305, 34307, 34312, 34313, 34314, 34315, 34316, 34318, 34324, 34327, 34329, 34330, 34331, 34336, 34341, 34343, 34344, 34345, 34350, 34352, 34357, 34360, 34363, 34366, 34367, 34370, 34371, 34375, 34377, 34379, 34384, 34385, 34386, 34388, 34395, 34401, 34402, 34404, 34408, 34416, 34417, 34423, 34428, 34432, 34433, 34434, 34438, 34439, 34446, 34449, 34450, 34451, 34452, 34459, 34465, 34466, 34469, 34475, 34476, 34478, 34482, 34483, 34484, 34485, 34488, 34498, 34499, 34500, 34501, 34502, 34506, 34507, 34510, 34517, 34518, 34519, 34533, 34535, 34536, 34540, 34541, 34542, 34550, 34553, 34556, 34557, 34558, 34560, 34563, 34568, 34569, 34574, 34576, 34580, 34582, 34583, 34591, 34592, 34595, 34596, 34599, 34600, 34601, 34613, 34615, 34617, 34619, 34624, 34625, 34627, 34631, 34633, 34634, 34636, 34639, 34640, 34645, 34646, 34647, 34650, 34653, 34654, 34666, 34667, 34669, 34670, 34672, 34675, 34680, 34682, 34683, 34689, 34691, 34693, 34695, 34696, 34697, 34699, 34708, 34711, 34713, 34717, 34718, 34719, 34720, 34722, 34723, 34724, 34725, 34727, 34728, 34729, 34731, 34734, 34740, 34741, 34745, 34750, 34753, 34759, 34761, 34762, 34765, 34766, 34767, 34768, 34771, 34772, 34775, 34777, 34778, 34779, 34780, 34783, 34795, 34797, 34806, 34807, 34809, 34810, 34812, 34814, 34816, 34817, 34818, 34820, 34827, 34829, 34834, 34835, 34840, 34841, 34844, 34850, 34851, 34852, 34865, 34866, 34873, 34874, 34878, 34880, 34882, 34887, 34893, 34895, 34897, 34902, 34903, 34904, 34905, 34908, 34910, 34913, 34915, 34916, 34922, 34926, 34927, 34929, 34931, 34938, 34942, 34949, 34950, 34951, 34952, 34956, 34963, 34966, 34970, 34978, 34981, 34987, 34989, 34991, 34992, 34994, 34995, 34996, 35003, 35004, 35005, 35008, 35013, 35014, 35024, 35025, 35028, 35029, 35030, 35032, 35033, 35035, 35037, 35041, 35047, 35049, 35055, 35057, 35059, 35062, 35064, 35068, 35076, 35078, 35085, 35088, 35089, 35092, 35095, 35096, 35097, 35098, 35099, 35103, 35104, 35105, 35108, 35109, 35114, 35120, 35122, 35132, 35136, 35137, 35146, 35148, 35150, 35153, 35155, 35157, 35159, 35160, 35164, 35167, 35174, 35177, 35179, 35182, 35183, 35185, 35189, 35192, 35194, 35195, 35196, 35198, 35204, 35210, 35213, 35217, 35218, 35222, 35223, 35225, 35226, 35228, 35229, 35230, 35231, 35235, 35237, 35243, 35245, 35248, 35249, 35252, 35264, 35267, 35268, 35276, 35278, 35280, 35285, 35294, 35295, 35297, 35298, 35300, 35312, 35317, 35318, 35320, 35321, 35324, 35326, 35327, 35329, 35331, 35360, 35362, 35363, 35364, 35365, 35366, 35369, 35370, 35374, 35375, 35376, 35381, 35383, 35384, 35385, 35389, 35391, 35392, 35393, 35394, 35397, 35398, 35407, 35409, 35412, 35415, 35423, 35427, 35434, 35440, 35445, 35447, 35449, 35457, 35458, 35461, 35469, 35470, 35471, 35472, 35473, 35481, 35482, 35484, 35487, 35490, 35492, 35495, 35500, 35501, 35503, 35505, 35507, 35508, 35512, 35515, 35516, 35518, 35519, 35523, 35524, 35528, 35530, 35532, 35534, 35535, 35539, 35540, 35542, 35543, 35544, 35554, 35559, 35560, 35562, 35564, 35572, 35576, 35583, 35586, 35588, 35592, 35593, 35596, 35600, 35602, 35604, 35609, 35610, 35620, 35621, 35623, 35626, 35630, 35631, 35632, 35642, 35644, 35649, 35650, 35651, 35654, 35655, 35656, 35660, 35661, 35668, 35677, 35678, 35679, 35680, 35682, 35685, 35689, 35691, 35695, 35699, 35701, 35712, 35714, 35716, 35718, 35724, 35725, 35728, 35729, 35732, 35733, 35734, 35736, 35737, 35742, 35743, 35751, 35752, 35754, 35758, 35761, 35763, 35765, 35767, 35770, 35775, 35776, 35777, 35779, 35780, 35791, 35793, 35794, 35795, 35796, 35803, 35804, 35808, 35809, 35812, 35814, 35816, 35817, 35822, 35824, 35825, 35827, 35828, 35830, 35835, 35836, 35842, 35847, 35851, 35855, 35859, 35862, 35866, 35869, 35870, 35873, 35874, 35880, 35889, 35890, 35893, 35895, 35902, 35912, 35913, 35914, 35915, 35918, 35920, 35923, 35925, 35933, 35935, 35940, 35941, 35945, 35949, 35951, 35955, 35956, 35958, 35959, 35961, 35962, 35964, 35967, 35968, 35970, 35971, 35973, 35976, 35987, 35988, 35996, 35997, 35999, 36007, 36012, 36014, 36015, 36020, 36022, 36023, 36024, 36025, 36027, 36030, 36036, 36043, 36045, 36057, 36059, 36062, 36064, 36069, 36073, 36079, 36082, 36084, 36085, 36089, 36094, 36098, 36101, 36103, 36105, 36106, 36108, 36112, 36113, 36114, 36118, 36119, 36120, 36121, 36130, 36134, 36136, 36139, 36144, 36151, 36152, 36154, 36156, 36157, 36161, 36164, 36169, 36173, 36181, 36183, 36184, 36185, 36191, 36193, 36199, 36200, 36205, 36206, 36209, 36210, 36211, 36223, 36231, 36232, 36234, 36238, 36240, 36243, 36249, 36253, 36258, 36263, 36266, 36268, 36273, 36286, 36288, 36291, 36292, 36294, 36295, 36297, 36300, 36303, 36304, 36310, 36313, 36314, 36319, 36325, 36328, 36334, 36335, 36339, 36344, 36352, 36356, 36357, 36358, 36359, 36360, 36365, 36367, 36369, 36370, 36378, 36380, 36385, 36386, 36389, 36391, 36393, 36394, 36401, 36403, 36404, 36419, 36429, 36430, 36431, 36432, 36437, 36439, 36447, 36452, 36463, 36465, 36467, 36472, 36473, 36481, 36483, 36484, 36488, 36490, 36492, 36498, 36502, 36510, 36513, 36515, 36522, 36523, 36528, 36529, 36535, 36537, 36538, 36539, 36545, 36550, 36554, 36563, 36570, 36572, 36575, 36580, 36581, 36587, 36588, 36589, 36595, 36596, 36603, 36610, 36611, 36624, 36627, 36630, 36631, 36640, 36656, 36658, 36662, 36663, 36664, 36666, 36668, 36671, 36673, 36677, 36683, 36687, 36691, 36694, 36697, 36700, 36701, 36703, 36705, 36707, 36709, 36711, 36712, 36720, 36722, 36727, 36731, 36732, 36734, 36736, 36742, 36744, 36749, 36752, 36753, 36755, 36756, 36760, 36761, 36762, 36765, 36767, 36768, 36772, 36774, 36776, 36777, 36782, 36792, 36793, 36794, 36797, 36809, 36813, 36814, 36816, 36817, 36820, 36821, 36823, 36826, 36827, 36833, 36838, 36839, 36850, 36852, 36857, 36861, 36862, 36865, 36866, 36868, 36869, 36871, 36873, 36875, 36877, 36878, 36882, 36885, 36887, 36891, 36892, 36899, 36901, 36903, 36907, 36915, 36920, 36922, 36927, 36930, 36932, 36934, 36936, 36943, 36945, 36946, 36953, 36963, 36967, 36968, 36972, 36973, 36976, 36980, 36982, 36991, 36992, 36994, 36996, 36999, 37006, 37017, 37019, 37021, 37024, 37026, 37027, 37032, 37038, 37047, 37049, 37053, 37059, 37061, 37065, 37070, 37071, 37073, 37075, 37077, 37081, 37087, 37089, 37091, 37093, 37097, 37099, 37101, 37102, 37105, 37109, 37113, 37116, 37117, 37122, 37124, 37130, 37136, 37145, 37146, 37148, 37154, 37155, 37159, 37162, 37165, 37167, 37169, 37181, 37187, 37188, 37191, 37196, 37200, 37205, 37206, 37207, 37217, 37218, 37230, 37236, 37237, 37241, 37243, 37245, 37246, 37248, 37250, 37256, 37261, 37265, 37266, 37267, 37269, 37272, 37273, 37280, 37290, 37295, 37296, 37304, 37309, 37312, 37318, 37323, 37328, 37329, 37330, 37332, 37333, 37335, 37336, 37338, 37339, 37342, 37343, 37344, 37349, 37350, 37351, 37353, 37356, 37359, 37360, 37365, 37367, 37371, 37373, 37382, 37385, 37388, 37390, 37391, 37392, 37393, 37398, 37399, 37401, 37404, 37405, 37408, 37410, 37413, 37414, 37418, 37419, 37420, 37423, 37424, 37434, 37439, 37446, 37450, 37452, 37462, 37464, 37465, 37466, 37467, 37473, 37475, 37478, 37480, 37481, 37482, 37483, 37492, 37499, 37506, 37510, 37515, 37517, 37518, 37521, 37523, 37524, 37527, 37529, 37531, 37533, 37536, 37539, 37543, 37544, 37546, 37547, 37548, 37552, 37556, 37557, 37562, 37565, 37567, 37581, 37583, 37591, 37594, 37597, 37598, 37600, 37601, 37607, 37610, 37616, 37617, 37623, 37624, 37626, 37627, 37631, 37632, 37634, 37638, 37639, 37642, 37650, 37659, 37661, 37672, 37674, 37676, 37677, 37679, 37684, 37693, 37694, 37695, 37700, 37704, 37705, 37706, 37712, 37719, 37723, 37732, 37736, 37737, 37738, 37739, 37742, 37746, 37747, 37750, 37753, 37758, 37759, 37776, 37782, 37787, 37791, 37808, 37809, 37812, 37813, 37824, 37826, 37830, 37836, 37851, 37852, 37853, 37854, 37857, 37859, 37864, 37866, 37870, 37871, 37875, 37877, 37878, 37893, 37902, 37911, 37918, 37924, 37926, 37928, 37930, 37937, 37939, 37942, 37943, 37946, 37950, 37951, 37961, 37966, 37967, 37974, 37985, 37986, 37989, 37993, 37996, 37997, 38000, 38002, 38005, 38007, 38009, 38011, 38016, 38017, 38030, 38034, 38040, 38041, 38049, 38056, 38057, 38064, 38065, 38068, 38073, 38082, 38090, 38097, 38100, 38102, 38104, 38105, 38110, 38115, 38116, 38122, 38125, 38126, 38135, 38136, 38138, 38144, 38145, 38151, 38155, 38161, 38163, 38168, 38170, 38171, 38181, 38186, 38199, 38202, 38205, 38206, 38208, 38210, 38214, 38219, 38223, 38225, 38231, 38243, 38247, 38256, 38267, 38268, 38272, 38275, 38280, 38281, 38293, 38304, 38311, 38321, 38323, 38325, 38326, 38332, 38334, 38348, 38350, 38356, 38358, 38363, 38364, 38365, 38366, 38372, 38381, 38382, 38385, 38392, 38395, 38396, 38401, 38411, 38413, 38414, 38418, 38420, 38421, 38422, 38427, 38428, 38433, 38439, 38442, 38445, 38446, 38448, 38450, 38455, 38459, 38469, 38471, 38475, 38483, 38484, 38485, 38486, 38488, 38489, 38496, 38497, 38501, 38504, 38522, 38524, 38533, 38538, 38539, 38542, 38550, 38552, 38561, 38563, 38564, 38567, 38573, 38576, 38577, 38594, 38597, 38603, 38604, 38606, 38615, 38617, 38620, 38627, 38630, 38631, 38632, 38638, 38641, 38643, 38644, 38653, 38657, 38659, 38662, 38668, 38669, 38670, 38673, 38676, 38678, 38682, 38683, 38687, 38691, 38692, 38694, 38695, 38697, 38699, 38704, 38706, 38711, 38727, 38728, 38730, 38732, 38740, 38741, 38742, 38744, 38750, 38756, 38757, 38758, 38759, 38771, 38774, 38778, 38784, 38788, 38791, 38800, 38802, 38806, 38825, 38829, 38832, 38833, 38836, 38851, 38853, 38855, 38871, 38873, 38878, 38881, 38883, 38888, 38890, 38895, 38896, 38899, 38903, 38904, 38905, 38906, 38914, 38922, 38925, 38927, 38928, 38930, 38933, 38935, 38936, 38941, 38943, 38949, 38964, 38965, 38970, 38972, 38978, 38979, 38982, 38989, 38990, 38994, 38999, 39000, 39013, 39014, 39019, 39025, 39026, 39028, 39030, 39032, 39036, 39040, 39041, 39047, 39053, 39055, 39066, 39071, 39073, 39078, 39079, 39080, 39081, 39085, 39091, 39100, 39101, 39103, 39105, 39113, 39114, 39116, 39120, 39129, 39130, 39131, 39133, 39143, 39144, 39148, 39149, 39150, 39153, 39155, 39158, 39160, 39161, 39169, 39173, 39176, 39195, 39198, 39204, 39206, 39215, 39218, 39219, 39220, 39221, 39223, 39224, 39229, 39230, 39242, 39249, 39259, 39264, 39268, 39273, 39275, 39279, 39283, 39285, 39289, 39290, 39295, 39299, 39302, 39311, 39314, 39315, 39320, 39321, 39323, 39329, 39330, 39331, 39338, 39343, 39344, 39348, 39349, 39357, 39358, 39360, 39362, 39366, 39368, 39371, 39376, 39377, 39381, 39385, 39386, 39387, 39391, 39392, 39397, 39410, 39413, 39416, 39423, 39425, 39429, 39432, 39437, 39438, 39440, 39443, 39447, 39448, 39460, 39461, 39462, 39468, 39474, 39482, 39484, 39486, 39487, 39489, 39491, 39493, 39511, 39520, 39522, 39524, 39531, 39534, 39545, 39548, 39555, 39556, 39557, 39562, 39563, 39564, 39565, 39568, 39573, 39575, 39577, 39580, 39582, 39584, 39586, 39588, 39589, 39591, 39594, 39596, 39597, 39598, 39599, 39600, 39601, 39602, 39603, 39607, 39610, 39613, 39623, 39624, 39628, 39629, 39633, 39638, 39641, 39642, 39649, 39650, 39652, 39654, 39666, 39669, 39674, 39676, 39677, 39679, 39680, 39681, 39682, 39692, 39694, 39704, 39710, 39714, 39718, 39722, 39725, 39729, 39744, 39745, 39746, 39750, 39753, 39760, 39761, 39763, 39766, 39767, 39780, 39782, 39783, 39787, 39788, 39792, 39795, 39801, 39803, 39810, 39811, 39813, 39815, 39816, 39818, 39827, 39833, 39835, 39851, 39852, 39853, 39858, 39860, 39872, 39873, 39874, 39878, 39882, 39883, 39885, 39889, 39896, 39898, 39901, 39907, 39908, 39913, 39914, 39918, 39920, 39921, 39922, 39924, 39925, 39927, 39938, 39940, 39942, 39945, 39954, 39960, 39963, 39969, 39972, 39973, 39976, 39977, 39978, 39979, 39981, 39982, 39985, 39990, 39994, 39996, 39997, 40004, 40007, 40012, 40018, 40019, 40020, 40023, 40025, 40031, 40033, 40034, 40038, 40039, 40056, 40058, 40059, 40061, 40066, 40070, 40076, 40078, 40083, 40085, 40089, 40090, 40098, 40102, 40107, 40112, 40121, 40124, 40134, 40141, 40143, 40146, 40149, 40151, 40154, 40159, 40165, 40167, 40170, 40177, 40181, 40182, 40186, 40198, 40207, 40212, 40216, 40218, 40223, 40225, 40227, 40232, 40233, 40257, 40264, 40265, 40269, 40273, 40278, 40280, 40282, 40283, 40284, 40286, 40291, 40294, 40300, 40302, 40305, 40307, 40309, 40314, 40317, 40321, 40325, 40326, 40328, 40329, 40330, 40332, 40341, 40342, 40346, 40350, 40351, 40360, 40370, 40371, 40372, 40373, 40374, 40380, 40388, 40396, 40408, 40409, 40410, 40413, 40418, 40419, 40428, 40430, 40431, 40434, 40441, 40443, 40446, 40451, 40461, 40463, 40477, 40478, 40480, 40483, 40484, 40502, 40503, 40507, 40508, 40514, 40518, 40524, 40532, 40533, 40534, 40542, 40553, 40554, 40557, 40562, 40564, 40566, 40569, 40573, 40577, 40579, 40586, 40588, 40589, 40590, 40599, 40608, 40610, 40613, 40619, 40620, 40622, 40625, 40630, 40631, 40634, 40637, 40639, 40642, 40643, 40646, 40655, 40659, 40666, 40668, 40675, 40678, 40683, 40691, 40695, 40696, 40697, 40699, 40703, 40707, 40710, 40712, 40715, 40716, 40724, 40726, 40734, 40736, 40740, 40742, 40748, 40751, 40752, 40753, 40776, 40778, 40779, 40780, 40783, 40786, 40792, 40793, 40796, 40799, 40800, 40801, 40802, 40805, 40808, 40811, 40816, 40825, 40830, 40832, 40838, 40847, 40848, 40850, 40853, 40854, 40856, 40863, 40864, 40866, 40871, 40872, 40875, 40879, 40880, 40882, 40883, 40886, 40889, 40895, 40896, 40902, 40908, 40914, 40916, 40917, 40923, 40930, 40931, 40939, 40941, 40949, 40951, 40953, 40954, 40955, 40959, 40962, 40971, 40972, 40973, 40976, 40977, 40989, 40994, 40999, 41004, 41011, 41013, 41020, 41021, 41022, 41030, 41031, 41033, 41041, 41043, 41045, 41046, 41054, 41059, 41066, 41073, 41079, 41080, 41081, 41083, 41085, 41092, 41093, 41104, 41106, 41110, 41113, 41117, 41120, 41121, 41125, 41126, 41132, 41134, 41137, 41146, 41149, 41150, 41152, 41158, 41159, 41160, 41166, 41168, 41172, 41180, 41182, 41187, 41197, 41205, 41206, 41210, 41212, 41226, 41228, 41230, 41232, 41234, 41243, 41249, 41254, 41256, 41260, 41264, 41268, 41276, 41277, 41278, 41280, 41285, 41291, 41295, 41297, 41298, 41300, 41304, 41312, 41320, 41326, 41330, 41331, 41333, 41335, 41347, 41354, 41361, 41370, 41374, 41377, 41379, 41385, 41394, 41396, 41397, 41408, 41409, 41414, 41451, 41453, 41455, 41458, 41459, 41464, 41465, 41467, 41469, 41472, 41475, 41479, 41481, 41483, 41489, 41493, 41495, 41496, 41500, 41504, 41512, 41513, 41515, 41521, 41527, 41539, 41556, 41557, 41558, 41566, 41574, 41586, 41596, 41598, 41599, 41601, 41612, 41615, 41618, 41623, 41630, 41631, 41637, 41640, 41642, 41655, 41658, 41661, 41665, 41672, 41680, 41683, 41684, 41685, 41696, 41703, 41709, 41722, 41742, 41762, 41768, 41769, 41788, 41805, 41810, 41811, 41812, 41827, 41840, 41842, 41844, 41845, 41848, 41852, 41855, 41857, 41858, 41860, 41868, 41874, 41885, 41895, 41897, 41898, 41899, 41905, 41906, 41910, 41914, 41923, 41924, 41932, 41938, 41941, 41943, 41947, 41953, 41956, 41957, 41963, 41964, 41969, 41971, 41973, 41983, 41984, 41988, 41989, 41996, 41997, 41998, 42004, 42008, 42010, 42011, 42014, 42017, 42032, 42035, 42044, 42051, 42052, 42053, 42054, 42056, 42063, 42065, 42068, 42073, 42074, 42075, 42082, 42088, 42090, 42101, 42107, 42117, 42120, 42125, 42128, 42129, 42135, 42139, 42150, 42152, 42156, 42159, 42160, 42163, 42181, 42183, 42202, 42205, 42220, 42226, 42233, 42236, 42241, 42246, 42249, 42254, 42255, 42264, 42268, 42273, 42274, 42279, 42285, 42295, 42299, 42300, 42303, 42307, 42312, 42327, 42337, 42343, 42349, 42362, 42363, 42371, 42380, 42381, 42390, 42392, 42395, 42403, 42407, 42415, 42423, 42426, 42428, 42431, 42435, 42441, 42443, 42446, 42447, 42449, 42454, 42455, 42459, 42464, 42466, 42467, 42469, 42480, 42482, 42484, 42486, 42487, 42491, 42501, 42510, 42512, 42518, 42525, 42531, 42537, 42557, 42560, 42562, 42563, 42581, 42584, 42585, 42588, 42589, 42602, 42603, 42605, 42609, 42611, 42614, 42617, 42618, 42620, 42628, 42641, 42656, 42677, 42681, 42682, 42693, 42694, 42697, 42699, 42700, 42705, 42706, 42709, 42719, 42737, 42765, 42768, 42772, 42776, 42777, 42780, 42793, 42799, 42801, 42810, 42811, 42812, 42818, 42821, 42823, 42826, 42827, 42832, 42834, 42835, 42837, 42840, 42842, 42850, 42859, 42865, 42872, 42874, 42875, 42878, 42879, 42892, 42895, 42898, 42899, 42906, 42910, 42914, 42916, 42922, 42927, 42934, 42943, 42945, 42949, 42954, 42957, 42961, 42962, 42963, 42966, 42967, 42973, 42986, 42996, 42999, 43009, 43023, 43024, 43040, 43042, 43046, 43056, 43077, 43079, 43081, 43108, 43114, 43116, 43117, 43121, 43128, 43143, 43145, 43150, 43151, 43155, 43157, 43168, 43171, 43172, 43181, 43183, 43185, 43190, 43204, 43213, 43221, 43227, 43229, 43234, 43236, 43254, 43257, 43261, 43262, 43263, 43267, 43269, 43270, 43291, 43297, 43307, 43312, 43315, 43321, 43329, 43331, 43332, 43333, 43336, 43349, 43353, 43361, 43365, 43366, 43370, 43371, 43374, 43378, 43379, 43380, 43381, 43395, 43397, 43399, 43402, 43408, 43411, 43414, 43423, 43425, 43431, 43433, 43437, 43443, 43448, 43451, 43468, 43476, 43477, 43481, 43482, 43485, 43487, 43491, 43495, 43522, 43530, 43531, 43536, 43538, 43539, 43541, 43545, 43555, 43561, 43568, 43594, 43597, 43602, 43607, 43625, 43626, 43638, 43641, 43642, 43643, 43645, 43649, 43656, 43659, 43662, 43673, 43680, 43681, 43683, 43696, 43703, 43705, 43706, 43707, 43709, 43710, 43717, 43721, 43722, 43727, 43729, 43733, 43735, 43737, 43739, 43743, 43747, 43756, 43758, 43761, 43773, 43777, 43780, 43781, 43788, 43802, 43814, 43826, 43831, 43834, 43837, 43840, 43843, 43845, 43849, 43850, 43857, 43863, 43871, 43872, 43882, 43890, 43906, 43910, 43911, 43917, 43920, 43922, 43927, 43929, 43943, 43944, 43959, 43961, 43962, 43976, 43983, 43985, 43997, 43999, 44018, 44026, 44031, 44042, 44044, 44046, 44051, 44052, 44069, 44072, 44077, 44086, 44090, 44093, 44104, 44118, 44124, 44135, 44139, 44141, 44143, 44144, 44145, 44146, 44147, 44155, 44159, 44162, 44165, 44167, 44179, 44180, 44192, 44195, 44199, 44207, 44210, 44221, 44225, 44228, 44233, 44238, 44240, 44243, 44244, 44248, 44255, 44256, 44259, 44262, 44264, 44269, 44275, 44276, 44277, 44281, 44282, 44283, 44289, 44298, 44307, 44309, 44311, 44321, 44325, 44331, 44339, 44342, 44347, 44351, 44354, 44355, 44363, 44364, 44368, 44371, 44372, 44375, 44383, 44385, 44389, 44392, 44400, 44407, 44414, 44415, 44427, 44432, 44433, 44435, 44442, 44456, 44457, 44460, 44475, 44476, 44478, 44486, 44500, 44504, 44511, 44515, 44516, 44521, 44522, 44533, 44537, 44548, 44553, 44561, 44566, 44570, 44579, 44582, 44584, 44586, 44588, 44590, 44596, 44598, 44603, 44607, 44609, 44619, 44621, 44636, 44637, 44638, 44641, 44647, 44648, 44652, 44653, 44655, 44656, 44668, 44673, 44675, 44677, 44678, 44680, 44694, 44698, 44700, 44706, 44717, 44721, 44722, 44725, 44728, 44729, 44731, 44733, 44734, 44735, 44738, 44745, 44746, 44752, 44754, 44770, 44771, 44772, 44781, 44782, 44788, 44789, 44790, 44791, 44804, 44812, 44814, 44816, 44825, 44837, 44842, 44849, 44859, 44878, 44880, 44883, 44887, 44889, 44891, 44893, 44900, 44907, 44909, 44912, 44913, 44918, 44920, 44940, 44945, 44946, 44947, 44975, 44983, 44993, 44994, 45018, 45028, 45034, 45043, 45050, 45060, 45072, 45075, 45076, 45103, 45108, 45199, 45200, 45204, 45212, 45216, 45218, 45219, 45222, 45226, 45227, 45229, 45230, 45234, 45237, 45238, 45244, 45248, 45257, 45271, 45279, 45280, 45281, 45282, 45283, 45284, 45286, 45288, 45289, 45290, 45293, 45299, 45302, 45304, 45308, 45309, 45312, 45313, 45314, 45318, 45321, 45326, 45328, 45336, 45337, 45343, 45349, 45350, 45356, 45359, 45361, 45362, 45366, 45368, 45369, 45370, 45374, 45375, 45381, 45383, 45390, 45396, 45398, 45401, 45410, 45415, 45418, 45421, 45422, 45424, 45425, 45426, 45430, 45431, 45435, 45437, 45438, 45441, 45443, 45444, 45448, 45449, 45450, 45455, 45461, 45464, 45469, 45475, 45477, 45479, 45484, 45485, 45486, 45487, 45491, 45493, 45499, 45501, 45504, 45508, 45511, 45512, 45514, 45516, 45517, 45521, 45530, 45532, 45536, 45539, 45544, 45549, 45559, 45563, 45574, 45575, 45577, 45582, 45585, 45587, 45600, 45602, 45605, 45606, 45612, 45613, 45622, 45623, 45626, 45628, 45631, 45632, 45634, 45636, 45639, 45640, 45641, 45644, 45645, 45646, 45652, 45656, 45657, 45660, 45661, 45662, 45664, 45665, 45666, 45671, 45676, 45678, 45680, 45681, 45684, 45685, 45689, 45693, 45694, 45695, 45697, 45699, 45700, 45701, 45702, 45703, 45704, 45705, 45707, 45709, 45710, 45718, 45727, 45728, 45729, 45732, 45738, 45739, 45740, 45742, 45743, 45744, 45747, 45748, 45750, 45752, 45755, 45760, 45761, 45762, 45769, 45770, 45771, 45776, 45780, 45781, 45784, 45787, 45789, 45791, 45794, 45795, 45796, 45800, 45802, 45803, 45804, 45805, 45807, 45808, 45814, 45815, 45817, 45818, 45819, 45820, 45822, 45825, 45826, 45828, 45832, 45841, 45843, 45844, 45847, 45849, 45854, 45857, 45858, 45863, 45870, 45879, 45880, 45886, 45888, 45894, 45901, 45902, 45907, 45910, 45911, 45913, 45918, 45921, 45928, 45932, 45933, 45935, 45937, 45938, 45954, 45957, 45959, 45960, 45963, 45967, 45971, 45973, 45980, 45981, 45984, 45992, 45998, 46001, 46002, 46003, 46004, 46005, 46006, 46007, 46008, 46015, 46019, 46031, 46032, 46035, 46037, 46040, 46041, 46042, 46045, 46046, 46048, 46054, 46056, 46066, 46071, 46072, 46073, 46076, 46077, 46082, 46085, 46087, 46088, 46089, 46095, 46098, 46111, 46114, 46117, 46120, 46125, 46126, 46130, 46131, 46133, 46134, 46139, 46140, 46142, 46143, 46146, 46147, 46149, 46150, 46152, 46153, 46154, 46157, 46160, 46162, 46172, 46179, 46181, 46192, 46199, 46201, 46202, 46205, 46207, 46220, 46221, 46222, 46225, 46226, 46227, 46228, 46232, 46238, 46240, 46243, 46246, 46249, 46255, 46256, 46265, 46267, 46269, 46275, 46278, 46279, 46280, 46281, 46283, 46292, 46293, 46296, 46299, 46301, 46309, 46311, 46313, 46316, 46318, 46319, 46321, 46322, 46325, 46326, 46329, 46333, 46341, 46343, 46344, 46345, 46350, 46354, 46357, 46359, 46364, 46366, 46369, 46371, 46373, 46374, 46384, 46389, 46391, 46392, 46393, 46398, 46408, 46409, 46411, 46413, 46414, 46416, 46417, 46418, 46423, 46424, 46425, 46430, 46432, 46439, 46441, 46446, 46451, 46454, 46456, 46459, 46464, 46468, 46469, 46473, 46479, 46485, 46488, 46489, 46490, 46497, 46505, 46508, 46509, 46512, 46520, 46525, 46526, 46530, 46531, 46532, 46537, 46538, 46541, 46546, 46547, 46548, 46549, 46551, 46553, 46554, 46557, 46565, 46569, 46575, 46576, 46583, 46588, 46589, 46590, 46594, 46595, 46598, 46606, 46610, 46612, 46616, 46619, 46621, 46623, 46628, 46629, 46640, 46646, 46647, 46651, 46652, 46658, 46660, 46669, 46670, 46671, 46672, 46673, 46674, 46687, 46692, 46694, 46695, 46703, 46707, 46709, 46713, 46714, 46715, 46717, 46720, 46727, 46733, 46734, 46735, 46738, 46741, 46753, 46755, 46760, 46761, 46763, 46764, 46770, 46774, 46776, 46777, 46778, 46782, 46784, 46787, 46788, 46790, 46791, 46796, 46797, 46800, 46801, 46804, 46805, 46806, 46808, 46812, 46814, 46817, 46820, 46824, 46827, 46830, 46834, 46835, 46837, 46852, 46853, 46858, 46865, 46868, 46869, 46870, 46873, 46875, 46877, 46879, 46880, 46881, 46888, 46889, 46901, 46905, 46910, 46912, 46915, 46917, 46920, 46923, 46925, 46927, 46929, 46931, 46935, 46938, 46939, 46940, 46946, 46955, 46956, 46959, 46960, 46961, 46962, 46964, 46965, 46968, 46976, 46977, 46978, 46979, 46982, 46983, 46989, 46991, 47001, 47008, 47013, 47017, 47024, 47028, 47029, 47033, 47034, 47036, 47037, 47038, 47041, 47044, 47045, 47053, 47056, 47059, 47063, 47067, 47069, 47071, 47074, 47077, 47078, 47081, 47082, 47085, 47087, 47089, 47094, 47095, 47103, 47106, 47108, 47116, 47121, 47123, 47126, 47129, 47131, 47132, 47134, 47144, 47148, 47149, 47151, 47153, 47159, 47160, 47166, 47169, 47171, 47172, 47176, 47179, 47185, 47186, 47187, 47192, 47193, 47197, 47203, 47205, 47206, 47208, 47219, 47220, 47221, 47224, 47225, 47226, 47234, 47236, 47241, 47242, 47246, 47249, 47251, 47254, 47255, 47256, 47258, 47262, 47264, 47270, 47272, 47277, 47279, 47280, 47286, 47299, 47300, 47302, 47306, 47320, 47322, 47324, 47328, 47331, 47334, 47340, 47343, 47346, 47349, 47360, 47362, 47372, 47373, 47374, 47379, 47385, 47389, 47390, 47391, 47393, 47395, 47396, 47399, 47400, 47401, 47402, 47403, 47406, 47408, 47416, 47424, 47425, 47427, 47431, 47433, 47437, 47438, 47440, 47441, 47444, 47446, 47448, 47451, 47453, 47454, 47455, 47456, 47459, 47461, 47462, 47463, 47465, 47466, 47470, 47477, 47478, 47480, 47484, 47498, 47504, 47505, 47507, 47511, 47512, 47514, 47515, 47517, 47523, 47528, 47531, 47536, 47538, 47539, 47543, 47544, 47549, 47552, 47554, 47555, 47561, 47568, 47570, 47573, 47578, 47581, 47583, 47586, 47589, 47591, 47592, 47593, 47597, 47598, 47599, 47600, 47601, 47603, 47604, 47605, 47607, 47610, 47614, 47617, 47618, 47619, 47635, 47638, 47639, 47640, 47644, 47645, 47647, 47649, 47651, 47657, 47658, 47659, 47672, 47673, 47675, 47677, 47684, 47685, 47694, 47698, 47702, 47704, 47706, 47707, 47708, 47711, 47712, 47714, 47716, 47717, 47721, 47725, 47726, 47728, 47731, 47736, 47738, 47745, 47748, 47749, 47750, 47752, 47753, 47766, 47770, 47771, 47785, 47786, 47788, 47792, 47794, 47795, 47800, 47803, 47808, 47810, 47811, 47814, 47816, 47817, 47825, 47828, 47833, 47836, 47839, 47844, 47846, 47851, 47859, 47860, 47864, 47867, 47872, 47876, 47881, 47885, 47887, 47890, 47899, 47905, 47907, 47909, 47919, 47924, 47926, 47927, 47931, 47932, 47933, 47942, 47943, 47948, 47950, 47951, 47962, 47964, 47966, 47970, 47973, 47976, 47981, 47982, 47993, 48001, 48003, 48008, 48011, 48014, 48015, 48018, 48019, 48024, 48026, 48027, 48030, 48039, 48040, 48041, 48042, 48043, 48046, 48051, 48060, 48069, 48072, 48075, 48077, 48080, 48082, 48086, 48087, 48096, 48099, 48101, 48103, 48107, 48110, 48112, 48114, 48117, 48120, 48121, 48123, 48125, 48129, 48130, 48131, 48132, 48135, 48141, 48148, 48149, 48150, 48151, 48154, 48155, 48156, 48158, 48163, 48168, 48169, 48173, 48177, 48181, 48183, 48185, 48191, 48197, 48204, 48205, 48206, 48216, 48219, 48220, 48224, 48226, 48228, 48236, 48241, 48244, 48247, 48251, 48254, 48256, 48258, 48262, 48263, 48264, 48267, 48268, 48271, 48274, 48275, 48277, 48278, 48280, 48282, 48289, 48293, 48296, 48304, 48308, 48315, 48317, 48319, 48328, 48333, 48339, 48340, 48345, 48347, 48349, 48352, 48356, 48360, 48362, 48372, 48373, 48375, 48377, 48379, 48384, 48391, 48400, 48401, 48403, 48406, 48412, 48415, 48417, 48419, 48422, 48424, 48428, 48429, 48433, 48434, 48437, 48441, 48445, 48458, 48459, 48465, 48467, 48473, 48474, 48478, 48479, 48485, 48486, 48489, 48492, 48496, 48499, 48509, 48517, 48518, 48519, 48525, 48526, 48529, 48532, 48535, 48538, 48539, 48540, 48541, 48545, 48551, 48553, 48555, 48556, 48559, 48561, 48565, 48570, 48571, 48577, 48579, 48581, 48590, 48591, 48593, 48600, 48604, 48605, 48608, 48613, 48614, 48615, 48617, 48623, 48624, 48625, 48627, 48631, 48637, 48640, 48641, 48643, 48647, 48654, 48656, 48663, 48664, 48665, 48666, 48667, 48668, 48669, 48670, 48675, 48677, 48679, 48682, 48685, 48686, 48687, 48690, 48697, 48701, 48702, 48708, 48709, 48716, 48717, 48720, 48724, 48726, 48727, 48734, 48739, 48743, 48744, 48745, 48750, 48751, 48757, 48761, 48764, 48766, 48769, 48771, 48774, 48791, 48794, 48795, 48796, 48798, 48800, 48801, 48802, 48804, 48808, 48811, 48813, 48816, 48826, 48827, 48836, 48841, 48850, 48855, 48857, 48858, 48859, 48863, 48875, 48876, 48882, 48885, 48887, 48893, 48901, 48910, 48915, 48923, 48924, 48931, 48933, 48934, 48935, 48937, 48950, 48952, 48954, 48956, 48959, 48962, 48966, 48971, 48975, 48976, 48979, 48986, 48987, 48994, 48996, 48997, 49007, 49012, 49017, 49020, 49030, 49032, 49036, 49041, 49042, 49043, 49045, 49049, 49052, 49055, 49057, 49059, 49063, 49066, 49071, 49075, 49077, 49085, 49087, 49089, 49094, 49097, 49103, 49105, 49107, 49108, 49109, 49115, 49130, 49134, 49138, 49146, 49149, 49158, 49160, 49174, 49176, 49180, 49182, 49183, 49187, 49188, 49192, 49196, 49198, 49202, 49203, 49204, 49207, 49208, 49212, 49213, 49214, 49218, 49222, 49224, 49233, 49240, 49249, 49252, 49255, 49261, 49266, 49269, 49271, 49272, 49273, 49277, 49281, 49285, 49286, 49287, 49288, 49295, 49296, 49297, 49298, 49300, 49301, 49302, 49303, 49309, 49310, 49320, 49330, 49335, 49343, 49345, 49347, 49348, 49352, 49356, 49357, 49358, 49359, 49365, 49366, 49367, 49368, 49373, 49376, 49392, 49395, 49396, 49400, 49404, 49405, 49411, 49414, 49418, 49421, 49422, 49423, 49425, 49426, 49429, 49430, 49434, 49436, 49444, 49446, 49447, 49448, 49461, 49464, 49465, 49466, 49472, 49473, 49475, 49476, 49481, 49498, 49501, 49503, 49508, 49509, 49517, 49522, 49523, 49526, 49528, 49529, 49531, 49533, 49536, 49538, 49539, 49544, 49546, 49549, 49558, 49560, 49565, 49569, 49574, 49577, 49579, 49588, 49596, 49597, 49599, 49604, 49608, 49609, 49616, 49617, 49618, 49619, 49621, 49624, 49634, 49635, 49637, 49640, 49644, 49648, 49653, 49662, 49664, 49669, 49673, 49678, 49681, 49682, 49684, 49686, 49687, 49693, 49697, 49698, 49704, 49705, 49711, 49718, 49731, 49738, 49744, 49745, 49746, 49748, 49752, 49754, 49765, 49771, 49774, 49783, 49785, 49786, 49794, 49796, 49797, 49805, 49813, 49818, 49820, 49825, 49827, 49829, 49830, 49831, 49832, 49844, 49846, 49848, 49851, 49858, 49861, 49862, 49864, 49870, 49874, 49877, 49881, 49886, 49887, 49890, 49892, 49895, 49897, 49898, 49904, 49919, 49928, 49931, 49934, 49943, 49945, 49948, 49949, 49950, 49952, 49955, 49956, 49958, 49967, 49972, 49975, 49976, 49979, 49981, 49984, 49991, 50003, 50007, 50008, 50009, 50014, 50018, 50029, 50036, 50041, 50055, 50059, 50062, 50065, 50066, 50067, 50069, 50071, 50080, 50089, 50093, 50099, 50100, 50103, 50105, 50106, 50107, 50110, 50120, 50123, 50124, 50132, 50136, 50140, 50141, 50146, 50147, 50155, 50157, 50158, 50160, 50165, 50170, 50175, 50176, 50178, 50181, 50182, 50184, 50190, 50195, 50197, 50205, 50212, 50213, 50220, 50228, 50229, 50230, 50233, 50240, 50241, 50242, 50244, 50245, 50249, 50252, 50255, 50260, 50262, 50265, 50268, 50269, 50273, 50276, 50279, 50284, 50285, 50290, 50291, 50296, 50309, 50310, 50312, 50317, 50329, 50331, 50332, 50340, 50345, 50346, 50349, 50353, 50357, 50358, 50366, 50373, 50374, 50389, 50391, 50395, 50398, 50400, 50402, 50404, 50407, 50408, 50412, 50416, 50418, 50433, 50442, 50448, 50449, 50451, 50452, 50453, 50456, 50458, 50459, 50462, 50466, 50468, 50470, 50471, 50473, 50474, 50475, 50477, 50478, 50479, 50484, 50488, 50490, 50494, 50495, 50496, 50500, 50509, 50514, 50516, 50521, 50529, 50538, 50546, 50553, 50558, 50559, 50560, 50567, 50573, 50576, 50577, 50580, 50581, 50583, 50584, 50586, 50589, 50591, 50601, 50604, 50608, 50612, 50617, 50624, 50625, 50629, 50631, 50635, 50640, 50644, 50647, 50652, 50654, 50664, 50669, 50671, 50674, 50676, 50684, 50693, 50707, 50709, 50710, 50712, 50715, 50718, 50723, 50724, 50725, 50729, 50730, 50736, 50742, 50748, 50749, 50752, 50754, 50759, 50760, 50762, 50765, 50767, 50768, 50771, 50775, 50776, 50777, 50784, 50785, 50787, 50788, 50794, 50796, 50801, 50805, 50806, 50807, 50808, 50809, 50811, 50812, 50814, 50815, 50816, 50818, 50819, 50826, 50835, 50844, 50847, 50853, 50854, 50868, 50872, 50876, 50882, 50883, 50884, 50885, 50889, 50893, 50897, 50901, 50910, 50916, 50917, 50919, 50921, 50924, 50925, 50926, 50928, 50929, 50933, 50934, 50936, 50940, 50942, 50946, 50948, 50950, 50955, 50956, 50957, 50960, 50969, 50978, 50979, 50985, 50992, 50998, 51000, 51002, 51003, 51006, 51007, 51013, 51015, 51017, 51020, 51021, 51024, 51029, 51030, 51032, 51033, 51035, 51041, 51045, 51051, 51054, 51059, 51063, 51064, 51065, 51068, 51069, 51072, 51075, 51077, 51078, 51081, 51086, 51098, 51101, 51104, 51111, 51112, 51113, 51115, 51123, 51131, 51132, 51133, 51134, 51151, 51153, 51154, 51156, 51157, 51161, 51168, 51171, 51178, 51180, 51181, 51183, 51184, 51185, 51195, 51206, 51217, 51226, 51227, 51229, 51234, 51237, 51238, 51239, 51250, 51254, 51255, 51257, 51258, 51259, 51268, 51269, 51273, 51275, 51281, 51287, 51289, 51290, 51292, 51293, 51302, 51307, 51308, 51311, 51316, 51317, 51318, 51322, 51324, 51325, 51326, 51330, 51331, 51346, 51347, 51349, 51350, 51351, 51354, 51355, 51359, 51360, 51363, 51367, 51368, 51369, 51373, 51376, 51380, 51381, 51391, 51396, 51398, 51401, 51403, 51404, 51405, 51408, 51413, 51417, 51418, 51425, 51426, 51432, 51435, 51437, 51442, 51444, 51449, 51462, 51463, 51469, 51478, 51479, 51484, 51485, 51487, 51490, 51503, 51504, 51508, 51512, 51516, 51517, 51524, 51525, 51529, 51530, 51532, 51534, 51535, 51536, 51538, 51541, 51542, 51544, 51548, 51562, 51563, 51565, 51567, 51569, 51570, 51575, 51576, 51577, 51579, 51580, 51582, 51583, 51585, 51591, 51593, 51597, 51611, 51613, 51614, 51620, 51621, 51622, 51625, 51632, 51633, 51636, 51638, 51640, 51643, 51645, 51646, 51647, 51650, 51651, 51652, 51653, 51654, 51656, 51659, 51660, 51662, 51665, 51671, 51674, 51675, 51678, 51679, 51680, 51686, 51687, 51697, 51699, 51700, 51717, 51720, 51722, 51726, 51729, 51731, 51734, 51735, 51739, 51740, 51741, 51743, 51746, 51749, 51754, 51756, 51757, 51760, 51761, 51773, 51774, 51776, 51777, 51779, 51782, 51783, 51786, 51789, 51791, 51797, 51798, 51802, 51803, 51806, 51811, 51812, 51818, 51824, 51826, 51827, 51828, 51829, 51833, 51834, 51841, 51853, 51854, 51856, 51859, 51860, 51866, 51869, 51871, 51874, 51876, 51880, 51885, 51889, 51891, 51892, 51893, 51894, 51900, 51901, 51904, 51908, 51914, 51917, 51919, 51920, 51925, 51928, 51933, 51935, 51937, 51942, 51951, 51955, 51956, 51958, 51959, 51965, 51967, 51968, 51974, 51975, 51976, 51981, 51983, 51987, 51988, 51989, 51990, 51991, 51993, 51999, 52001, 52009, 52019, 52020, 52022, 52023, 52025, 52026, 52030, 52031, 52033, 52034, 52036, 52037, 52038, 52040, 52042, 52043, 52050, 52052, 52053, 52056, 52057, 52059, 52060, 52063, 52064, 52065, 52069, 52071, 52074, 52080, 52081, 52087, 52095, 52101, 52109, 52111, 52116, 52121, 52124, 52125, 52126, 52128, 52130, 52132, 52133, 52135, 52137, 52138, 52140, 52147, 52149, 52152, 52155, 52165, 52167, 52170, 52172, 52174, 52177, 52180, 52182, 52186, 52191, 52192, 52194, 52198, 52203, 52205, 52211, 52212, 52215, 52216, 52218, 52221, 52223, 52225, 52228, 52230, 52232, 52236, 52239, 52241, 52244, 52247, 52248, 52250, 52253, 52256, 52257, 52260, 52263, 52264, 52269, 52271, 52280, 52287, 52295, 52297, 52298, 52302, 52304, 52308, 52318, 52319, 52320, 52324, 52336, 52338, 52339, 52340, 52341, 52344, 52348, 52349, 52359, 52363, 52364, 52366, 52370, 52372, 52376, 52378, 52380, 52382, 52384, 52390, 52399, 52403, 52408, 52409, 52411, 52417, 52418, 52419, 52422, 52429, 52432, 52436, 52439, 52442, 52443, 52444, 52446, 52448, 52449, 52461, 52465, 52469, 52476, 52477, 52481, 52484, 52485, 52487, 52489, 52497, 52508, 52510, 52511, 52512, 52517, 52519, 52520, 52523, 52530, 52532, 52533, 52536, 52540, 52546, 52549, 52550, 52551, 52556, 52557, 52558, 52560, 52572, 52576, 52577, 52585, 52589, 52591, 52592, 52593, 52594, 52595, 52598, 52599, 52601, 52609, 52612, 52613, 52625, 52632, 52636, 52643, 52644, 52653, 52654, 52660, 52661, 52662, 52669, 52672, 52674, 52677, 52678, 52679, 52685, 52686, 52697, 52699, 52700, 52702, 52705, 52708, 52709, 52710, 52712, 52721, 52722, 52725, 52727, 52734, 52735, 52740, 52743, 52748, 52750, 52751, 52752, 52755, 52763, 52765, 52766, 52769, 52770, 52771, 52774, 52775, 52778, 52781, 52782, 52784, 52787, 52796, 52798, 52812, 52813, 52815, 52819, 52820, 52826, 52828, 52834, 52839, 52841, 52844, 52845, 52847, 52851, 52853, 52862, 52871, 52872, 52874, 52875, 52881, 52883, 52887, 52888, 52889, 52892, 52894, 52906, 52908, 52912, 52913, 52915, 52916, 52917, 52921, 52922, 52928, 52929, 52930, 52932, 52933, 52935, 52940, 52943, 52945, 52948, 52950, 52952, 52959, 52960, 52962, 52970, 52975, 52983, 52985, 52987, 52989, 52991, 52993, 52997, 53002, 53005, 53011, 53013, 53014, 53017, 53024, 53025, 53027, 53030, 53032, 53035, 53039, 53047, 53051, 53053, 53055, 53057, 53061, 53064, 53067, 53074, 53075, 53076, 53077, 53078, 53080, 53081, 53084, 53087, 53088, 53096, 53102, 53104, 53108, 53111, 53113, 53114, 53115, 53129, 53131, 53134, 53139, 53141, 53142, 53143, 53144, 53148, 53150, 53151, 53159, 53162, 53165, 53167, 53169, 53176, 53177, 53181, 53186, 53189, 53199, 53201, 53204, 53207, 53209, 53211, 53219, 53222, 53223, 53233, 53234, 53238, 53247, 53252, 53254, 53260, 53262, 53265, 53266, 53270, 53274, 53276, 53278, 53282, 53286, 53289, 53292, 53297, 53298, 53303, 53306, 53307, 53311, 53316, 53317, 53319, 53322, 53331, 53333, 53335, 53337, 53339, 53340, 53341, 53343, 53350, 53353, 53357, 53358, 53361, 53364, 53366, 53370, 53372, 53381, 53382, 53389, 53392, 53399, 53403, 53405, 53408, 53410, 53413, 53422, 53426, 53432, 53436, 53437, 53439, 53446, 53447, 53448, 53449, 53452, 53453, 53454, 53457, 53459, 53460, 53463, 53464, 53466, 53468, 53469, 53470, 53471, 53476, 53478, 53484, 53485, 53487, 53491, 53499, 53500, 53501, 53502, 53504, 53511, 53512, 53515, 53517, 53521, 53522, 53524, 53525, 53526, 53533, 53547, 53548, 53550, 53554, 53558, 53559, 53560, 53561, 53562, 53566, 53571, 53574, 53577, 53583, 53584, 53589, 53597, 53598, 53600, 53605, 53611, 53613, 53614, 53615, 53616, 53620, 53622, 53625, 53632, 53633, 53635, 53639, 53642, 53644, 53645, 53647, 53651, 53652, 53653, 53654, 53657, 53658, 53659, 53662, 53667, 53668, 53671, 53673, 53675, 53677, 53684, 53686, 53687, 53688, 53691, 53696, 53700, 53703, 53704, 53705, 53706, 53710, 53711, 53713, 53720, 53734, 53739, 53741, 53746, 53749, 53751, 53752, 53753, 53756, 53761, 53778, 53780, 53782, 53788, 53802, 53803, 53804, 53807, 53808, 53809, 53814, 53819, 53820, 53825, 53827, 53831, 53833, 53836, 53851, 53853, 53856, 53860, 53862, 53863, 53864, 53868, 53870, 53872, 53875, 53878, 53880, 53882, 53883, 53884, 53890, 53891, 53892, 53894, 53897, 53901, 53902, 53903, 53904, 53905, 53909, 53913, 53917, 53920, 53924, 53935, 53937, 53939, 53941, 53945, 53948, 53952, 53953, 53954, 53955, 53961, 53963, 53964, 53965, 53967, 53971, 53972, 53974, 53978, 53981, 53982, 53983, 53988, 53989, 53991, 53993, 53996, 53997, 53998, 54003, 54013, 54014, 54016, 54018, 54019, 54022, 54028, 54031, 54038, 54040, 54041, 54042, 54053, 54062, 54065, 54067, 54072, 54074, 54076, 54079, 54080, 54081, 54087, 54088, 54090, 54091, 54094, 54095, 54102, 54109, 54113, 54114, 54118, 54119, 54124, 54128, 54142, 54148, 54152, 54154, 54155, 54161, 54162, 54166, 54168, 54171, 54174, 54181, 54187, 54191, 54195, 54198, 54202, 54205, 54210, 54215, 54217, 54221, 54222, 54224, 54228, 54230, 54231, 54240, 54242, 54244, 54246, 54247, 54256, 54260, 54264, 54267, 54271, 54276, 54282, 54283, 54285, 54286, 54288, 54289, 54292, 54294, 54299, 54301, 54305, 54306, 54311, 54318, 54326, 54327, 54328, 54333, 54336, 54337, 54344, 54345, 54348, 54351, 54356, 54357, 54362, 54368, 54371, 54374, 54380, 54384, 54386, 54391, 54401, 54402, 54410, 54413, 54418, 54419, 54422, 54423, 54425, 54426, 54427, 54433, 54438, 54441, 54443, 54448, 54451, 54453, 54454, 54455, 54462, 54464, 54470, 54484, 54490, 54491, 54496, 54499, 54501, 54502, 54504, 54506, 54508, 54511, 54515, 54518, 54524, 54527, 54542, 54545, 54548, 54554, 54555, 54556, 54566, 54572, 54574, 54577, 54581, 54582, 54589, 54591, 54595, 54597, 54598, 54615, 54616, 54617, 54619, 54625, 54626, 54628, 54631, 54637, 54639, 54641, 54644, 54645, 54648, 54651, 54656, 54662, 54664, 54666, 54667, 54674, 54677, 54686, 54687, 54694, 54696, 54697, 54707, 54709, 54719, 54721, 54726, 54727, 54730, 54731, 54732, 54737, 54739, 54757, 54762, 54768, 54778, 54793, 54795, 54796, 54803, 54807, 54810, 54822, 54824, 54836, 54847, 54861, 54867, 54870, 54874, 54878, 54880, 54887, 54892, 54894, 54896, 54899, 54902, 54913, 54917, 54918, 54926, 54929, 54930, 54932, 54937, 54938, 54939, 54940, 54941, 54942, 54949, 54951, 54953, 54954, 54961, 54964, 54970, 54971, 54978, 54979, 54985, 54989, 54990, 54993, 54994, 54996, 55011, 55012, 55013, 55014, 55016, 55017, 55018, 55029, 55032, 55034, 55035, 55036, 55038, 55039, 55041, 55043, 55046, 55050, 55051, 55053, 55066, 55067, 55077, 55081, 55082, 55086, 55087, 55091, 55093, 55097, 55098, 55101, 55104, 55105, 55107, 55109, 55110, 55112, 55113, 55116, 55117, 55118, 55120, 55125, 55128, 55130, 55135, 55137, 55138, 55140, 55146, 55148, 55151, 55155, 55159, 55160, 55161, 55163, 55165, 55168, 55169, 55171, 55173, 55175, 55176, 55177, 55178, 55179, 55190, 55191, 55192, 55194, 55195, 55200, 55203, 55211, 55213, 55217, 55218, 55221, 55222, 55224, 55228, 55232, 55233, 55237, 55238, 55239, 55240, 55246, 55247, 55248, 55249, 55250, 55251, 55253, 55255, 55257, 55258, 55259, 55261, 55264, 55268, 55272, 55274, 55277, 55282, 55283, 55292, 55293, 55295, 55297, 55299, 55302, 55303, 55304, 55311, 55312, 55317, 55318, 55321, 55322, 55323, 55326, 55327, 55328, 55332, 55334, 55335, 55341, 55350, 55354, 55356, 55362, 55363, 55364, 55365, 55369, 55379, 55380, 55385, 55394, 55400, 55409, 55410, 55420, 55423, 55431, 55433, 55436, 55437, 55442, 55445, 55447, 55448, 55451, 55454, 55455, 55457, 55458, 55463, 55464, 55469, 55477, 55479, 55481, 55485, 55486, 55490, 55494, 55495, 55498, 55500, 55501, 55503, 55504, 55505, 55507, 55508, 55513, 55514, 55515, 55517, 55524, 55525, 55530, 55531, 55532, 55540, 55542, 55545, 55549, 55550, 55551, 55555, 55556, 55557, 55562, 55567, 55571, 55572, 55573, 55574, 55578, 55580, 55586, 55587, 55591, 55592, 55593, 55605, 55606, 55608, 55609, 55611, 55616, 55625, 55630, 55631, 55632, 55633, 55641, 55643, 55656, 55658, 55661, 55665, 55668, 55671, 55673, 55675, 55676, 55679, 55685, 55687, 55691, 55698, 55700, 55704, 55709, 55710, 55711, 55713, 55717, 55720, 55725, 55726, 55727, 55728, 55733, 55734, 55735, 55737, 55739, 55740, 55746, 55756, 55758, 55761, 55768, 55774, 55775, 55776, 55781, 55783, 55787, 55790, 55791, 55793, 55798, 55800, 55801, 55805, 55809, 55812, 55815, 55823, 55825, 55828, 55829, 55830, 55833, 55836, 55844, 55845, 55851, 55857, 55860, 55861, 55865, 55870, 55871, 55872, 55878, 55879, 55881, 55882, 55885, 55886, 55888, 55890, 55893, 55897, 55898, 55899, 55900, 55901, 55902, 55905, 55910, 55914, 55916, 55917, 55919, 55921, 55923, 55924, 55925, 55927, 55931, 55933, 55934, 55935, 55939, 55941, 55945, 55947, 55949, 55952, 55954, 55957, 55958, 55959, 55962, 55965, 55966, 55967, 55970, 55976, 55979, 55980, 55981, 55986, 55990, 55994, 55997, 56015, 56017, 56020, 56030, 56034, 56037, 56039, 56040, 56041, 56043, 56045, 56048, 56051, 56054, 56056, 56061, 56062, 56063, 56067, 56068, 56070, 56071, 56078, 56086, 56093, 56096, 56102, 56109, 56115, 56116, 56121, 56124, 56125, 56129, 56132, 56134, 56135, 56137, 56138, 56139, 56141, 56144, 56149, 56152, 56153, 56158, 56161, 56162, 56163, 56164, 56165, 56168, 56170, 56173, 56175, 56176, 56177, 56183, 56185, 56186, 56188, 56193, 56195, 56196, 56198, 56200, 56201, 56202, 56204, 56211, 56214, 56217, 56224, 56226, 56229, 56235, 56238, 56239, 56242, 56244, 56245, 56246, 56248, 56251, 56253, 56254, 56255, 56256, 56258, 56260, 56261, 56263, 56265, 56268, 56269, 56274, 56275, 56281, 56283, 56292, 56293, 56294, 56295, 56296, 56297, 56301, 56309, 56313, 56316, 56317, 56319, 56322, 56323, 56325, 56326, 56327, 56328, 56329, 56331, 56336, 56342, 56353, 56357, 56360, 56361, 56365, 56367, 56368, 56369, 56371, 56375, 56385, 56387, 56390, 56392, 56393, 56394, 56395, 56396, 56401, 56402, 56403, 56405, 56415, 56416, 56420, 56421, 56423, 56424, 56425, 56429, 56433, 56434, 56441, 56443, 56448, 56457, 56460, 56463, 56464, 56465, 56466, 56469, 56473, 56478, 56479, 56481, 56482, 56484, 56491, 56495, 56496, 56498, 56503, 56504, 56505, 56508, 56509, 56510, 56518, 56521, 56524, 56525, 56529, 56531, 56533, 56536, 56538, 56543, 56547, 56549, 56550, 56552, 56554, 56555, 56556, 56558, 56560, 56564, 56566, 56567, 56573, 56575, 56577, 56578, 56579, 56581, 56583, 56586, 56591, 56593, 56598, 56602, 56607, 56613, 56616, 56621, 56623, 56625, 56626, 56628, 56629, 56630, 56636, 56637, 56642, 56643, 56645, 56646, 56650, 56653, 56654, 56658, 56659, 56662, 56664, 56668, 56669, 56671, 56679, 56680, 56682, 56683, 56688, 56690, 56692, 56702, 56703, 56705, 56709, 56713, 56715, 56718, 56723, 56724, 56727, 56730, 56731, 56734, 56737, 56738, 56747, 56752, 56754, 56760, 56761, 56769, 56771, 56773, 56776, 56779, 56791, 56794, 56796, 56798, 56799, 56800, 56802, 56804, 56805, 56809, 56816, 56817, 56819, 56820, 56824, 56827, 56829, 56833, 56837, 56839, 56840, 56841, 56843, 56844, 56846, 56849, 56852, 56856, 56857, 56858, 56862, 56863, 56866, 56869, 56870, 56871, 56881, 56882, 56884, 56886, 56887, 56891, 56895, 56896, 56897, 56899, 56900, 56903, 56907, 56910, 56911, 56912, 56916, 56917, 56919, 56922, 56924, 56927, 56928, 56933, 56939, 56940, 56942, 56950, 56952, 56956, 56957, 56960, 56961, 56962, 56965, 56968, 56970, 56972, 56975, 56977, 56980, 56981, 56985, 56986, 56991, 56992, 56993, 56995, 56996, 56997, 57000, 57002, 57003, 57004, 57007, 57014, 57017, 57019, 57021, 57023, 57024, 57028, 57031, 57035, 57039, 57040, 57041, 57043, 57044, 57045, 57046, 57047, 57050, 57051, 57053, 57055, 57062, 57064, 57065, 57066, 57067, 57069, 57070, 57072, 57075, 57077, 57079, 57080, 57081, 57082, 57083, 57084, 57085, 57088, 57091, 57097, 57100, 57101, 57104, 57106, 57108, 57110, 57111, 57113, 57114, 57122, 57123, 57125, 57131, 57132, 57133, 57134, 57135, 57136, 57137, 57140, 57143, 57144, 57146, 57147, 57148, 57149, 57153, 57154, 57162, 57163, 57164, 57165, 57167, 57175, 57179, 57185, 57187, 57188, 57190, 57191, 57193, 57194, 57205, 57213, 57220, 57223, 57225, 57226, 57228, 57234, 57237, 57238, 57241, 57242, 57245, 57247, 57248, 57253, 57255, 57257, 57258, 57262, 57263, 57264, 57265, 57270, 57271, 57275, 57278, 57279, 57282, 57284, 57288, 57290, 57300, 57304, 57305, 57306, 57307, 57308, 57310, 57311, 57312, 57316, 57321, 57322, 57327, 57329, 57332, 57335, 57336, 57344, 57346, 57348, 57349, 57350, 57352, 57358, 57363, 57367, 57368, 57371, 57374, 57375, 57377, 57378, 57381, 57382, 57384, 57390, 57397, 57400, 57401, 57402, 57405, 57408, 57412, 57414, 57416, 57425, 57427, 57428, 57436, 57445, 57451, 57456, 57461, 57464, 57467, 57476, 57477, 57480, 57481, 57485, 57486, 57489, 57491, 57493, 57495, 57498, 57499, 57500, 57503, 57506, 57507, 57509, 57514, 57515, 57517, 57518, 57519, 57520, 57521, 57527, 57529, 57530, 57531, 57533, 57535, 57536, 57538, 57547, 57549, 57550, 57552, 57555, 57558, 57559, 57563, 57565, 57569, 57570, 57572, 57579, 57585, 57587, 57593, 57595, 57596, 57597, 57602, 57603, 57606, 57617, 57620, 57622, 57631, 57632, 57634, 57636, 57638, 57640, 57643, 57645, 57646, 57647, 57648, 57654, 57656, 57658, 57663, 57664, 57666, 57667, 57669, 57670, 57671, 57673, 57677, 57686, 57688, 57692, 57694, 57695, 57696, 57698, 57699, 57704, 57708, 57711, 57712, 57713, 57716, 57720, 57724, 57726, 57728, 57729, 57731, 57735, 57737, 57738, 57740, 57741, 57742, 57743, 57745, 57746, 57747, 57753, 57757, 57761, 57767, 57769, 57771, 57773, 57775, 57776, 57781, 57783, 57784, 57785, 57787, 57790, 57791, 57792, 57796, 57798, 57808, 57809, 57814, 57816, 57818, 57825, 57827, 57828, 57829, 57830, 57833, 57839, 57840, 57843, 57844, 57846, 57850, 57851, 57855, 57857, 57858, 57859, 57860, 57861, 57863, 57864, 57866, 57867, 57868, 57874, 57880, 57884, 57885, 57886, 57887, 57890, 57892, 57896, 57897, 57900, 57903, 57905, 57912, 57914, 57917, 57919, 57923, 57925, 57932, 57933, 57934, 57942, 57945, 57948, 57949, 57951, 57954, 57955, 57960, 57961, 57962, 57963, 57965, 57970, 57973, 57976, 57977, 57978, 57982, 57987, 57988, 57989, 57991, 57995, 57996, 57998, 58004, 58005, 58010, 58013, 58014, 58016, 58024, 58026, 58027, 58033, 58039, 58041, 58044, 58048, 58061, 58063, 58064, 58065, 58071, 58075, 58076, 58077, 58078, 58079, 58087, 58089, 58090, 58091, 58095, 58097, 58099, 58102, 58105, 58106, 58107, 58110, 58119, 58120, 58123, 58125, 58126, 58129, 58132, 58134, 58136, 58143, 58144, 58157, 58159, 58163, 58167, 58175, 58178, 58179, 58180, 58181, 58184, 58186, 58188, 58189, 58191, 58201, 58202, 58204, 58205, 58207, 58208, 58211, 58220, 58221, 58229, 58230, 58231, 58232, 58233, 58235, 58236, 58237, 58241, 58244, 58245, 58247, 58248, 58251, 58253, 58255, 58256, 58257, 58265, 58274, 58275, 58278, 58286, 58287, 58288, 58291, 58297, 58301, 58305, 58307, 58308, 58309, 58311, 58318, 58320, 58321, 58322, 58326, 58327, 58328, 58330, 58332, 58334, 58336, 58342, 58344, 58345, 58348, 58354, 58359, 58365, 58366, 58367, 58371, 58372, 58373, 58374, 58379, 58385, 58388, 58395, 58397, 58398, 58402, 58404, 58406, 58407, 58410, 58412, 58416, 58420, 58422, 58423, 58424, 58426, 58431, 58433, 58435, 58452, 58453, 58457, 58458, 58463, 58465, 58467, 58470, 58471, 58472, 58478, 58480, 58485, 58486, 58487, 58490, 58491, 58493, 58494, 58498, 58500, 58502, 58503, 58511, 58516, 58519, 58522, 58525, 58526, 58529, 58533, 58539, 58542, 58547, 58548, 58549, 58554, 58555, 58558, 58560, 58562, 58564, 58569, 58570, 58572, 58573, 58586, 58587, 58588, 58590, 58592, 58595, 58597, 58603, 58606, 58607, 58608, 58609, 58611, 58612, 58616, 58622, 58623, 58624, 58626, 58629, 58634, 58637, 58644, 58645, 58646, 58647, 58648, 58651, 58652, 58658, 58662, 58664, 58668, 58669, 58672, 58680, 58692, 58693, 58694, 58697, 58698, 58700, 58701, 58703, 58704, 58707, 58710, 58711, 58712, 58715, 58720, 58724, 58733, 58743, 58750, 58752, 58760, 58761, 58762, 58768, 58771, 58772, 58773, 58774, 58779, 58781, 58782, 58785, 58789, 58795, 58796, 58799, 58807, 58809, 58812, 58815, 58817, 58818, 58822, 58825, 58828, 58834, 58835, 58841, 58842, 58844, 58845, 58846, 58848, 58853, 58857, 58860, 58862, 58864, 58866, 58870, 58872, 58880, 58886, 58890, 58891, 58893, 58894, 58896, 58897, 58898, 58899, 58900, 58905, 58906, 58907, 58910, 58917, 58918, 58924, 58926, 58928, 58933, 58934, 58936, 58941, 58942, 58945, 58950, 58952, 58953, 58956, 58960, 58962, 58965, 58972, 58973, 58978, 58981, 58986, 58992, 58993, 58996, 58997, 59000, 59005, 59007, 59008, 59009, 59016, 59019, 59023, 59025, 59026, 59040, 59042, 59043, 59050, 59053, 59054, 59060, 59062, 59063, 59064, 59067, 59069, 59071, 59074, 59078, 59085, 59086, 59091, 59092, 59093, 59094, 59098, 59099, 59103, 59107, 59113, 59114, 59119, 59122, 59124, 59131, 59139, 59144, 59146, 59147, 59148, 59151, 59152, 59159, 59162, 59171, 59172, 59176, 59181, 59182, 59186, 59188, 59190, 59195, 59197, 59199, 59200, 59203, 59204, 59205, 59206, 59210, 59214, 59217, 59218, 59220, 59225, 59227, 59229, 59231, 59233, 59237, 59238, 59242, 59247, 59249, 59251, 59254, 59258, 59263, 59269, 59274, 59276, 59279, 59284, 59285, 59289, 59290, 59291, 59296, 59298, 59302, 59304, 59305, 59308, 59310, 59311, 59318, 59327, 59334, 59335, 59337, 59338, 59339, 59340, 59345, 59346, 59348, 59352, 59353, 59355, 59356, 59364, 59366, 59374, 59377, 59380, 59385, 59393, 59394, 59398, 59400, 59404, 59406, 59408, 59410, 59414, 59415, 59416, 59417, 59418, 59425, 59430, 59432, 59433, 59436, 59437, 59438, 59439, 59442, 59444, 59446, 59447, 59449, 59451, 59452, 59453, 59454, 59455, 59457, 59466, 59467, 59472, 59473, 59475, 59476, 59477, 59478, 59479, 59480, 59489, 59493, 59496, 59500, 59503, 59512, 59518, 59519, 59520, 59522, 59523, 59527, 59531, 59532, 59534, 59538, 59541, 59554, 59556, 59560, 59561, 59567, 59572, 59573, 59574, 59575, 59582, 59584, 59588, 59589, 59591, 59595, 59609, 59611, 59615, 59618, 59621, 59624, 59625, 59627, 59630, 59631, 59632, 59636, 59639, 59642, 59653, 59655, 59660, 59663, 59665, 59666, 59667, 59668, 59672, 59673, 59674, 59677, 59678, 59680, 59682, 59683, 59686, 59690, 59692, 59695, 59699, 59702, 59706, 59707, 59708, 59713, 59714, 59720, 59725, 59726, 59727, 59735, 59742, 59745, 59746, 59751, 59752, 59753, 59754, 59756, 59757, 59760, 59764, 59767, 59776, 59787, 59791, 59799, 59802, 59804, 59807, 59808, 59809, 59820, 59821, 59822, 59825, 59830, 59832, 59842, 59849, 59850, 59854, 59858, 59859, 59863, 59868, 59871, 59872, 59873, 59880, 59881, 59883, 59886, 59895, 59897, 59899, 59901, 59907, 59909, 59913, 59915, 59917, 59919, 59920, 59923, 59924, 59926, 59928, 59929, 59930, 59931, 59936, 59940, 59945, 59948, 59953, 59958, 59961, 59967, 59983, 59986, 59989, 59990, 59992, 59993, 59997, 59998, 59999, 60000, 60001, 60005, 60008, 60010, 60014, 60015, 60016, 60018, 60023, 60024, 60025, 60027, 60028, 60033, 60034, 60035, 60038, 60039, 60040, 60044, 60045, 60046, 60048, 60056, 60058, 60067, 60068, 60070, 60071, 60073, 60082, 60084, 60085, 60089, 60093, 60095, 60096, 60101, 60108, 60109, 60110, 60117, 60122, 60126, 60128, 60129, 60131, 60132, 60136, 60141, 60142, 60144, 60145, 60147, 60149, 60153, 60155, 60158, 60160, 60161, 60162, 60165, 60166, 60168, 60170, 60176, 60177, 60179, 60182, 60187, 60191, 60193, 60198, 60199, 60203, 60205, 60210, 60213, 60215, 60218, 60219, 60220, 60222, 60224, 60225, 60228, 60229, 60234, 60235, 60237, 60239, 60244, 60245, 60251, 60253, 60255, 60257, 60259, 60260, 60261, 60262, 60265, 60267, 60268, 60273, 60284, 60285, 60289, 60295, 60297, 60298, 60301, 60304, 60307, 60309, 60314, 60317, 60319, 60322, 60326, 60330, 60339, 60345, 60346, 60348, 60355, 60356, 60357, 60362, 60363, 60367, 60372, 60373, 60379, 60384, 60385, 60391, 60393, 60395, 60401, 60404, 60409, 60414, 60416, 60424, 60442, 60446, 60449, 60454, 60461, 60469, 60472, 60475, 60480, 60484, 60486, 60488, 60491, 60492, 60497, 60499, 60502, 60506, 60508, 60511, 60516, 60522, 60523, 60529, 60531, 60532, 60537, 60546, 60547, 60548, 60552, 60553, 60555, 60566, 60567, 60568, 60575, 60579, 60590, 60599, 60602, 60608, 60609, 60610, 60611, 60612, 60616, 60618, 60620, 60625, 60627, 60628, 60631, 60635, 60638, 60640, 60642, 60643, 60647, 60656, 60658, 60661, 60663, 60665, 60666, 60674, 60681, 60685, 60687, 60688, 60695, 60700, 60701, 60704, 60705, 60716, 60717, 60719, 60722, 60733, 60735, 60736, 60738, 60740, 60746, 60748, 60749, 60751, 60752, 60753, 60756, 60759, 60760, 60766, 60768, 60769, 60773, 60779, 60780, 60783, 60790, 60793, 60796, 60798, 60800, 60805, 60806, 60808, 60821, 60822, 60823, 60825, 60827, 60828, 60829, 60834, 60835, 60837, 60850, 60852, 60859, 60864, 60865, 60866, 60869, 60870, 60871, 60872, 60883, 60889, 60893, 60896, 60902, 60909, 60914, 60915, 60920, 60921, 60925, 60926, 60927, 60931, 60935, 60941, 60944, 60946, 60947, 60948, 60961, 60964, 60965, 60969, 60971, 60975, 60977, 60985, 60986, 60992, 60993, 60994, 60997, 61000, 61002, 61006, 61009, 61012, 61023, 61028, 61032, 61033, 61036, 61038, 61040, 61042, 61044, 61051, 61052, 61053, 61057, 61066, 61067, 61068, 61069, 61070, 61072, 61077, 61078, 61079, 61081, 61084, 61086, 61087, 61090, 61092, 61102, 61119, 61121, 61125, 61128, 61129, 61130, 61136, 61139, 61143, 61147, 61155, 61156, 61158, 61159, 61161, 61162, 61163, 61164, 61167, 61171, 61172, 61179, 61181, 61186, 61194, 61195, 61198, 61202, 61205, 61206, 61208, 61210, 61215, 61217, 61220, 61224, 61227, 61229, 61230, 61232, 61234, 61235, 61249, 61250, 61253, 61254, 61259, 61261, 61265, 61268, 61270, 61273, 61278, 61281, 61282, 61285, 61293, 61295, 61297, 61298, 61299, 61300, 61301, 61304, 61305, 61306, 61313, 61320, 61322, 61333, 61335, 61336, 61338, 61340, 61347, 61348, 61357, 61358, 61359, 61361, 61364, 61366, 61371, 61372, 61374, 61379, 61386, 61388, 61389, 61390, 61392, 61397, 61399, 61401, 61413, 61415, 61429, 61435, 61438, 61439, 61442, 61444, 61448, 61449, 61452, 61454, 61460, 61462, 61470, 61476, 61484, 61486, 61487, 61491, 61496, 61502, 61509, 61510, 61514, 61529, 61535, 61540, 61542, 61563, 61569, 61572, 61576, 61577, 61579, 61580, 61582, 61584, 61585, 61589, 61590, 61599, 61600, 61605, 61613, 61616, 61617, 61620, 61622, 61629, 61631, 61632, 61633, 61638, 61646, 61648, 61650, 61654, 61658, 61663, 61667, 61673, 61674, 61675, 61684, 61689, 61691, 61692, 61694, 61696, 61697, 61700, 61707, 61710, 61713, 61716, 61723, 61724, 61728, 61729, 61741, 61745, 61747, 61748, 61750, 61753, 61754, 61757, 61759, 61762, 61772, 61775, 61778, 61780, 61784, 61787, 61792, 61797, 61800, 61802, 61803, 61807, 61808, 61811, 61812, 61814, 61818, 61820, 61822, 61826, 61831, 61839, 61840, 61841, 61845, 61850, 61854, 61855, 61856, 61860, 61863, 61868, 61869, 61874, 61880, 61881, 61883, 61884, 61891, 61893, 61895, 61897, 61906, 61915, 61916, 61917, 61918, 61920, 61921, 61922, 61924, 61929, 61931, 61933, 61939, 61941, 61955, 61957, 61963, 61965, 61966, 61967, 61969, 61970, 61972, 61973, 61974, 61976, 61978, 61979, 61982, 61992, 61994, 62003, 62011, 62014, 62016, 62018, 62019, 62020, 62021, 62022, 62025, 62027, 62028, 62029, 62030, 62031, 62039, 62040, 62044, 62045, 62046, 62054, 62055, 62057, 62062, 62067, 62072, 62077, 62079, 62084, 62085, 62087, 62091, 62092, 62094, 62096, 62097, 62101, 62102, 62108, 62109, 62110, 62114, 62120, 62128, 62134, 62135, 62136, 62137, 62138, 62142, 62147, 62148, 62149, 62151, 62153, 62156, 62158, 62159, 62165, 62171, 62176, 62181, 62182, 62188, 62189, 62193, 62194, 62195, 62196, 62204, 62207, 62212, 62213, 62214, 62215, 62218, 62225, 62233, 62234, 62236, 62241, 62245, 62247, 62250, 62255, 62256, 62257, 62265, 62278, 62286, 62288, 62289, 62291, 62296, 62297, 62298, 62306, 62307, 62308, 62309, 62312, 62314, 62316, 62317, 62325, 62328, 62337, 62340, 62341, 62342, 62343, 62346, 62354, 62356, 62358, 62359, 62365, 62367, 62368, 62378, 62381, 62385, 62389, 62397, 62398, 62404, 62405, 62418, 62421, 62422, 62426, 62427, 62428, 62432, 62438, 62440, 62441, 62443, 62444, 62445, 62446, 62456, 62460, 62463, 62466, 62471, 62477, 62487, 62488, 62492, 62493, 62497, 62507, 62508, 62511, 62512, 62514, 62515, 62516, 62520, 62523, 62526, 62537, 62539, 62540, 62541, 62543, 62544, 62546, 62547, 62550, 62561, 62564, 62578, 62585, 62588, 62590, 62592, 62593, 62594, 62605, 62606, 62611, 62612, 62625, 62631, 62633, 62634, 62638, 62640, 62646, 62653, 62654, 62655, 62657, 62659, 62665, 62676, 62688, 62689, 62691, 62697, 62706, 62707, 62709, 62718, 62719, 62720, 62722, 62723, 62725, 62726, 62727, 62732, 62742, 62743, 62746, 62748, 62756, 62758, 62759, 62763, 62765, 62768, 62770, 62771, 62793, 62798, 62801, 62809, 62811, 62812, 62819, 62820, 62828, 62830, 62831, 62835, 62846, 62849, 62850, 62857, 62866, 62871, 62880, 62884, 62890, 62891, 62897, 62902, 62903, 62921, 62922, 62925, 62934, 62938, 62944, 62946, 62947, 62949, 62952, 62954, 62960, 62967, 62974, 62975, 62979, 62981, 62984, 62991, 62995, 62999, 63001, 63002, 63004, 63007, 63011, 63012, 63022, 63031, 63039, 63040, 63044, 63049, 63050, 63057, 63060, 63062, 63064, 63066, 63067, 63074, 63078, 63087, 63096, 63102, 63104, 63109, 63134, 63135, 63136, 63138, 63139, 63141, 63143, 63145, 63152, 63155, 63156, 63160, 63161, 63162, 63165, 63166, 63173, 63174, 63183, 63184, 63187, 63188, 63189, 63193, 63195, 63200, 63214, 63215, 63218, 63219, 63225, 63230, 63231, 63232, 63235, 63237, 63239, 63241, 63242, 63245, 63252, 63255, 63256, 63261, 63262, 63263, 63264, 63271, 63272, 63275, 63280, 63282, 63283, 63284, 63285, 63286, 63288, 63294, 63295, 63307, 63315, 63318, 63319, 63328, 63329, 63332, 63334, 63335, 63339, 63342, 63343, 63345, 63349, 63351, 63356, 63368, 63376, 63381, 63384, 63388, 63393, 63397, 63401, 63406, 63407, 63412, 63416, 63418, 63424, 63426, 63427, 63430, 63436, 63443, 63447, 63448, 63456, 63458, 63465, 63466, 63467, 63470, 63471, 63483, 63485, 63488, 63496, 63498, 63507, 63508, 63509, 63521, 63527, 63533, 63551, 63555, 63564, 63568, 63576, 63586, 63587, 63589, 63597, 63600, 63604, 63611, 63615, 63616, 63621, 63626, 63629, 63633, 63636, 63638, 63639, 63641, 63647, 63648, 63651, 63653, 63656, 63660, 63661, 63663, 63664, 63668, 63672, 63684, 63692, 63695, 63697, 63699, 63700, 63707, 63710, 63713, 63714, 63717, 63719, 63721, 63725, 63726, 63728, 63740, 63741, 63742, 63749, 63750, 63751, 63755, 63759, 63760, 63762, 63764, 63771, 63780, 63781, 63785, 63786, 63787, 63790, 63791, 63795, 63800, 63803, 63807, 63808, 63809, 63816, 63817, 63820, 63824, 63826, 63833, 63843, 63845, 63856, 63865, 63867, 63872, 63873, 63879, 63880, 63886, 63888, 63890, 63892, 63894, 63897, 63899, 63901, 63906, 63912, 63913, 63917, 63922, 63925, 63927, 63937, 63939, 63943, 63944, 63949, 63952, 63954, 63970, 63971, 63988, 63989, 63993, 63998, 64000, 64003, 64006, 64008, 64011, 64019, 64028, 64037, 64041, 64045, 64049, 64053, 64055, 64058, 64059, 64060, 64062, 64065, 64069, 64077, 64079, 64092, 64097, 64098, 64099, 64100, 64105, 64107, 64115, 64121, 64147, 64149, 64159, 64160, 64163, 64165, 64166, 64167, 64173, 64179, 64180, 64181, 64186, 64188, 64190, 64194, 64199, 64201, 64202, 64203, 64205, 64208, 64211, 64214, 64222, 64224, 64232, 64235, 64236, 64241, 64243, 64246, 64248, 64249, 64255, 64257, 64260, 64264, 64268, 64274, 64283, 64297, 64298, 64304, 64305, 64309, 64314, 64316, 64319, 64341, 64343, 64344, 64345, 64350, 64355, 64358, 64359, 64362, 64365, 64375, 64381, 64385, 64396, 64398, 64400, 64401, 64402, 64406, 64407, 64408, 64416, 64421, 64422, 64423, 64428, 64452, 64467, 64473, 64485, 64491, 64493, 64497, 64499, 64506, 64509, 64517, 64528, 64529, 64534, 64552, 64559, 64563, 64565, 64566, 64567, 64568, 64570, 64574, 64579, 64581, 64584, 64585, 64590, 64597, 64600, 64605, 64609, 64612, 64614, 64616, 64617, 64623, 64625, 64627, 64628, 64633, 64639, 64640, 64641, 64648, 64654, 64667, 64670, 64683, 64685, 64689, 64691, 64703, 64707, 64717, 64718, 64724, 64725, 64726, 64729, 64730, 64734, 64746, 64755, 64756, 64761, 64762, 64773, 64774, 64775, 64777, 64779, 64788, 64798, 64800, 64801, 64802, 64805, 64815, 64817, 64823, 64824, 64827, 64829, 64833, 64834, 64837, 64838, 64843, 64844, 64845, 64855, 64876, 64882, 64886, 64888, 64889, 64890, 64897, 64898, 64904, 64906, 64912, 64916, 64918, 64919, 64935, 64936, 64937, 64940, 64946, 64948, 64951, 64955, 64959, 64962, 64964, 64966, 64969, 64974, 64977, 64978, 64981, 64985, 64989, 64994, 64996, 65013, 65022, 65023, 65025, 65026, 65031, 65033, 65047, 65048, 65052, 65053, 65055, 65060, 65074, 65089, 65093, 65099, 65100, 65109, 65110, 65111, 65115, 65117, 65123, 65125, 65131, 65135, 65136, 65139, 65142, 65143, 65144, 65147, 65149, 65151, 65154, 65155, 65165, 65167, 65169, 65170, 65177, 65179, 65180, 65183, 65185, 65186, 65188, 65202, 65203, 65205, 65206, 65207, 65208, 65209, 65211, 65214, 65215, 65217, 65218, 65221, 65222, 65224, 65226, 65227, 65234, 65235, 65236, 65240, 65241, 65245, 65250, 65251, 65253, 65256, 65260, 65262, 65263, 65266, 65267, 65268, 65270, 65271, 65275, 65277, 65280, 65281, 65282, 65283, 65284, 65286, 65290, 65295, 65299, 65300, 65301, 65306, 65311, 65314, 65317, 65318, 65319, 65320, 65321, 65322, 65324, 65326, 65327, 65330, 65331, 65334, 65337, 65342, 65347, 65354, 65355, 65357, 65360, 65365, 65368, 65376, 65378, 65379, 65381, 65382, 65383, 65384, 65386, 65392, 65393, 65394, 65395, 65396, 65403, 65407, 65412, 65414, 65415, 65417, 65425, 65428, 65430, 65432, 65440, 65441, 65445, 65447, 65452, 65453, 65461, 65465, 65470, 65471, 65477, 65482, 65483, 65484, 65485, 65487, 65488, 65489, 65494, 65495, 65498, 65499, 65500, 65503, 65504, 65506, 65512, 65514, 65515, 65516, 65519, 65521, 65523, 65524, 65527, 65529, 65532, 65534, 65535, 65536, 65540, 65545, 65551, 65555, 65557, 65558, 65565, 65568, 65573, 65576, 65577, 65581, 65588, 65589, 65591, 65593, 65598, 65599, 65602, 65606, 65608, 65610, 65612, 65613, 65614, 65617, 65618, 65620, 65626, 65629, 65633, 65634, 65639, 65642, 65644, 65645, 65647, 65648, 65650, 65661, 65663, 65664, 65665, 65667, 65669, 65670, 65671, 65673, 65676, 65681, 65683, 65684, 65686, 65688, 65689, 65691, 65693, 65694, 65696, 65697, 65699, 65700, 65703, 65709, 65710, 65711, 65712, 65716, 65723, 65728, 65731, 65734, 65739, 65740, 65748, 65750, 65752, 65756, 65758, 65760, 65765, 65773, 65778, 65781, 65785, 65786, 65789, 65790, 65791, 65792, 65793, 65799, 65805, 65806, 65808, 65809, 65810, 65813, 65828, 65830, 65832, 65833, 65835, 65836, 65842, 65844, 65845, 65860, 65861, 65868, 65869, 65872, 65874, 65882, 65885, 65886, 65888, 65889, 65890, 65892, 65894, 65896, 65897, 65900, 65901, 65903, 65905, 65908, 65911, 65912, 65915, 65916, 65919, 65921, 65922, 65923, 65925, 65929, 65931, 65932, 65934, 65935, 65940, 65946, 65951, 65957, 65958, 65959, 65963, 65967, 65973, 65974, 65975, 65976, 65979, 65982, 65986, 65988, 65989, 65990, 65993, 65995, 65998, 66000, 66002, 66003, 66008, 66009, 66015, 66018, 66019, 66029, 66030, 66036, 66038, 66040, 66043, 66046, 66054, 66056, 66061, 66064, 66074, 66075, 66079, 66080, 66081, 66082, 66085, 66086, 66088, 66090, 66091, 66095, 66097, 66105, 66107, 66111, 66121, 66125, 66127, 66128, 66133, 66137, 66138, 66139, 66141, 66142, 66144, 66149, 66157, 66161, 66163, 66165, 66167, 66171, 66173, 66174, 66178, 66179, 66180, 66185, 66190, 66195, 66199, 66200, 66202, 66205, 66206, 66214, 66216, 66228, 66229, 66231, 66235, 66238, 66250, 66252, 66254, 66257, 66259, 66265, 66271, 66272, 66278, 66284, 66285, 66288, 66292, 66293, 66295, 66296, 66299, 66303, 66307, 66311, 66315, 66325, 66326, 66329, 66335, 66338, 66339, 66345, 66351, 66352, 66355, 66356, 66363, 66364, 66366, 66370, 66371, 66375, 66378, 66383, 66387, 66389, 66392, 66393, 66394, 66397, 66398, 66399, 66404, 66406, 66407, 66413, 66414, 66415, 66421, 66422, 66425, 66426, 66428, 66433, 66438, 66440, 66453, 66469, 66475, 66478, 66479, 66480, 66482, 66483, 66487, 66489, 66492, 66494, 66504, 66505, 66506, 66508, 66511, 66513, 66517, 66521, 66524, 66525, 66529, 66531, 66533, 66536, 66537, 66538, 66543, 66544, 66550, 66551, 66555, 66556, 66558, 66562, 66565, 66566, 66571, 66574, 66575, 66580, 66585, 66586, 66590, 66593, 66606, 66607, 66608, 66612, 66613, 66617, 66620, 66627, 66632, 66637, 66638, 66640, 66646, 66656, 66657, 66658, 66661, 66664, 66671, 66672, 66680, 66684, 66686, 66687, 66688, 66692, 66696, 66699, 66702, 66706, 66709, 66711, 66713, 66721, 66722, 66725, 66727, 66728, 66730, 66737, 66745, 66751, 66754, 66758, 66764, 66765, 66773, 66776, 66777, 66778, 66781, 66783, 66789, 66790, 66799, 66800, 66802, 66807, 66808, 66812, 66816, 66817, 66831, 66832, 66837, 66840, 66844, 66846, 66851, 66859, 66861, 66869, 66873, 66874, 66876, 66882, 66884, 66885, 66887, 66890, 66893, 66898, 66900, 66908, 66909, 66911, 66912, 66919, 66920, 66922, 66923, 66928, 66929, 66930, 66932, 66938, 66943, 66946, 66948, 66954, 66955, 66956, 66958, 66962, 66967, 66971, 66972, 66976, 66982, 66985, 66986, 66988, 66992, 66996, 66999, 67000, 67002, 67005, 67010, 67013, 67014, 67018, 67020, 67024, 67025, 67028, 67030, 67034, 67035, 67043, 67044, 67045, 67049, 67052, 67056, 67057, 67067, 67068, 67074, 67080, 67083, 67086, 67092, 67096, 67102, 67104, 67108, 67114, 67118, 67119, 67121, 67122, 67123, 67124, 67129, 67131, 67132, 67134, 67139, 67141, 67145, 67146, 67147, 67149, 67157, 67160, 67163, 67165, 67168, 67169, 67172, 67174, 67177, 67185, 67188, 67190, 67192, 67193, 67196, 67199, 67200, 67209, 67215, 67219, 67221, 67222, 67226, 67229, 67232, 67233, 67242, 67244, 67261, 67276, 67278, 67279, 67281, 67298, 67299, 67302, 67308, 67318, 67321, 67324, 67326, 67328, 67332, 67341, 67346, 67348, 67352, 67354, 67359, 67360, 67361, 67362, 67363, 67365, 67367, 67370, 67376, 67381, 67384, 67387, 67393, 67399, 67404, 67405, 67406, 67407, 67409, 67411, 67415, 67421, 67422, 67428, 67430, 67432, 67435, 67437, 67443, 67444, 67450, 67457, 67459, 67466, 67469, 67470, 67473, 67474, 67475, 67476, 67480, 67482, 67485, 67495, 67496, 67504, 67513, 67514, 67516, 67518, 67519, 67524, 67525, 67531, 67537, 67540, 67542, 67548, 67553, 67555, 67556, 67560, 67563, 67566, 67568, 67570, 67571, 67572, 67573, 67576, 67584, 67585, 67591, 67596, 67597, 67598, 67613, 67614, 67616, 67619, 67620, 67624, 67632, 67634, 67636, 67638, 67644, 67650, 67651, 67656, 67661, 67662, 67667, 67678, 67684, 67685, 67692, 67698, 67700, 67704, 67705, 67707, 67711, 67713, 67714, 67715, 67716, 67719, 67721, 67728, 67729, 67733, 67740, 67741, 67743, 67745, 67748, 67750, 67751, 67755, 67756, 67757, 67760, 67769, 67771, 67775, 67780, 67781, 67782, 67783, 67795, 67796, 67797, 67803, 67804, 67809, 67812, 67813, 67816, 67817, 67820, 67826, 67831, 67835, 67838, 67841, 67845, 67846, 67851, 67853, 67854, 67856, 67864, 67865, 67866, 67871, 67872, 67878, 67881, 67884, 67885, 67886, 67888, 67894, 67896, 67897, 67910, 67912, 67916, 67917, 67925, 67927, 67929, 67930, 67934, 67939, 67940, 67942, 67945, 67947, 67950, 67952, 67953, 67954, 67956, 67958, 67965, 67974, 67976, 67980, 67985, 67987, 67990, 67991, 67995, 68000, 68002, 68007, 68017, 68018, 68021, 68024, 68025, 68027, 68029, 68032, 68033, 68035, 68037, 68038, 68040, 68041, 68043, 68047, 68048, 68050, 68052, 68055, 68064, 68068, 68072, 68074, 68075, 68080, 68081, 68082, 68094, 68097, 68100, 68102, 68107, 68115, 68116, 68120, 68122, 68124, 68142, 68143, 68155, 68164, 68170, 68171, 68172, 68182, 68190, 68191, 68192, 68195, 68196, 68197, 68198, 68201, 68202, 68204, 68207, 68211, 68212, 68215, 68217, 68221, 68224, 68227, 68230, 68231, 68234, 68247, 68249, 68254, 68255, 68256, 68265, 68267, 68270, 68271, 68272, 68275, 68282, 68284, 68287, 68290, 68302, 68304, 68320, 68322, 68326, 68328, 68331, 68332, 68333, 68335, 68340, 68345, 68346, 68347, 68354, 68361, 68374, 68378, 68379, 68385, 68389, 68390, 68399, 68405, 68415, 68417, 68418, 68420, 68423, 68425, 68427, 68429, 68431, 68436, 68444, 68445, 68446, 68447, 68450, 68453, 68454, 68461, 68466, 68471, 68472, 68478, 68480, 68482, 68484, 68488, 68492, 68494, 68496, 68497, 68501, 68513, 68517, 68522, 68525, 68527, 68541, 68543, 68549, 68550, 68559, 68560, 68563, 68566, 68570, 68571, 68579, 68580, 68582, 68584, 68589, 68599, 68608, 68610, 68615, 68619, 68625, 68628, 68640, 68643, 68644, 68648, 68650, 68651, 68655, 68656, 68659, 68660, 68662, 68667, 68672, 68674, 68675, 68677, 68679, 68681, 68683, 68687, 68688, 68693, 68694, 68696, 68702, 68704, 68710, 68718, 68721, 68722, 68725, 68728, 68730, 68732, 68733, 68735, 68737, 68738, 68741, 68746, 68748, 68751, 68754, 68761, 68762, 68765, 68771, 68779, 68780, 68783, 68797, 68801, 68806, 68807, 68809, 68811, 68819, 68828, 68831, 68839, 68841, 68843, 68855, 68861, 68863, 68870, 68874, 68876, 68878, 68883, 68886, 68890, 68896, 68898, 68909, 68910, 68913, 68914, 68916, 68924, 68926, 68931, 68939, 68940, 68944, 68946, 68948, 68950, 68953, 68954, 68960, 68961, 68964, 68965, 68975, 68976, 68978, 68983, 68985, 68986, 68991, 68993, 68995, 68998, 68999, 69000, 69001, 69006, 69007, 69012, 69013, 69015, 69016, 69019, 69025, 69027, 69028, 69030, 69043, 69044, 69045, 69047, 69049, 69051, 69055, 69057, 69059, 69060, 69065, 69071, 69076, 69080, 69081, 69082, 69087, 69090, 69091, 69095, 69097, 69098, 69101, 69102, 69103, 69104, 69106, 69121, 69123, 69125, 69131, 69136, 69142, 69144, 69146, 69147, 69149, 69152, 69156, 69157, 69159, 69166, 69169, 69170, 69172, 69179, 69181, 69182, 69183, 69186, 69189, 69193, 69194, 69206, 69208, 69210, 69211, 69212, 69213, 69218, 69220, 69222, 69224, 69225, 69226, 69229, 69231, 69238, 69243, 69246, 69248, 69251, 69252, 69261, 69272, 69280, 69282, 69288, 69289, 69293, 69294, 69298, 69302, 69306, 69315, 69329, 69334, 69336, 69338, 69340, 69343, 69344, 69354, 69355, 69356, 69358, 69363, 69368, 69369, 69372, 69379, 69382, 69389, 69395, 69396, 69423, 69429, 69430, 69432, 69433, 69434, 69447, 69448, 69450, 69456, 69457, 69458, 69460, 69469, 69475, 69476, 69480, 69484, 69486, 69492, 69493, 69496, 69499, 69507, 69516, 69518, 69520, 69525, 69527, 69530, 69532, 69539, 69540, 69543, 69544, 69545, 69546, 69551, 69555, 69556, 69557, 69560, 69564, 69573, 69582, 69583, 69584, 69588, 69591, 69595, 69600, 69608, 69614, 69619, 69625, 69626, 69633, 69639, 69641, 69642, 69658, 69660, 69665, 69672, 69673, 69675, 69676, 69682, 69694, 69696, 69704, 69705, 69706, 69707, 69721, 69722, 69723, 69726, 69727, 69729, 69730, 69732, 69736, 69737, 69738, 69739, 69740, 69742, 69745, 69748, 69749, 69750, 69751, 69752, 69759, 69766, 69767, 69773, 69775, 69776, 69778, 69785, 69786, 69789, 69791, 69797, 69801, 69803, 69805, 69811, 69812, 69816, 69821, 69824, 69828, 69829, 69830, 69831, 69835, 69846, 69847, 69852, 69861, 69862, 69872, 69875, 69882, 69885, 69887, 69893, 69894, 69897, 69899, 69904, 69905, 69906, 69910, 69911, 69921, 69924, 69925, 69931, 69942, 69944, 69947, 69948, 69951, 69953, 69958, 69965, 69966, 69975, 69976, 69985, 69987, 69988, 69990, 69991, 69992, 69997, 69998, 70001, 70003, 70010, 70017, 70021, 70025, 70026, 70028, 70042, 70046, 70048, 70051, 70056, 70057, 70059, 70060, 70065, 70067, 70068, 70069, 70072, 70073, 70076, 70078, 70079, 70080, 70082, 70083, 70086, 70093, 70102, 70106, 70109, 70113, 70115, 70116, 70119, 70120, 70121, 70124, 70125, 70126, 70127, 70129, 70138, 70142, 70144, 70147, 70153, 70155, 70156, 70165, 70167, 70170, 70173, 70175, 70176, 70178, 70181, 70182, 70184, 70185, 70194, 70195, 70199, 70205, 70206, 70207, 70209, 70211, 70212, 70216, 70218, 70220, 70221, 70226, 70237, 70240, 70251, 70255, 70256, 70258, 70265, 70266, 70275, 70277, 70278, 70280, 70281, 70285, 70286, 70289, 70295, 70297, 70301, 70305, 70309, 70316, 70317, 70322, 70323, 70328, 70331, 70333, 70334, 70341, 70347, 70350, 70351, 70358, 70361, 70363, 70366, 70368, 70371, 70372, 70375, 70379, 70383, 70384, 70385, 70386, 70389, 70390, 70392, 70394, 70399, 70407, 70414, 70417, 70418, 70421, 70426, 70428, 70429, 70430, 70431, 70433, 70438, 70442, 70445, 70447, 70449, 70453, 70454, 70455, 70456, 70457, 70462, 70470, 70472, 70473, 70474, 70477, 70478, 70479, 70486, 70487, 70489, 70491, 70494, 70505, 70518, 70519, 70521, 70523, 70528, 70530, 70537, 70539, 70541, 70544, 70545, 70551, 70554, 70555, 70562, 70565, 70567, 70570, 70574, 70577, 70578, 70581, 70586, 70587, 70592, 70593, 70594, 70597, 70599, 70603, 70616, 70624, 70626, 70629, 70630, 70634, 70635, 70638, 70641, 70646, 70647, 70648, 70649, 70652, 70659, 70660, 70668, 70669, 70674, 70676, 70677, 70679, 70684, 70685, 70688, 70690, 70692, 70695, 70696, 70697, 70699, 70701, 70702, 70706, 70708, 70711, 70719, 70724, 70725, 70726, 70728, 70729, 70731, 70732, 70736, 70739, 70743, 70744, 70748, 70755, 70757, 70762, 70763, 70764, 70770, 70777, 70787, 70789, 70793, 70794, 70795, 70796, 70800, 70803, 70804, 70806, 70808, 70817, 70822, 70823, 70826, 70829, 70833, 70835, 70844, 70848, 70852, 70854, 70855, 70856, 70860, 70862, 70864, 70866, 70867, 70873, 70876, 70877, 70878, 70882, 70890, 70898, 70903, 70904, 70909, 70910, 70911, 70913, 70915, 70918, 70920, 70921, 70924, 70927, 70941, 70943, 70945, 70948, 70949, 70951, 70954, 70958, 70959, 70970, 70973, 70977, 70979, 70981, 70985, 70989, 70992, 70994, 70998, 71007, 71010, 71013, 71016, 71017, 71019, 71021, 71025, 71026, 71033, 71035, 71041, 71042, 71044, 71046, 71047, 71049, 71050, 71051, 71054, 71062, 71065, 71066, 71067, 71068, 71069, 71071, 71073, 71076, 71080, 71081, 71083, 71087, 71090, 71094, 71095, 71102, 71103, 71104, 71106, 71108, 71111, 71112, 71113, 71121, 71123, 71125, 71127, 71129, 71130, 71131, 71132, 71135, 71137, 71139, 71145, 71146, 71147, 71156, 71161, 71162, 71170, 71171, 71173, 71174, 71175, 71187, 71191, 71196, 71197, 71206, 71207, 71212, 71213, 71218, 71229, 71234, 71236, 71238, 71239, 71244, 71245, 71249, 71255, 71256, 71260, 71261, 71263, 71267, 71268, 71276, 71281, 71282, 71284, 71286, 71290, 71291, 71292, 71295, 71300, 71301, 71308, 71310, 71311, 71313, 71317, 71321, 71323, 71330, 71333, 71336, 71342, 71343, 71349, 71350, 71355, 71358, 71364, 71372, 71373, 71375, 71380, 71382, 71383, 71387, 71389, 71396, 71397, 71401, 71416, 71419, 71421, 71423, 71427, 71428, 71432, 71433, 71436, 71440, 71447, 71448, 71449, 71451, 71452, 71457, 71459, 71463, 71467, 71470, 71474, 71475, 71476, 71483, 71487, 71489, 71490, 71496, 71498, 71499, 71506, 71512, 71514, 71521, 71524, 71525, 71531, 71533, 71537, 71538, 71539, 71540, 71547, 71548, 71549, 71554, 71555, 71566, 71567, 71569, 71572, 71574, 71580, 71584, 71589, 71597, 71601, 71603, 71607, 71610, 71614, 71622, 71624, 71625, 71627, 71629, 71635, 71636, 71639, 71640, 71643, 71646, 71647, 71648, 71649, 71650, 71652, 71656, 71658, 71662, 71663, 71667, 71670, 71672, 71674, 71677, 71679, 71683, 71686, 71687, 71692, 71693, 71694, 71698, 71700, 71702, 71704, 71705, 71706, 71707, 71711, 71713, 71716, 71717, 71718, 71723, 71725, 71726, 71734, 71738, 71742, 71747, 71750, 71759, 71760, 71762, 71763, 71764, 71770, 71772, 71773, 71775, 71777, 71779, 71780, 71784, 71786, 71792, 71793, 71794, 71801, 71812, 71813, 71815, 71818, 71820, 71824, 71825, 71826, 71830, 71834, 71837, 71840, 71843, 71847, 71851, 71854, 71860, 71862, 71865, 71871, 71875, 71883, 71885, 71887, 71888, 71889, 71892, 71893, 71896, 71899, 71900, 71904, 71906, 71920, 71925, 71926, 71928, 71942, 71944, 71955, 71958, 71965, 71966, 71970, 71971, 71975, 71978, 71981, 71982, 71983, 71986, 71987, 71994, 71995, 71999, 72004, 72008, 72009, 72012, 72015, 72017, 72020, 72021, 72037, 72038, 72040, 72042, 72046, 72048, 72049, 72057, 72061, 72071, 72077, 72079, 72083, 72085, 72087, 72088, 72092, 72094, 72095, 72096, 72098, 72101, 72102, 72108, 72111, 72112, 72114, 72125, 72126, 72128, 72130, 72134, 72136, 72142, 72144, 72146, 72155, 72156, 72162, 72164, 72165, 72166, 72173, 72175, 72179, 72180, 72181, 72190, 72193, 72197, 72198, 72199, 72208, 72213, 72215, 72221, 72222, 72228, 72230, 72232, 72233, 72235, 72243, 72246, 72247, 72248, 72249, 72252, 72258, 72261, 72263, 72264, 72268, 72269, 72273, 72276, 72277, 72284, 72288, 72291, 72296, 72300, 72302, 72303, 72309, 72310, 72315, 72316, 72323, 72324, 72331, 72336, 72345, 72355, 72359, 72365, 72375, 72381, 72383, 72384, 72385, 72391, 72395, 72399, 72401, 72404, 72405, 72407, 72414, 72418, 72420, 72425, 72426, 72428, 72433, 72441, 72444, 72446, 72456, 72461, 72478, 72481, 72487, 72517, 72518, 72524, 72530, 72539, 72543, 72544, 72545, 72550, 72565, 72593, 72595, 72596, 72598, 72605, 72608, 72611, 72613, 72615, 72616, 72618, 72619, 72621, 72626, 72649, 72651, 72656, 72674, 72679, 72684, 72686, 72689, 72691, 72702, 72707, 72717, 72720, 72721, 72727, 72728, 72729, 72730, 72734, 72735, 72737, 72739, 72743, 72748, 72755, 72757, 72759, 72763, 72764, 72765, 72767, 72770, 72773, 72774, 72775, 72776, 72777, 72784, 72785, 72786, 72787, 72789, 72791, 72793, 72794, 72795, 72797, 72798, 72799, 72803, 72805, 72809, 72813, 72815, 72817, 72818, 72825, 72826, 72828, 72830, 72831, 72832, 72833, 72835, 72837, 72840, 72841, 72848, 72850, 72851, 72852, 72857, 72859, 72860, 72861, 72862, 72863, 72865, 72866, 72869, 72872, 72873, 72874, 72876, 72877, 72878, 72879, 72883, 72885, 72886, 72887, 72889, 72890, 72894, 72895, 72897, 72898, 72899, 72901, 72904, 72905, 72906, 72908, 72909, 72910, 72911, 72913, 72915, 72917, 72918, 72919, 72920, 72921, 72923, 72924, 72928, 72930, 72933, 72934, 72937, 72938, 72939, 72941, 72942, 72944, 72946, 72947, 72950, 72953, 72955, 72956, 72957, 72958, 72961, 72963, 72965, 72966, 72967, 72968, 72969, 72971, 72972, 72975, 72978, 72979, 72981, 72983, 72984, 72985, 72986, 72987, 72990, 72992, 72993, 72994, 72995, 72996, 72999, 73000, 73001, 73002, 73003, 73004, 73005, 73006, 73007, 73008, 73010, 73013, 73014, 73015, 73017, 73018, 73019, 73031, 73032, 73036, 73037, 73042, 73045, 73049, 73050, 73053, 73054, 73055, 73056, 73058, 73061, 73064, 73066, 73067, 73068, 73069, 73070, 73071, 73073, 73074, 73075, 73076, 73078, 73079, 73080, 73081, 73083, 73084, 73086, 73087, 73091, 73093, 73094, 73095, 73097, 73098, 73099, 73100, 73103, 73104, 73107, 73108, 73109, 73112, 73113, 73114, 73117, 73118, 73121, 73124, 73127, 73129, 73130, 73136, 73137, 73138, 73139, 73140, 73141, 73144, 73145, 73146, 73150, 73151, 73152, 73153, 73154, 73155, 73160, 73164, 73188, 73204, 73209, 73221, 73228, 73237, 73238, 73241, 73253, 73260, 73262, 73263, 73273, 73275, 73277, 73279, 73286, 73291, 73301, 73315, 73321, 73322, 73324, 73325, 73336, 73338, 73342, 73348, 73349, 73352, 73353, 73356, 73360, 73362, 73363, 73371, 73372, 73374, 73381, 73383, 73390, 73391, 73394, 73395, 73398, 73400, 73402, 73404, 73415, 73422, 73431, 73436, 73443, 73445, 73452, 73460, 73463, 73465, 73474, 73476, 73479, 73480, 73481, 73483, 73486, 73493, 73494, 73499, 73501, 73503, 73505, 73506, 73511, 73514, 73515, 73517, 73518, 73520, 73527, 73528, 73529, 73531, 73536, 73540, 73541, 73542, 73548, 73550, 73551, 73552, 73553, 73558, 73560, 73561, 73563, 73569, 73571, 73577, 73578, 73585, 73588, 73589, 73590, 73592, 73594, 73595, 73598, 73599, 73606, 73613, 73614, 73619, 73621, 73625, 73627, 73633, 73634, 73636, 73637, 73638, 73643, 73646, 73647, 73649, 73651, 73653, 73658, 73674, 73675, 73678, 73680, 73681, 73682, 73684, 73690, 73693, 73705, 73707, 73713, 73717, 73719, 73720, 73722, 73725, 73727, 73730, 73731, 73733, 73737, 73739, 73741, 73745, 73746, 73747, 73749, 73755, 73764, 73771, 73773, 73777, 73780, 73788, 73789, 73794, 73798, 73800, 73802, 73807, 73821, 73822, 73843, 73851, 73854, 73855, 73869, 73878, 73879, 73880, 73885, 73897, 73902, 73912, 73914, 73924, 73926, 73930, 73934, 73939, 73941, 73943, 73957, 73958, 73963, 73970, 73972, 73976, 73979, 73982, 73990, 73995, 73997, 74000, 74007, 74013, 74014, 74024, 74027, 74030, 74034, 74041, 74043, 74053, 74068, 74070, 74071, 74072, 74073, 74077, 74085, 74097, 74102, 74104, 74107, 74108, 74109, 74111, 74120, 74123, 74127, 74138, 74141, 74154, 74161, 74162, 74173, 74183, 74184, 74185, 74187, 74193, 74201, 74208, 74209, 74211, 74213, 74214, 74229, 74234, 74238, 74240, 74241, 74243, 74250, 74266, 74274, 74280, 74281, 74289, 74295, 74300, 74312, 74320, 74325, 74329, 74338, 74340, 74351, 74353, 74359, 74370, 74382, 74399, 74404, 74406, 74411, 74413, 74417, 74420, 74422, 74430, 74433, 74443, 74444, 74446, 74448, 74450, 74453, 74456, 74460, 74461, 74467, 74472, 74479, 74499, 74500, 74505, 74507, 74516, 74523, 74526, 74540, 74547, 74556, 74563, 74564, 74568, 74575, 74580, 74587, 74588, 74590, 74594, 74595, 74598, 74614, 74627, 74634, 74635, 74640, 74644, 74652, 74661, 74662, 74684, 74685, 74686, 74687, 74688, 74689, 74694, 74697, 74699, 74702, 74717, 74719, 74728, 74752, 74756, 74759, 74760, 74768, 74771, 74779, 74792, 74793, 74799, 74800, 74805, 74819, 74820, 74830, 74834, 74839, 74844, 74851, 74859, 74864, 74865, 74866, 74874, 74876, 74877, 74885, 74887, 74888, 74889, 74896, 74900, 74909, 74920, 74922, 74926, 74931, 74933, 74940, 74941, 74944, 74959, 74960, 74971, 74997, 74998, 75003, 75017, 75038, 75045, 75046, 75050, 75052, 75053, 75060, 75061, 75067, 75069, 75074, 75077, 75079, 75081, 75123, 75125, 75129, 75131, 75136, 75137, 75146, 75147, 75148, 75149, 75164, 75174, 75179, 75184, 75190, 75197, 75200, 75212, 75214, 75229, 75232, 75236, 75241, 75247, 75250, 75252, 75255, 75273, 75274, 75276, 75277, 75294, 75297, 75299, 75304, 75307, 75324, 75325, 75334, 75336, 75338, 75341, 75343, 75346, 75360, 75361, 75366, 75370, 75378, 75385, 75388, 75395, 75405, 75407, 75412, 75417, 75419, 75421, 75423, 75434, 75437, 75447, 75450, 75451, 75453, 75454, 75455, 75457, 75465, 75470, 75481, 75482, 75483, 75489, 75491, 75492, 75493, 75495, 75496, 75500, 75503, 75516, 75528, 75529, 75533, 75534, 75535, 75537, 75539, 75541, 75567, 75571, 75574, 75576, 75586, 75587, 75596, 75602, 75607, 75610, 75619, 75621, 75624, 75626, 75631, 75634, 75640, 75641, 75660, 75665, 75667, 75685, 75688, 75694, 75702, 75710, 75712, 75714, 75717, 75718, 75722, 75724, 75728, 75734, 75736, 75750, 75751, 75752, 75755, 75757, 75759, 75761, 75766, 75776, 75780, 75784, 75796, 75797, 75810, 75811, 75813, 75815, 75821, 75825, 75826, 75834, 75835, 75843, 75857, 75858, 75864, 75872, 75874, 75888, 75889, 75895, 75897, 75904, 75905, 75907, 75926, 75933, 75943, 75957, 75964, 75965, 75969, 75985, 75995, 76008, 76015, 76020, 76040, 76045, 76048, 76050, 76051, 76059, 76065, 76081, 76082, 76098, 76102, 76106, 76110, 76122, 76130, 76142, 76151, 76167, 76174, 76184, 76185, 76188, 76191, 76194, 76203, 76204, 76208, 76211, 76216, 76229, 76236, 76240, 76245, 76248, 76254, 76272, 76273, 76274, 76275, 76276, 76281, 76287, 76295, 76298, 76300, 76304, 76318, 76331, 76334, 76335, 76342, 76345, 76355, 76356, 76364, 76368, 76394, 76397, 76405, 76413, 76416, 76420, 76424, 76431, 76440, 76442, 76443, 76445, 76452, 76453, 76469, 76474, 76481, 76482, 76487, 76492, 76495, 76519, 76522, 76523, 76537, 76542, 76556, 76558, 76572, 76574, 76575, 76578, 76581, 76586, 76594, 76598, 76599, 76621, 76632, 76634, 76636, 76644, 76647, 76655, 76678, 76680, 76682, 76684, 76692, 76694, 76696, 76704, 76705, 76706, 76709, 76712, 76717, 76734, 76740, 76761, 76762, 76766, 76770, 76773, 76775, 76777, 76800, 76801, 76807, 76811, 76815, 76816, 76824, 76826, 76831, 76837, 76841, 76842, 76848, 76851, 76854, 76855, 76858, 76867, 76871, 76872, 76876, 76877, 76884, 76896, 76902, 76906, 76914, 76916, 76919, 76920, 76921, 76924, 76928, 76938, 76939, 76940, 76955, 76959, 76962, 76967, 76969, 76971, 76982, 76988, 76989, 76990, 76991, 77001, 77016, 77022, 77024, 77041, 77051, 77055, 77058, 77066, 77069, 77075, 77086, 77090, 77094, 77102, 77106, 77119, 77121, 77123, 77124, 77125, 77130, 77142, 77143, 77153, 77160, 77167, 77168, 77169, 77176, 77183, 77184, 77188, 77190, 77195, 77197, 77201, 77204, 77207, 77208, 77209, 77212, 77214, 77228, 77234, 77236, 77241, 77242, 77249, 77250, 77252, 77257, 77260, 77261, 77265, 77271, 77276, 77284, 77285, 77286, 77289, 77296, 77301, 77306, 77310, 77311, 77314, 77317, 77323, 77330, 77331, 77345, 77346, 77348, 77362, 77364, 77368, 77369, 77374, 77377, 77378, 77379, 77398, 77401, 77404, 77405, 77408, 77420, 77423, 77426, 77435, 77439, 77454, 77461, 77471, 77473, 77478, 77485, 77499, 77504, 77508, 77511, 77512, 77516, 77517, 77518, 77519, 77528, 77535, 77542, 77551, 77552, 77553, 77562, 77565, 77587, 77603, 77607, 77611, 77619, 77620, 77623, 77642, 77648, 77650, 77659, 77660, 77663, 77679, 77680, 77682, 77683, 77688, 77700, 77702, 77703, 77706, 77712, 77722, 77727, 77733, 77756, 77757, 77760, 77762, 77764, 77768, 77770, 77773, 77775, 77781, 77782, 77797, 77798, 77802, 77807, 77812, 77816, 77818, 77819, 77821, 77825, 77826, 77827, 77828, 77842, 77879, 77880, 77883, 77892, 77895, 77901, 77905, 77907, 77909, 77912, 77921, 77931, 77938, 77948, 77953, 77954, 77956, 77957, 77975, 77981, 77983, 77986, 77993, 77995, 78003, 78006, 78010, 78011, 78028, 78032, 78048, 78049, 78052, 78055, 78058, 78059, 78068, 78069, 78071, 78077, 78082, 78084, 78086, 78087, 78091, 78096, 78098, 78100, 78105, 78108, 78129, 78135, 78145, 78147, 78148, 78157, 78163, 78165, 78167, 78172, 78173, 78180, 78194, 78195, 78201, 78202, 78206, 78217, 78229, 78234, 78246, 78251, 78258, 78259, 78261, 78271, 78285, 78288, 78293, 78297, 78301, 78302, 78305, 78307, 78317, 78325, 78337, 78342, 78347, 78348, 78349, 78356, 78362, 78363, 78365, 78373, 78389, 78390, 78396, 78400, 78401, 78414, 78418, 78429, 78442, 78445, 78457, 78458, 78476, 78477, 78478, 78482, 78496, 78499, 78502, 78509, 78511, 78512, 78520, 78524, 78525, 78532, 78548, 78556, 78558, 78578, 78592, 78593, 78614, 78616, 78617, 78620, 78629, 78634, 78641, 78661, 78679, 78685, 78686, 78689, 78690, 78698, 78699, 78711, 78713, 78719, 78721, 78728, 78735, 78738, 78739, 78741, 78748, 78765, 78768, 78772, 78776, 78780, 78785, 78790, 78795, 78796, 78799, 78804, 78805, 78806, 78808, 78819, 78823, 78827, 78834, 78836, 78841, 78854, 78856, 78860, 78863, 78865, 78876, 78880, 78888, 78889, 78898, 78903, 78909, 78910, 78912, 78918, 78919, 78923, 78924, 78930, 78934, 78940, 78965, 78968, 78971, 78977, 78981, 79000, 79010, 79017, 79023, 79024, 79035, 79040, 79046, 79052, 79058, 79063, 79066, 79073, 79074, 79080, 79086, 79087, 79088, 79090, 79099, 79102, 79104, 79105, 79114, 79120, 79124, 79132, 79146, 79154, 79160, 79180, 79182, 79184, 79186, 79197, 79198, 79201, 79212, 79216, 79221, 79232, 79238, 79239, 79242, 79253, 79274, 79277, 79283, 79285, 79287, 79289, 79298, 79299, 79308, 79316, 79329, 79335, 79368, 79371, 79378, 79382, 79410, 79420, 79434, 79440, 79451, 79456, 79457, 79464, 79481, 79487, 79500, 79501, 79529, 79531, 79533, 79550, 79553, 79555, 79564, 79574, 79581, 79610, 79614, 79620, 79649, 79653, 79667, 79678, 79680, 79687, 79688, 79694, 79700, 79704, 79707, 79708, 79710, 79712, 79716, 79733, 79744, 79751, 79753, 79757, 79781, 79786, 79794, 79796, 79808, 79813, 79815, 79817, 79818, 79825, 79834, 79835, 79837, 79842, 79851, 79853, 79870, 79871, 79883, 79888, 79889, 79893, 79898, 79904, 79907, 79911, 79914, 79926, 79927, 79929, 79931, 79936, 79937, 79939, 79947, 79955, 79957, 79959, 79961, 79962, 79965, 79966, 79970, 79972, 79979, 79980, 79988, 79998, 79999, 80001, 80007, 80010, 80011, 80017, 80019, 80021, 80027, 80033, 80035, 80037, 80038, 80041, 80050, 80051, 80052, 80053, 80056, 80057, 80061, 80065, 80066, 80068, 80070, 80080, 80081, 80082, 80083, 80086, 80087, 80090, 80092, 80097, 80101, 80104, 80105, 80107, 80108, 80109, 80111, 80112, 80114, 80117, 80120, 80125, 80130, 80132, 80140, 80143, 80149, 80152, 80154, 80158, 80161, 80167, 80176, 80179, 80180, 80186, 80198, 80201, 80202, 80208, 80209, 80210, 80215, 80224, 80225, 80228, 80229, 80231, 80234, 80236, 80237, 80240, 80250, 80252, 80254, 80258, 80262, 80265, 80267, 80272, 80273, 80275, 80277, 80279, 80289, 80295, 80296, 80297, 80298, 80300, 80304, 80305, 80306, 80307, 80312, 80313, 80321, 80322, 80331, 80333, 80335, 80339, 80342, 80343, 80344, 80346, 80347, 80348, 80352, 80355, 80358, 80360, 80363, 80365, 80366, 80367, 80368, 80372, 80373, 80381, 80383, 80384, 80386, 80387, 80393, 80396, 80397, 80398, 80405, 80408, 80412, 80416, 80418, 80420, 80425, 80427, 80429, 80434, 80435, 80439, 80440, 80442, 80447, 80450, 80459, 80460, 80469, 80471, 80472, 80474, 80481, 80483, 80490, 80491, 80493, 80502, 80510, 80515, 80525, 80527, 80532, 80533, 80536, 80540, 80544, 80546, 80547, 80552, 80553, 80558, 80560, 80562, 80567, 80572, 80579, 80581, 80607, 80611, 80612, 80614, 80628, 80645, 80647, 80651, 80659, 80664, 80666, 80670, 80677, 80695, 80705, 80706, 80709, 80717, 80722, 80725, 80727, 80728, 80729, 80732, 80736, 80738, 80741, 80746, 80753, 80758, 80762, 80767, 80770, 80771, 80773, 80777, 80778, 80786, 80830, 80838, 80841, 80848, 80851, 80853, 80857, 80858, 80860, 80863, 80864, 80865, 80867, 80870, 80872, 80876, 80878, 80880, 80881, 80883, 80884, 80885, 80889, 80893, 80906, 80911, 80914, 80916, 80920, 80925, 80927, 80941, 80942, 80946, 80947, 80948, 80974, 80977, 80981, 80982, 80985, 80986, 80987, 80991, 80993, 80997, 81001, 81003, 81006, 81007, 81011, 81012, 81014, 81015, 81019, 81026, 81028, 81029, 81030, 81033, 81035, 81036, 81039, 81046, 81050, 81053, 81054, 81057, 81060, 81069, 81070, 81071, 81072, 81079, 81083, 81085, 81092, 81096, 81104, 81107, 81110, 81118, 81120, 81123, 81124, 81125, 81128, 81139, 81142, 81151, 81154, 81156, 81159, 81163, 81166, 81168, 81171, 81172, 81173, 81175, 81180, 81182, 81185, 81188, 81189, 81192, 81197, 81198, 81201, 81204, 81206, 81211, 81212, 81215, 81216, 81226, 81227, 81228, 81232, 81234, 81238, 81240, 81242, 81244, 81245, 81247, 81249, 81253, 81256, 81257, 81258, 81261, 81272, 81273, 81277, 81278, 81281, 81285, 81287, 81289, 81295, 81296, 81300, 81301, 81304, 81306, 81310, 81312, 81314, 81316, 81322, 81323, 81324, 81327, 81328, 81329, 81331, 81340, 81342, 81347, 81348, 81350, 81353, 81355, 81356, 81359, 81360, 81361, 81362, 81375, 81384, 81386, 81388, 81389, 81394, 81395, 81400, 81401, 81403, 81406, 81408, 81409, 81411, 81418, 81421, 81422, 81424, 81425, 81427, 81429, 81431, 81432, 81436, 81438, 81439, 81443, 81444, 81445, 81448, 81450, 81451, 81452, 81455, 81457, 81459, 81468, 81469, 81470, 81479, 81482, 81488, 81489, 81492, 81493, 81500, 81503, 81505, 81508, 81514, 81517, 81518, 81520, 81522, 81524, 81527, 81533, 81534, 81535, 81536, 81546, 81547, 81549, 81551, 81553, 81558, 81559, 81560, 81561, 81562, 81567, 81569, 81574, 81576, 81577, 81581, 81583, 81585, 81588, 81592, 81593, 81594, 81596, 81599, 81601, 81604, 81613, 81614, 81617, 81618, 81620, 81621, 81623, 81627, 81628, 81629, 81633, 81638, 81645, 81648, 81650, 81651, 81655, 81661, 81663, 81667, 81668, 81670, 81672, 81674, 81679, 81682, 81688, 81693, 81699, 81703, 81704, 81712, 81714, 81716, 81717, 81718, 81721, 81723, 81724, 81726, 81727, 81729, 81730, 81732, 81733, 81734, 81735, 81739, 81741, 81744, 81745, 81746, 81747, 81750, 81755, 81758, 81760, 81763, 81765, 81770, 81776, 81778, 81781, 81784, 81785, 81787, 81788, 81791, 81792, 81793, 81797, 81801, 81804, 81815, 81817, 81818, 81820, 81821, 81825, 81826, 81830, 81838, 81839, 81841, 81843, 81850, 81860, 81862, 81868, 81870, 81871, 81873, 81876, 81881, 81884, 81886, 81888, 81891, 81894, 81898, 81899, 81901, 81906, 81908, 81910, 81916, 81918, 81922, 81924, 81926, 81930, 81931, 81934, 81936, 81937, 81940, 81941, 81943, 81944, 81945, 81946, 81950, 81953, 81954, 81957, 81959, 81960, 81966, 81968, 81970, 81975, 81977, 81979, 81981, 81982, 81991, 82002, 82005, 82006, 82007, 82013, 82015, 82016, 82022, 82024, 82027, 82028, 82030, 82032, 82033, 82038, 82043, 82046, 82048, 82049, 82050, 82058, 82061, 82064, 82065, 82066, 82072, 82073, 82078, 82080, 82083, 82084, 82086, 82089, 82091, 82096, 82100, 82102, 82106, 82107, 82109, 82117, 82118, 82120, 82122, 82124, 82127, 82128, 82129, 82132, 82135, 82141, 82142, 82144, 82151, 82154, 82156, 82157, 82159, 82160, 82165, 82176, 82178, 82181, 82182, 82183, 82184, 82186, 82187, 82192, 82193, 82195, 82197, 82200, 82202, 82206, 82208, 82209, 82210, 82213, 82214, 82215, 82218, 82219, 82224, 82228, 82229, 82230, 82231, 82238, 82242, 82245, 82248, 82257, 82258, 82265, 82266, 82267, 82269, 82270, 82274, 82275, 82276, 82277, 82280, 82284, 82285, 82295, 82301, 82303, 82304, 82307, 82309, 82310, 82314, 82315, 82317, 82319, 82326, 82327, 82328, 82332, 82333, 82334, 82335, 82337, 82339, 82348, 82349, 82356, 82357, 82369, 82372, 82375, 82379, 82382, 82385, 82386, 82389, 82393, 82394, 82396, 82402, 82403, 82408, 82412, 82415, 82418, 82419, 82420, 82421, 82422, 82424, 82430, 82431, 82432, 82434, 82439, 82441, 82442, 82443, 82444, 82447, 82450, 82451, 82453, 82463, 82464, 82467, 82468, 82472, 82485, 82490, 82495, 82498, 82499, 82501, 82502, 82508, 82510, 82515, 82528, 82530, 82531, 82532, 82534, 82540, 82541, 82542, 82547, 82559, 82565, 82567, 82570, 82572, 82573, 82574, 82581, 82586, 82587, 82590, 82591, 82595, 82597, 82599, 82600, 82603, 82616, 82618, 82619, 82620, 82622, 82623, 82630, 82631, 82636, 82639, 82648, 82654, 82656, 82663, 82665, 82666, 82667, 82671, 82674, 82676, 82677, 82684, 82685, 82686, 82689, 82690, 82697, 82698, 82700, 82703, 82706, 82708, 82713, 82717, 82720, 82726, 82727, 82730, 82734, 82738, 82742, 82743, 82746, 82747, 82749, 82750, 82752, 82761, 82762, 82764, 82765, 82766, 82771, 82772, 82786, 82792, 82793, 82799, 82801, 82802, 82804, 82813, 82814, 82818, 82820, 82822, 82824, 82828, 82834, 82842, 82843, 82846, 82856, 82857, 82867, 82868, 82870, 82873, 82877, 82885, 82902, 82907, 82910, 82911, 82912, 82913, 82917, 82921, 82924, 82928, 82934, 82939, 82941, 82945, 82949, 82950, 82951, 82952, 82955, 82956, 82958, 82959, 82961, 82962, 82969, 82970, 82974, 82975, 82980, 82985, 82989, 82995, 83003, 83011, 83012, 83014, 83017, 83018, 83019, 83023, 83025, 83028, 83029, 83030, 83037, 83040, 83042, 83045, 83058, 83063, 83064, 83076, 83081, 83090, 83093, 83097, 83099, 83106, 83110, 83111, 83117, 83120, 83122, 83123, 83134, 83135, 83137, 83139, 83145, 83151, 83152, 83153, 83154, 83156, 83157, 83158, 83162, 83163, 83164, 83176, 83178, 83183, 83185, 83186, 83191, 83196, 83198, 83202, 83204, 83206, 83210, 83211, 83212, 83215, 83220, 83231, 83234, 83237, 83240, 83245, 83246, 83247, 83251, 83253, 83254, 83256, 83259, 83261, 83264, 83274, 83275, 83278, 83279, 83284, 83286, 83290, 83299, 83300, 83303, 83311, 83318, 83320, 83321, 83323, 83324, 83328, 83329, 83332, 83336, 83337, 83339, 83340, 83341, 83343, 83344, 83348, 83355, 83356, 83361, 83362, 83365, 83368, 83377, 83380, 83381, 83384, 83388, 83389, 83390, 83400, 83405, 83406, 83414, 83424, 83426, 83436, 83446, 83450, 83457, 83462, 83464, 83468, 83469, 83470, 83476, 83477, 83479, 83484, 83489, 83493, 83494, 83499, 83500, 83501, 83503, 83504, 83512, 83519, 83522, 83525, 83530, 83531, 83536, 83543, 83545, 83547, 83550, 83551, 83564, 83571, 83578, 83580, 83581, 83582, 83590, 83592, 83594, 83596, 83602, 83603, 83607, 83609, 83611, 83612, 83616, 83620, 83623, 83629, 83631, 83639, 83640, 83642, 83647, 83654, 83663, 83665, 83667, 83669, 83670, 83675, 83680, 83682, 83690, 83695, 83697, 83699, 83701, 83705, 83706, 83712, 83715, 83719, 83730, 83731, 83735, 83736, 83749, 83754, 83755, 83757, 83759, 83760, 83767, 83771, 83774, 83786, 83793, 83797, 83799, 83810, 83813, 83814, 83825, 83826, 83831, 83832, 83842, 83844, 83849, 83852, 83855, 83863, 83868, 83871, 83876, 83877, 83883, 83888, 83892, 83893, 83895, 83898, 83901, 83902, 83903, 83906, 83917, 83924, 83926, 83928, 83931, 83936, 83939, 83943, 83944, 83945, 83954, 83956, 83957, 83958, 83963, 83965, 83972, 83979, 83997, 84003, 84008, 84013, 84019, 84020, 84023, 84024, 84028, 84029, 84036, 84042, 84044, 84046, 84054, 84063, 84068, 84076, 84077, 84078, 84083, 84096, 84101, 84107, 84109, 84125, 84126, 84132, 84134, 84135, 84138, 84140, 84141, 84146, 84147, 84151, 84152, 84157, 84160, 84168, 84169, 84171, 84174, 84176, 84188, 84190, 84191, 84192, 84204, 84213, 84214, 84217, 84222, 84223, 84226, 84228, 84232, 84236, 84238, 84242, 84243, 84248, 84249, 84258, 84261, 84269, 84271, 84272, 84274, 84275, 84288, 84291, 84292, 84294, 84295, 84298, 84303, 84311, 84316, 84320, 84325, 84326, 84327, 84329, 84330, 84334, 84340, 84343, 84348, 84351, 84352, 84354, 84355, 84361, 84368, 84370, 84375, 84380, 84382, 84383, 84386, 84391, 84414, 84420, 84421, 84436, 84438, 84440, 84443, 84444, 84446, 84449, 84454, 84455, 84464, 84468, 84469, 84471, 84476, 84480, 84484, 84488, 84490, 84495, 84502, 84504, 84505, 84522, 84525, 84527, 84534, 84542, 84551, 84552, 84553, 84567, 84569, 84571, 84592, 84596, 84598, 84601, 84608, 84609, 84613, 84616, 84620, 84622, 84623, 84630, 84632, 84634, 84636, 84641, 84644, 84648, 84653, 84659, 84662, 84664, 84667, 84668, 84672, 84674, 84675, 84679, 84684, 84685, 84690, 84698, 84706, 84709, 84711, 84714, 84720, 84721, 84725, 84732, 84733, 84735, 84744, 84753, 84758, 84764, 84766, 84767, 84768, 84770, 84774, 84779, 84782, 84783, 84784, 84787, 84790, 84793, 84794, 84802, 84803, 84806, 84811, 84816, 84819, 84826, 84827, 84833, 84838, 84840, 84841, 84842, 84844, 84845, 84847, 84851, 84852, 84854, 84856, 84859, 84860, 84861, 84863, 84866, 84869, 84870, 84871, 84885, 84896, 84904, 84906, 84907, 84909, 84910, 84913, 84916, 84927, 84931, 84942, 84944, 84947, 84952, 84953, 84956, 84958, 84961, 84967, 84968, 84971, 84987, 84992, 84994, 84997, 85007, 85010, 85014, 85018, 85020, 85021, 85025, 85028, 85034, 85035, 85039, 85041, 85044, 85048, 85050, 85052, 85053, 85054, 85060, 85061, 85064, 85070, 85076, 85079, 85080, 85083, 85089, 85091, 85094, 85097, 85107, 85112, 85127, 85128, 85136, 85147, 85161, 85163, 85167, 85171, 85174, 85180, 85183, 85191, 85195, 85196, 85197, 85198, 85200, 85201, 85206, 85207, 85210, 85217, 85218, 85224, 85226, 85227, 85228, 85229, 85232, 85235, 85240, 85242, 85248, 85258, 85259, 85261, 85265, 85272, 85273, 85274, 85276, 85288, 85295, 85303, 85311, 85315, 85318, 85325, 85331, 85333, 85337, 85341, 85345, 85346, 85347, 85348, 85350, 85351, 85354, 85361, 85364, 85366, 85368, 85369, 85372, 85379, 85380, 85383, 85386, 85388, 85390, 85391, 85394, 85396, 85404, 85405, 85406, 85415, 85418, 85420, 85428, 85430, 85435, 85446, 85447, 85449, 85450, 85453, 85462, 85467, 85468, 85473, 85476, 85485, 85496, 85500, 85504, 85505, 85506, 85510, 85515, 85516, 85520, 85521, 85522, 85524, 85526, 85527, 85530, 85531, 85532, 85542, 85544, 85546, 85550, 85553, 85556, 85564, 85566, 85569, 85571, 85573, 85576, 85588, 85591, 85593, 85595, 85601, 85607, 85608, 85610, 85613, 85616, 85618, 85628, 85631, 85637, 85638, 85647, 85649, 85652, 85653, 85663, 85667, 85668, 85669, 85674, 85678, 85682, 85683, 85684, 85686, 85687, 85694, 85702, 85706, 85711, 85713, 85715, 85717, 85721, 85722, 85727, 85734, 85739, 85744, 85758, 85759, 85760, 85764, 85767, 85769, 85770, 85774, 85777, 85780, 85781, 85784, 85785, 85788, 85794, 85795, 85796, 85798, 85799, 85801, 85803, 85811, 85817, 85825, 85835, 85837, 85839, 85844, 85845, 85847, 85848, 85849, 85860, 85863, 85877, 85878, 85879, 85881, 85882, 85886, 85890, 85896, 85902, 85906, 85910, 85918, 85931, 85932, 85934, 85949, 85955, 85958, 85961, 85963, 85976, 85978, 85980, 85987, 85988, 85992, 85997, 85998, 85999, 86001, 86004, 86005, 86011, 86013, 86015, 86016, 86025, 86026, 86032, 86039, 86040, 86048, 86053, 86056, 86059, 86060, 86066, 86067, 86069, 86072, 86077, 86078, 86081, 86091, 86098, 86106, 86107, 86109, 86112, 86119, 86122, 86124, 86125, 86130, 86134, 86136, 86139, 86143, 86150, 86160, 86171, 86172, 86173, 86176, 86182, 86188, 86190, 86191, 86200, 86201, 86206, 86207, 86209, 86211, 86220, 86221, 86225, 86226, 86227, 86231, 86234, 86235, 86240, 86251, 86255, 86262, 86267, 86268, 86271, 86273, 86288, 86291, 86292, 86298, 86304, 86307, 86313, 86319, 86330, 86333, 86341, 86342, 86352, 86353, 86357, 86358, 86363, 86367, 86368, 86369, 86370, 86377, 86380, 86381, 86389, 86393, 86395, 86397, 86401, 86402, 86405, 86406, 86416, 86421, 86423, 86424, 86429, 86434, 86435, 86440, 86445, 86446, 86451, 86458, 86464, 86466, 86470, 86472, 86479, 86482, 86483, 86484, 86487, 86489, 86490, 86494, 86500, 86505, 86507, 86509, 86520, 86524, 86529, 86534, 86535, 86540, 86548, 86553, 86556, 86557, 86560, 86561, 86564, 86566, 86567, 86574, 86587, 86591, 86595, 86598, 86599, 86603, 86604, 86606, 86609, 86610, 86612, 86616, 86617, 86623, 86624, 86626, 86634, 86637, 86641, 86647, 86649, 86658, 86665, 86669, 86673, 86680, 86681, 86687, 86689, 86691, 86693, 86695, 86698, 86703, 86715, 86717, 86719, 86723, 86725, 86726, 86736, 86742, 86743, 86745, 86748, 86749, 86750, 86751, 86762, 86766, 86770, 86771, 86772, 86783, 86789, 86791, 86793, 86802, 86804, 86809, 86811, 86812, 86813, 86816, 86824, 86834, 86838, 86839, 86848, 86865, 86870, 86875, 86878, 86891, 86893, 86903, 86904, 86905, 86906, 86910, 86916, 86917, 86931, 86944, 86950, 86957, 86959, 86964, 86977, 86983, 86988, 86995, 86999, 87008, 87009, 87015, 87025, 87033, 87043, 87046, 87052, 87058, 87059, 87063, 87066, 87069, 87075, 87080, 87083, 87085, 87089, 87091, 87093, 87101, 87102, 87104, 87105, 87107, 87111, 87112, 87122, 87124, 87125, 87130, 87131, 87132, 87133, 87138, 87142, 87143, 87149, 87157, 87158, 87162, 87168, 87177, 87180, 87181, 87183, 87184, 87189, 87191, 87192, 87195, 87197, 87205, 87212, 87219, 87220, 87225, 87226, 87233, 87250, 87251, 87256, 87257, 87262, 87263, 87264, 87267, 87269, 87270, 87276, 87278, 87280, 87284, 87286, 87304, 87305, 87308, 87309, 87313, 87338, 87339, 87341, 87348, 87349, 87359, 87372, 87382, 87383, 87384, 87389, 87391, 87397, 87406, 87409, 87411, 87421, 87423, 87426, 87436, 87439, 87442, 87445, 87446, 87451, 87456, 87463, 87478, 87479, 87485, 87490, 87494, 87495, 87498, 87499, 87502, 87504, 87505, 87506, 87509, 87510, 87515, 87520, 87523, 87524, 87534, 87546, 87554, 87558, 87561, 87565, 87570, 87573, 87577, 87580, 87584, 87596, 87598, 87614, 87617, 87618, 87627, 87632, 87634, 87636, 87643, 87658, 87660, 87662, 87663, 87667, 87671, 87677, 87679, 87683, 87685, 87686, 87688, 87702, 87704, 87710, 87713, 87716, 87720, 87721, 87722, 87723, 87730, 87738, 87744, 87750, 87755, 87756, 87757, 87761, 87769, 87770, 87780, 87786, 87794, 87796, 87800, 87802, 87811, 87819, 87825, 87828, 87830, 87832, 87833, 87837, 87842, 87845, 87847, 87851, 87856, 87858, 87864, 87867, 87869, 87870, 87878, 87879, 87887, 87890, 87899, 87904, 87909, 87914, 87916, 87918, 87920, 87927, 87933, 87935, 87937, 87940, 87944, 87946, 87954, 87959, 87965, 87976, 87983, 87992, 88001, 88007, 88008, 88012, 88016, 88022, 88024, 88029, 88032, 88039, 88041, 88045, 88047, 88048, 88057, 88063, 88070, 88071, 88072, 88075, 88077, 88088, 88090, 88096, 88102, 88120, 88123, 88126, 88134, 88136, 88138, 88151, 88155, 88157, 88163, 88171, 88176, 88189, 88191, 88192, 88198, 88199, 88203, 88211, 88212, 88214, 88227, 88238, 88240, 88243, 88244, 88246, 88253, 88254, 88264, 88279, 88287, 88295, 88296, 88301, 88305, 88306, 88311, 88313, 88315, 88318, 88322, 88325, 88327, 88328, 88332, 88335, 88336, 88341, 88347, 88350, 88354, 88355, 88357, 88367, 88370, 88373, 88375, 88382, 88390, 88391, 88394, 88398, 88400, 88406, 88417, 88425, 88426, 88429, 88433, 88437, 88439, 88440, 88456, 88458, 88468, 88469, 88473, 88475, 88478, 88485, 88487, 88501, 88506, 88509, 88512, 88516, 88518, 88519, 88521, 88525, 88529, 88530, 88534, 88535, 88539, 88544, 88546, 88547, 88553, 88557, 88561, 88567, 88569, 88571, 88573, 88574, 88576, 88579, 88580, 88581, 88582, 88587, 88591, 88592, 88594, 88596, 88600, 88602, 88613, 88614, 88615, 88623, 88624, 88645, 88648, 88651, 88654, 88655, 88656, 88657, 88659, 88661, 88662, 88670, 88686, 88687, 88689, 88692, 88693, 88694, 88699, 88702, 88704, 88706, 88713, 88718, 88719, 88720, 88722, 88729, 88732, 88738, 88750, 88769, 88772, 88776, 88778, 88779, 88787, 88791, 88795, 88802, 88807, 88808, 88829, 88832, 88845, 88864, 88868, 88873, 88877, 88879, 88884, 88885, 88887, 88889, 88896, 88902, 88919, 88926, 88938, 88942, 88948, 88953, 88957, 88964, 88965, 88970, 88971, 88972, 88977, 88981, 88982, 88984, 88986, 88988, 88990, 89007, 89022, 89036, 89040, 89044, 89047, 89062, 89063, 89064, 89065, 89066, 89070, 89080, 89082, 89087, 89090, 89091, 89093, 89094, 89099, 89100, 89103, 89104, 89117, 89118, 89122, 89127, 89128, 89132, 89135, 89136, 89140, 89147, 89151, 89155, 89156, 89157, 89162, 89165, 89167, 89174, 89178, 89183, 89185, 89186, 89189, 89198, 89201, 89205, 89213, 89214, 89220, 89227, 89228, 89232, 89234, 89236, 89240, 89244, 89245, 89246, 89257, 89261, 89262, 89269, 89275, 89278, 89281, 89283, 89292, 89293, 89298, 89299, 89303, 89304, 89305, 89310, 89320, 89322, 89324, 89326, 89329, 89332, 89334, 89335, 89339, 89341, 89349, 89352, 89353, 89356, 89365, 89367, 89371, 89376, 89387, 89395, 89396, 89398, 89402, 89404, 89408, 89413, 89423, 89426, 89431, 89435, 89439, 89440, 89444, 89448, 89449, 89450, 89460, 89462, 89467, 89473, 89476, 89479, 89480, 89485, 89486, 89487, 89489, 89491, 89492, 89493, 89500, 89509, 89510, 89514, 89519, 89521, 89523, 89529, 89531, 89535, 89542, 89548, 89550, 89551, 89552, 89553, 89555, 89558, 89562, 89563, 89564, 89585, 89588, 89593, 89596, 89598, 89601, 89602, 89603, 89607, 89610, 89614, 89617, 89618, 89623, 89626, 89628, 89637, 89642, 89643, 89644, 89646, 89648, 89655, 89660, 89663, 89666, 89670, 89672, 89674, 89682, 89683, 89684, 89687, 89692, 89698, 89700, 89704, 89705, 89707, 89709, 89710, 89715, 89721, 89727, 89733, 89737, 89739, 89743, 89744, 89746, 89765, 89771, 89774, 89776, 89783, 89791, 89793, 89809, 89811, 89817, 89822, 89823, 89826, 89827, 89830, 89831, 89835, 89837, 89841, 89843, 89844, 89846, 89860, 89864, 89867, 89868, 89888, 89890, 89891, 89896, 89897, 89904, 89907, 89909, 89913, 89916, 89924, 89926, 89927, 89928, 89930, 89931, 89933, 89935, 89937, 89943, 89945, 89946, 89957, 89958, 89960, 89961, 89964, 89970, 89973, 89977, 89982, 89984, 89987, 89995, 90000, 90002, 90003, 90008, 90011, 90012, 90022, 90027, 90028, 90029, 90031, 90038, 90039, 90042, 90045, 90049, 90056, 90059, 90061, 90062, 90063, 90065, 90071, 90072, 90076, 90082, 90083, 90089, 90097, 90102, 90111, 90112, 90119, 90125, 90127, 90129, 90130, 90132, 90141, 90142, 90143, 90144, 90158, 90168, 90176, 90192, 90195, 90208, 90210, 90213, 90236, 90237, 90242, 90245, 90250, 90256, 90257, 90258, 90260, 90262, 90268, 90275, 90280, 90284, 90285, 90289, 90293, 90295, 90297, 90299, 90301, 90303, 90306, 90308, 90309, 90310, 90316, 90318, 90319, 90329, 90335, 90336, 90343, 90347, 90349, 90355, 90363, 90367, 90375, 90376, 90379, 90384, 90388, 90391, 90394, 90397, 90399, 90402, 90404, 90416, 90417, 90425, 90434, 90440, 90454, 90455, 90462, 90464, 90482, 90483, 90491, 90492, 90496, 90499, 90502, 90506, 90508, 90511, 90512, 90517, 90520, 90525, 90527, 90535, 90538, 90545, 90546, 90555, 90557, 90558, 90559, 90572, 90577, 90578, 90579, 90587, 90612, 90614, 90618, 90623, 90628, 90630, 90631, 90643, 90644, 90648, 90661, 90673, 90674, 90679, 90686, 90691, 90694, 90696, 90699, 90706, 90710, 90724, 90727, 90728, 90731, 90737, 90739, 90744, 90752, 90754, 90761, 90763, 90767, 90768, 90769, 90770, 90783, 90785, 90786, 90788, 90795, 90798, 90804, 90807, 90814, 90817, 90830, 90837, 90842, 90843, 90855, 90861, 90874, 90877, 90882, 90883, 90884, 90890, 90897, 90909, 90914, 90915, 90916, 90923, 90930, 90935, 90940, 90953, 90956, 90963, 90968, 90969, 90973, 90974, 90978, 90985, 90986, 90993, 91007, 91012, 91017, 91020, 91022, 91032, 91039, 91046, 91050, 91056, 91057, 91060, 91065, 91067, 91076, 91078, 91083, 91084, 91086, 91088, 91090, 91093, 91097, 91099, 91105, 91108, 91125, 91129, 91130, 91131, 91136, 91141, 91144, 91147, 91150, 91156, 91157, 91160, 91161, 91182, 91183, 91186, 91189, 91195, 91196, 91201, 91202, 91205, 91206, 91209, 91210, 91213, 91221, 91237, 91243, 91251, 91256, 91260, 91265, 91274, 91275, 91278, 91280, 91289, 91290, 91295, 91313, 91331, 91332, 91334, 91336, 91337, 91344, 91348, 91350, 91355, 91365, 91369, 91377, 91378, 91396, 91404, 91406, 91413, 91426, 91427, 91428, 91430, 91431, 91436, 91440, 91441, 91447, 91448, 91457, 91459, 91466, 91475, 91478, 91483, 91484, 91485, 91486, 91493, 91494, 91502, 91504, 91507, 91511, 91512, 91515, 91522, 91525, 91533, 91538, 91546, 91559, 91560, 91565, 91568, 91577, 91580, 91581, 91582, 91590, 91595, 91598, 91600, 91602, 91605, 91613, 91616, 91626, 91627, 91628, 91630, 91631, 91638, 91639, 91645, 91647, 91654, 91658, 91668, 91669, 91671, 91673, 91674, 91677, 91678, 91689, 91691, 91693, 91698, 91700, 91703, 91707, 91710, 91713, 91715, 91724, 91727, 91732, 91743, 91748, 91754, 91759, 91767, 91784, 91786, 91792, 91796, 91799, 91804, 91814, 91822, 91828, 91830, 91836, 91842, 91845, 91848, 91852, 91859, 91860, 91861, 91862, 91868, 91877, 91887, 91890, 91893, 91901, 91905, 91906, 91911, 91922, 91923, 91930, 91932, 91935, 91940, 91943, 91945, 91947, 91948, 91950, 91951, 91956, 91971, 91972, 91983, 91992, 91996, 91997, 92004, 92007, 92008, 92014, 92018, 92025, 92029, 92036, 92038, 92047, 92050, 92060, 92068, 92080, 92082, 92093, 92102, 92105, 92106, 92111, 92116, 92119, 92123, 92130, 92138, 92146, 92148, 92150, 92159, 92167, 92169, 92175, 92179, 92181, 92189, 92191, 92199, 92217, 92224, 92231, 92232, 92235, 92237, 92243, 92254, 92256, 92260, 92261, 92268, 92280, 92289, 92292, 92299, 92305, 92309, 92321, 92324, 92333, 92343, 92344, 92348, 92353, 92359, 92362, 92365, 92383, 92384, 92387, 92388, 92409, 92415, 92416, 92439, 92472, 92473, 92475, 92485, 92495, 92496, 92497, 92505, 92514, 92523, 92542, 92543, 92544, 92556, 92560, 92561, 92563, 92568, 92571, 92574, 92575, 92592, 92618, 92626, 92647, 92649, 92656, 92664, 92668, 92669, 92674, 92683, 92687, 92694, 92696, 92700, 92702, 92715, 92722, 92724, 92730, 92733, 92744, 92746, 92752, 92755, 92759, 92765, 92768, 92789, 92801, 92806, 92813, 92816, 92824, 92831, 92847, 92863, 92869, 92878, 92883, 92894, 92899, 92914, 92922, 92924, 92946, 92959, 92960, 92964, 92965, 92971, 92977, 92980, 92993, 93019, 93024, 93026, 93029, 93041, 93043, 93047, 93049, 93058, 93060, 93063, 93067, 93068, 93081, 93082, 93085, 93090, 93091, 93094, 93096, 93103, 93105, 93109, 93110, 93120, 93122, 93123, 93132, 93133, 93135, 93142, 93144, 93145, 93147, 93149, 93150, 93152, 93154, 93155, 93156, 93158, 93159, 93163, 93164, 93166, 93170, 93171, 93172, 93173, 93176, 93177, 93180, 93182, 93183, 93186, 93192, 93196, 93199, 93200, 93201, 93208, 93211, 93214, 93217, 93218, 93224, 93231, 93232, 93234, 93239, 93241, 93242, 93246, 93249, 93253, 93254, 93257, 93260, 93262, 93263, 93264, 93265, 93267, 93270, 93272, 93274, 93275, 93277, 93279, 93280, 93281, 93285, 93291, 93293, 93296, 93300, 93303, 93307, 93308, 93314, 93321, 93328, 93329, 93331, 93335, 93340, 93343, 93344, 93345, 93346, 93347, 93348, 93350, 93351, 93353, 93355, 93357, 93358, 93359, 93364, 93366, 93367, 93370, 93374, 93375, 93380, 93382, 93383, 93388, 93389, 93391, 93392, 93393, 93395, 93397, 93398, 93400, 93405, 93409, 93411, 93413, 93417, 93420, 93421, 93424, 93427, 93428, 93430, 93432, 93438, 93441, 93442, 93443, 93444, 93445, 93446, 93447, 93449, 93451, 93457, 93460, 93465, 93470, 93472, 93473, 93474, 93483, 93484, 93485, 93488, 93489, 93491, 93492, 93494, 93498, 93500, 93501, 93508, 93509, 93510, 93512, 93513, 93515, 93518, 93522, 93524, 93525, 93529, 93530, 93533, 93543, 93546, 93548, 93551, 93555, 93565, 93572, 93573, 93575, 93585, 93613, 93615, 93620, 93626, 93631, 93632, 93636, 93639, 93640, 93642, 93643, 93644, 93648, 93650, 93652, 93659, 93663, 93666, 93668, 93669, 93672, 93673, 93676, 93678, 93680, 93686, 93687, 93693, 93696, 93697, 93701, 93702, 93719, 93721, 93722, 93724, 93725, 93726, 93728, 93734, 93736, 93737, 93738, 93743, 93746, 93747, 93748, 93752, 93753, 93755, 93756, 93757, 93758, 93760, 93761, 93765, 93766, 93769, 93773, 93774, 93775, 93776, 93784, 93786, 93787, 93790, 93798, 93799, 93800, 93802, 93804, 93806, 93807, 93810, 93813, 93814, 93815, 93816, 93817, 93818, 93821, 93825, 93826, 93828, 93829, 93834, 93835, 93836, 93837, 93842, 93843, 93849, 93853, 93855, 93858, 93859, 93860, 93864, 93865, 93867, 93870, 93872, 93877, 93889, 93891, 93893, 93894, 93895, 93897, 93898, 93901, 93904, 93907, 93915, 93919, 93923, 93924, 93927, 93928, 93940, 93941, 93943, 93945, 93946, 93949, 93951, 93957, 93959, 93962, 93965, 93967, 93971, 93972, 93974, 93976, 93979, 93985, 93987, 93988, 93989, 93990, 93992, 93997, 93999, 94004, 94005, 94006, 94008, 94009, 94010, 94011, 94013, 94014, 94021, 94022, 94023, 94025, 94026, 94028, 94033, 94036, 94037, 94038, 94039, 94042, 94044, 94045, 94046, 94047, 94049, 94050, 94054, 94055, 94057, 94059, 94062, 94063, 94064, 94068, 94069, 94084, 94085, 94088, 94089, 94090, 94091, 94092, 94093, 94095, 94102, 94103, 94114, 94116, 94118, 94123, 94124, 94125, 94126, 94133, 94134, 94135, 94137, 94141, 94142, 94145, 94148, 94152, 94155, 94159, 94160, 94162, 94165, 94166, 94168, 94177, 94178, 94179, 94181, 94182, 94183, 94184, 94186, 94189, 94191, 94197, 94198, 94201, 94208, 94212, 94213, 94214, 94215, 94227, 94232, 94238, 94244, 94246, 94247, 94252, 94254, 94258, 94259, 94261, 94262, 94264, 94274, 94279, 94284, 94288, 94289, 94296, 94298, 94299, 94306, 94309, 94311, 94313, 94320, 94321, 94330, 94334, 94335, 94342, 94347, 94348, 94349, 94356, 94358, 94359, 94361, 94363, 94364, 94365, 94369, 94371, 94372, 94374, 94377, 94385, 94387, 94392, 94401, 94404, 94407, 94412, 94414, 94416, 94417, 94421, 94434, 94436, 94443, 94446, 94447, 94448, 94450, 94453, 94457, 94462, 94468, 94469, 94476, 94489, 94496, 94500, 94503, 94504, 94507, 94508, 94517, 94523, 94527, 94545, 94548, 94550, 94551, 94561, 94563, 94564, 94566, 94567, 94569, 94570, 94575, 94583, 94588, 94595, 94603, 94607, 94609, 94610, 94614, 94615, 94620, 94621, 94623, 94626, 94635, 94638, 94639, 94640, 94645, 94649, 94653, 94660, 94661, 94662, 94670, 94672, 94682, 94685, 94686, 94687, 94688, 94699, 94702, 94705, 94706, 94707, 94733, 94734, 94738, 94740, 94741, 94742, 94744, 94745, 94748, 94750, 94753, 94768, 94777, 94791, 94793, 94796, 94803, 94810, 94817, 94820, 94838, 94848, 94864, 94870, 94872, 94886, 94890, 94892, 94893, 94894, 94900, 94908, 94910, 94912, 94913, 94915, 94926, 94928, 94942, 94943, 94946, 94957, 94964, 94966, 94968, 94972, 94974, 94985, 94991, 94993, 95001, 95010, 95014, 95017, 95024, 95042, 95043, 95046, 95051, 95057, 95065, 95069, 95070, 95074, 95079, 95081, 95083, 95101, 95103, 95106, 95112, 95123, 95125, 95145, 95146, 95150, 95153, 95154, 95158, 95159, 95170, 95172, 95182, 95195, 95205, 95206, 95223, 95230, 95237, 95243, 95245, 95246, 95266, 95267, 95269, 95281, 95282, 95291, 95295, 95298, 95303, 95304, 95307, 95308, 95314, 95315, 95317, 95322, 95323, 95324, 95329, 95341, 95352, 95355, 95363, 95367, 95376, 95389, 95393, 95396, 95401, 95404, 95428, 95432, 95433, 95459, 95468, 95469, 95473, 95477, 95485, 95486, 95490, 95492, 95495, 95496, 95500, 95502, 95508, 95513, 95520, 95534, 95538, 95540, 95541, 95543, 95544, 95547, 95549, 95556, 95562, 95563, 95568, 95570, 95576, 95580, 95583, 95587, 95589, 95595, 95597, 95600, 95608, 95609, 95611, 95612, 95614, 95619, 95620, 95644, 95648, 95654, 95657, 95660, 95673, 95679, 95684, 95685, 95693, 95697, 95707, 95709, 95715, 95720, 95722, 95724, 95728, 95735, 95736, 95739, 95742, 95748, 95750, 95759, 95772, 95774, 95775, 95779, 95780, 95788, 95798, 95800, 95807, 95818, 95820, 95832, 95833, 95835, 95836, 95837, 95846, 95862, 95865, 95891, 95896, 95899, 95903, 95906, 95914, 95939, 95941, 95943, 95944, 95946, 95948, 95965, 95979, 95989, 95991, 95993, 95994, 95998, 96001, 96012, 96020, 96030, 96033, 96046, 96058, 96068, 96072, 96075, 96085, 96086, 96098, 96099, 96105, 96110, 96111, 96112, 96141, 96142, 96151, 96155, 96159, 96163, 96167, 96173, 96174, 96176, 96177, 96178, 96183, 96186, 96187, 96194, 96195, 96196, 96208, 96216, 96221, 96222, 96225, 96226, 96229, 96230, 96240, 96244, 96246, 96247, 96263, 96264, 96275, 96330, 96334, 96342, 96356, 96358, 96362, 96368, 96382, 96396, 96398, 96402, 96411, 96412, 96420, 96435, 96444, 96445, 96454, 96465, 96466, 96470, 96484, 96490, 96495, 96497, 96499, 96509, 96510, 96513, 96514, 96536, 96540, 96546, 96548, 96553, 96557, 96560, 96562, 96583, 96590, 96592, 96593, 96595, 96596, 96601, 96606, 96612, 96613, 96621, 96640, 96651, 96658, 96664, 96676, 96695, 96696, 96705, 96721, 96742, 96752, 96754, 96760, 96788, 96789, 96791, 96795, 96798, 96803, 96813, 96817, 96819, 96824, 96826, 96834, 96836, 96843, 96849, 96859, 96882, 96888, 96892, 96895, 96901, 96927, 96928, 96935, 96952, 96957, 96962, 96963, 96980, 96981, 96987, 96991, 96996, 96998, 97004, 97010, 97011, 97017, 97020, 97027, 97032, 97040, 97048, 97054, 97056, 97057, 97059, 97060, 97067, 97070, 97080, 97082, 97086, 97090, 97091, 97094, 97103, 97111, 97115, 97121, 97123, 97125, 97138, 97139, 97148, 97156, 97158, 97161, 97163, 97165, 97174, 97191, 97201, 97204, 97212, 97219, 97231, 97254, 97257, 97265, 97269, 97276, 97285, 97287, 97289, 97290, 97297, 97298, 97299, 97309, 97313, 97326, 97328, 97329, 97330, 97348, 97351, 97360, 97365, 97366, 97380, 97398, 97405, 97409, 97413, 97417, 97421, 97430, 97439, 97449, 97452, 97457, 97459, 97462, 97465, 97475, 97487, 97503, 97508, 97509, 97512, 97514, 97521, 97523, 97525, 97530, 97531, 97547, 97548, 97564, 97571, 97584, 97594, 97595, 97596, 97600, 97616, 97619, 97628, 97630, 97631, 97650, 97652, 97659, 97660, 97663, 97676, 97690, 97700, 97706, 97712, 97718, 97737, 97738, 97757, 97760, 97765, 97768, 97773, 97782, 97808, 97810, 97811, 97814, 97829, 97837, 97845, 97854, 97857, 97863, 97902, 97928, 97930, 97966, 97975, 97976, 97977, 97978, 97998, 98000, 98014, 98111, 98134, 98150, 98155, 98172, 98193, 98244, 98248, 98250, 98257, 98258, 98278, 98280, 98281, 98287, 98292, 98294, 98297, 98298, 98300, 98301, 98302, 98307, 98309, 98310, 98316, 98318, 98321, 98333, 98334, 98337, 98342, 98345, 98352, 98354, 98356, 98357, 98360, 98364, 98365, 98368, 98374, 98380, 98382, 98385, 98388, 98390, 98392, 98398, 98399, 98401, 98405, 98413, 98414, 98415, 98418, 98419, 98420, 98427, 98429, 98435, 98438, 98440, 98441, 98444, 98445, 98448, 98450, 98451, 98452, 98457, 98461, 98463, 98469, 98470, 98471, 98476, 98480, 98481, 98482, 98483, 98484, 98485, 98489, 98496, 98499, 98503, 98509, 98516, 98517, 98518, 98519, 98524, 98527, 98529, 98538, 98540, 98543, 98546, 98548, 98550, 98552, 98553, 98554, 98555, 98557, 98559, 98561, 98562, 98564, 98567, 98568, 98575, 98578, 98581, 98586, 98590, 98592, 98596, 98599, 98608, 98613, 98626, 98629, 98630, 98631, 98635, 98636, 98640, 98643, 98644, 98649, 98650, 98659, 98660, 98663, 98666, 98667, 98668, 98683, 98686, 98691, 98692, 98693, 98697, 98713, 98721, 98724, 98726, 98732, 98735, 98738, 98754, 98769, 98778, 98807, 98818, 98820, 98850, 98851, 98852, 98860, 98865, 98868, 98874, 98877, 98880, 98885, 98889, 98891, 98892, 98893, 98900, 98912, 98914, 98922, 98938, 98942, 98954, 98971, 99002, 99003, 99024, 99026, 99029, 99030, 99031, 99032, 99038, 99039, 99047, 99051, 99054, 99067, 99071, 99072, 99076, 99077, 99084, 99087, 99093, 99107, 99129, 99139, 99140, 99149, 99150, 99151, 99156, 99160, 99161, 99170, 99179, 99189, 99199, 99224, 99232, 99240, 99242, 99252, 99253, 99255, 99324, 99327, 99329, 99351, 99363, 99371, 99375, 99380, 99385, 99401, 99405, 99424, 99449, 99466, 99472, 99478, 99487, 99495, 99507, 99516, 99521, 99522, 99525, 99553, 99559, 99572, 99610, 99611, 99619, 99620, 99625, 99635, 99638, 99644, 99650, 99654, 99658, 99661, 99662, 99663, 99677, 99678, 99679, 99685, 99695, 99698, 99700, 99710, 99711, 99721, 99729, 99732, 99737, 99738, 99739, 99745, 99746, 99753, 99758, 99764, 99767, 99770, 99772, 99773, 99780, 99786, 99789, 99795, 99820, 99821, 99826, 99832, 99833, 99834, 99839, 99845, 99846, 99855, 99871, 99882, 99894, 99895, 99898, 99905, 99908, 99925, 99937, 99940, 99947, 99952, 99960, 99972, 99974, 100011, 100013, 100015, 100027, 100036, 100042, 100047, 100055, 100057, 100058, 100069, 100076, 100096, 100112, 100115, 100121, 100131, 100157, 100165, 100168, 100184, 100187, 100195, 100201, 100208, 100232, 100235, 100247, 100250, 100265, 100301, 100313, 100364, 100370, 100374, 100397, 100399, 100404, 100436, 100444, 100447, 100453, 100455, 100457, 100459, 100461, 100479, 100482, 100486, 100502, 100504, 100505, 100518, 100525, 100529, 100530, 100537, 100538, 100542, 100543, 100547, 100552, 100554, 100556, 100560, 100579, 100581, 100591, 100606, 100610, 100620, 100622, 100631, 100648, 100657, 100667, 100668, 100670, 100673, 100677, 100680, 100684, 100685, 100692, 100694, 100695, 100699, 100700, 100709, 100715, 100716, 100730, 100736, 100738, 100750, 100755, 100757, 100772, 100773, 100774, 100775, 100786, 100795, 100806, 100811, 100816, 100817, 100818, 100831, 100839, 100876, 100878, 100880, 100888, 100900, 100955, 100956, 100960, 100980, 100998, 101011, 101015, 101016, 101020, 101029, 101033, 101034, 101047, 101053, 101068, 101070, 101079, 101082, 101090, 101091, 101114, 101126, 101127, 101129, 101132, 101162, 101167, 101168, 101169, 101175, 101179, 101180, 101186, 101203, 101205, 101207, 101209, 101210, 101211, 101212, 101217, 101221, 101222, 101239, 101241, 101242, 101249, 101250, 101252, 101254, 101274, 101277, 101294, 101297, 101298, 101314, 101324, 101331, 101342, 101349, 101355, 101360, 101365, 101386, 101424, 101429, 101441, 101442, 101456, 101458, 101470, 101471, 101473, 101482, 101490, 101492, 101493, 101503, 101504, 101538, 101539, 101543, 101550, 101551, 101552, 101555, 101556, 101568, 101570, 101582, 101586, 101587, 101590, 101623, 101632, 101641, 101661, 101671, 101677, 101678, 101681, 101682, 101684, 101686, 101688, 101690, 101695, 101696, 101710, 101715, 101716, 101719, 101722, 101723, 101724, 101728, 101731, 101740, 101747, 101749, 101752, 101753, 101754, 101761, 101764, 101765, 101766, 101767, 101768, 101771, 101773, 101774, 101777, 101778, 101783, 101784, 101786, 101788, 101790, 101810, 101818, 101819, 101820, 101822, 101825, 101837, 101844, 101845, 101848, 101850, 101863, 101864, 101867, 101890, 101891, 101895, 101896, 101903, 101909, 101911, 101913, 101921, 101926, 101940, 101943, 101967, 101973, 101979, 101986, 101993, 101998, 102021, 102050, 102051, 102087, 102095, 102099, 102106, 102111, 102121, 102129, 102135, 102139, 102140, 102142, 102155, 102162, 102178, 102184, 102188, 102202, 102205, 102217, 102220, 102224, 102231, 102232, 102239, 102254, 102261, 102262, 102267, 102268, 102272, 102281, 102283, 102288, 102290, 102292, 102294, 102303, 102340, 102345, 102350, 102355, 102366, 102368, 102379, 102380, 102384, 102387, 102388, 102389, 102391, 102392, 102395, 102408]\n"
     ]
    }
   ],
   "source": [
    "print(multiple)"
   ]
  },
  {
   "cell_type": "code",
   "execution_count": 13,
   "metadata": {},
   "outputs": [
    {
     "name": "stdout",
     "output_type": "stream",
     "text": [
      "(27542, 64)\n"
     ]
    }
   ],
   "source": [
    "import pickle\n",
    "\n",
    "# 打开.pkl文件\n",
    "with open('./Mental/node_embeddings10.pkl', 'rb') as file:\n",
    "    # 使用pickle.load()读取文件内容\n",
    "    patient_embeddings = pickle.load(file)\n",
    "\n",
    "# 现在node_embeddings变量包含了.pkl文件中的数据\n",
    "print(patient_embeddings.shape)"
   ]
  },
  {
   "cell_type": "code",
   "execution_count": 14,
   "metadata": {},
   "outputs": [
    {
     "data": {
      "text/plain": [
       "array([[-0.28441083,  0.2384652 ,  0.05291691, ...,  0.14153619,\n",
       "        -0.1459547 , -0.05946816],\n",
       "       [ 0.26169717,  0.6295254 , -0.17321129, ..., -0.7328737 ,\n",
       "        -0.4345008 ,  0.02331722],\n",
       "       [-0.9158436 , -0.11965816,  0.77676946, ..., -2.0127282 ,\n",
       "         0.5279438 ,  0.47199234],\n",
       "       ...,\n",
       "       [ 0.06076777,  1.0658503 , -1.7489607 , ...,  0.00569094,\n",
       "         0.89993006, -0.0580528 ],\n",
       "       [ 0.09550821, -0.6118945 , -0.7460353 , ...,  0.5227377 ,\n",
       "        -0.14507967, -0.5843255 ],\n",
       "       [-0.58699745,  0.20087516, -0.11097392, ...,  0.19754507,\n",
       "         0.2158717 , -0.16281731]], dtype=float32)"
      ]
     },
     "execution_count": 14,
     "metadata": {},
     "output_type": "execute_result"
    }
   ],
   "source": [
    "patient_embeddings"
   ]
  },
  {
   "cell_type": "code",
   "execution_count": 15,
   "metadata": {},
   "outputs": [],
   "source": [
    "def build_code_xy(pids: np.ndarray,\n",
    "                  patient_admission: dict,\n",
    "                  admission_codes_encoded: dict,\n",
    "                  max_admission_num: int,\n",
    "                  code_num: int,\n",
    "                  max_code_num_in_a_visit: int,\n",
    "                  pretrain=False) -> (np.ndarray, np.ndarray, np.ndarray): # type: ignore\n",
    "    print('building pretrain/train/valid/test codes features and labels ...')\n",
    "    n = len(pids)\n",
    "    print(max_admission_num)\n",
    "    x = np.zeros((n, max_admission_num-1, max_code_num_in_a_visit), dtype=int)\n",
    "    y = np.zeros((n, code_num), dtype=int)\n",
    "    embeddings = np.zeros((n, 64), dtype=np.float32)\n",
    "    lens = np.zeros((n, ), dtype=int)\n",
    "    intervals = np.zeros((n, max_admission_num-1), dtype=int)  # Added for intervals\n",
    "    for i, pid in enumerate(pids):\n",
    "        print('\\r\\t%d / %d' % (i + 1, len(pids)), end='')\n",
    "        admissions = patient_admission[pid]\n",
    "        end_pos = None if pretrain and len(admissions) <= 2 else -1\n",
    "        for k, admission in enumerate(admissions[:end_pos]):\n",
    "            codes = admission_codes_encoded[admission['admission_id']]\n",
    "            x[i][k][:len(codes)] = codes\n",
    "            # Calculate interval for each admission (except the first one)\n",
    "            if end_pos == -1:\n",
    "                interval = (admissions[k+1]['admission_time'] - admissions[k]['admission_time']).days\n",
    "                intervals[i][k] = interval\n",
    "        if pretrain:\n",
    "            codes = set(itertools.chain.from_iterable([admission_codes_encoded[admission['admission_id']]\n",
    "                                                    for admission in admissions]))\n",
    "            codes = np.array(list(codes)) - 1\n",
    "        else:\n",
    "            codes = np.array(admission_codes_encoded[admissions[-1]['admission_id']]) - 1    \n",
    "        # 如果是预训练模式（pretrain=True），将所有就诊记录中出现的诊断编码合并为一个集合，将集合中的诊断编码减去1(-1对应原先代码)，并赋值给codes。\n",
    "        # 这样，codes中的元素表示所有出现的诊断编码的唯一标识符。\n",
    "        # 这是为了构建一个预训练任务，预测患者是否会在未来的就诊记录中出现特定的诊断编码。\n",
    "        # codes = [admissions[-1]['admission_id']]\n",
    "        # print(codes)\n",
    "        y[i][codes] = 1\n",
    "        lens[i] = len(admissions) if pretrain else len(admissions) - 1\n",
    "        \n",
    "        embeddings[i] = patient_embeddings[multiple.index(pid)] if pid in multiple else np.zeros((1, 64))\n",
    "        \n",
    "    print('\\r\\t%d / %d' % (len(pids), len(pids)))\n",
    "    return x, intervals, y, lens, embeddings"
   ]
  },
  {
   "cell_type": "code",
   "execution_count": 16,
   "metadata": {},
   "outputs": [
    {
     "name": "stdout",
     "output_type": "stream",
     "text": [
      "building pretrain/train/valid/test codes features and labels ...\n",
      "50\n",
      "\t93908 / 93908\n",
      "building pretrain/train/valid/test codes features and labels ...\n",
      "50\n",
      "\t19279 / 19279\n",
      "building pretrain/train/valid/test codes features and labels ...\n",
      "50\n",
      "\t2755 / 2755\n",
      "building pretrain/train/valid/test codes features and labels ...\n",
      "50\n",
      "\t5508 / 5508\n"
     ]
    }
   ],
   "source": [
    "pretrain_codes_x, pretrain_codes_intervals, pretrain_codes_y, pretrain_visit_lens, pre_embeddings = build_code_xy(pretrain_pids, patient_admission,\n",
    "                                                                            admission_codes_encoded, max_admission_num,\n",
    "                                                                            code_num_pretrain, max_code_num_in_a_visit,\n",
    "                                                                            pretrain=True)\n",
    "train_codes_x, train_codes_intervals, train_codes_y, train_visit_lens, train_embeddings = build_code_xy(train_pids, patient_admission,\n",
    "                                                                   admission_codes_encoded, max_admission_num,\n",
    "                                                                   code_num, max_code_num_in_a_visit)\n",
    "valid_codes_x, valid_codes_intervals, valid_codes_y, valid_visit_lens, valid_embeddings = build_code_xy(valid_pids, patient_admission,\n",
    "                                                                   admission_codes_encoded, max_admission_num,\n",
    "                                                                   code_num, max_code_num_in_a_visit)\n",
    "test_codes_x, test_codes_intervals, test_codes_y, test_visit_lens, test_embeddings = build_code_xy(test_pids, patient_admission, admission_codes_encoded,\n",
    "                                                                max_admission_num, code_num,\n",
    "                                                                max_code_num_in_a_visit)"
   ]
  },
  {
   "cell_type": "code",
   "execution_count": 17,
   "metadata": {},
   "outputs": [],
   "source": [
    "def build_hf_y(target_prefixes: list, codes_y: np.ndarray, code_map: dict) -> np.ndarray:\n",
    "    print('building train/valid/test Target_Disease labels ...')\n",
    "    # target_list = np.array([cid for code, cid in code_map.items() if code.startswith(target_prefix)])\n",
    "    # targets = np.zeros((len(code_map), ), dtype=int)\n",
    "    # targets[target_list - 1] = 1\n",
    "    # target_exist = np.logical_and(codes_y, targets)\n",
    "    # y = (np.sum(target_exist, axis=-1) > 0).astype(int)\n",
    "    # return y\n",
    "    # 初始化一个全零的数组\n",
    "    targets = np.zeros((len(code_map),), dtype=int)\n",
    "    \n",
    "    # 对每个前缀进行迭代\n",
    "    for target_prefix in target_prefixes:\n",
    "        # 找到与当前前缀匹配的代码\n",
    "        target_list = np.array([cid for code, cid in code_map.items() if code.startswith(target_prefix)], dtype=int)\n",
    "        # 将匹配的代码对应位置设为1\n",
    "        targets[target_list - 1] = 1\n",
    "\n",
    "    # 判断是否存在心力衰竭相关代码\n",
    "    target_exist = np.logical_and(codes_y, targets)\n",
    "    # 判断是否存在任何心力衰竭相关代码\n",
    "    y = (np.sum(target_exist, axis=-1) > 0).astype(int)\n",
    "    \n",
    "    return y\n",
    "# hf_ICD = ['I11.0', 'I11.9', 'I13.0', 'I13.2', 'I50', 'I97.1', 'I97.8']\n",
    "# train_hf_y = build_hf_y(hf_ICD, train_codes_y, code_map)\n",
    "# valid_hf_y = build_hf_y(hf_ICD, valid_codes_y, code_map)\n",
    "# test_hf_y = build_hf_y(hf_ICD, test_codes_y, code_map)\n",
    "\n",
    "# da_ICD = ['E10', 'E11', 'E12', 'E13', 'E14', 'E71.0', 'P70']\n",
    "# train_da_y = build_hf_y(da_ICD, train_codes_y, code_map)\n",
    "# valid_da_y = build_hf_y(da_ICD, valid_codes_y, code_map)\n",
    "# test_da_y = build_hf_y(da_ICD, test_codes_y, code_map)\n",
    "\n",
    "# ns_ICD = ['F40', 'F41', 'F42', 'F43', 'F44', 'F45', 'F48']\n",
    "# train_ns_y = build_hf_y(ns_ICD, train_codes_y, code_map)\n",
    "# valid_ns_y = build_hf_y(ns_ICD, valid_codes_y, code_map)\n",
    "# test_ns_y = build_hf_y(ns_ICD, test_codes_y, code_map)\n",
    "\n",
    "# sd_ICD = ['F20', 'F22', 'F24', 'F25', 'F28']\n",
    "# train_sd_y = build_hf_y(sd_ICD, train_codes_y, code_map)\n",
    "# valid_sd_y = build_hf_y(sd_ICD, valid_codes_y, code_map)\n",
    "# test_sd_y = build_hf_y(sd_ICD, test_codes_y, code_map)\n",
    "\n",
    "# cd_ICD = ['G45', 'G46', 'I60', 'I61', 'I62', 'I63', 'I64', 'I67', 'I69']\n",
    "# train_cd_y = build_hf_y(cd_ICD, train_codes_y, code_map)\n",
    "# valid_cd_y = build_hf_y(cd_ICD, valid_codes_y, code_map)\n",
    "# test_cd_y = build_hf_y(cd_ICD, test_codes_y, code_map)\n",
    "\n",
    "# es_ICD = ['I85', 'I86.4', 'I98.2', 'I98.3', 'K21', 'K22.0', 'K22.2', 'K22.4', \n",
    "#           'K22.5', 'K22.7', 'K23.0', 'K23.1', 'K25.4', 'K25.5', 'K25.6', 'K25.7', \n",
    "#           'K26.4', 'K26.5', 'K26.6', 'K26.7', 'K27.4', 'K27.5', 'K27.6', 'K27.7', \n",
    "#           'K28.4', 'K28.5', 'K28.6', 'K28.7', 'K29.3', 'K29.4', 'K29.5', 'K29.6', \n",
    "#           'K29.7', 'K29.8', 'K29.9', 'K31.1', 'K31.2', 'K31.3', 'K31.4', 'K31.5', 'Q39', 'Q40', 'Z90.3']\n",
    "# train_es_y = build_hf_y(es_ICD, train_codes_y, code_map)\n",
    "# valid_es_y = build_hf_y(es_ICD, valid_codes_y, code_map)\n",
    "# test_es_y = build_hf_y(es_ICD, test_codes_y, code_map)"
   ]
  },
  {
   "cell_type": "code",
   "execution_count": 18,
   "metadata": {},
   "outputs": [
    {
     "name": "stdout",
     "output_type": "stream",
     "text": [
      "building train/valid/test Target_Disease labels ...\n",
      "building train/valid/test Target_Disease labels ...\n",
      "building train/valid/test Target_Disease labels ...\n",
      "19279 2755 5508\n",
      "5706 780 1548\n",
      "8034\n",
      "0.2916999491685426\n"
     ]
    }
   ],
   "source": [
    "hy_ICD = ['I10', 'I11', 'I12', 'I13', 'I15']\n",
    "train_hy_y = build_hf_y(hy_ICD, train_codes_y, code_map)\n",
    "valid_hy_y = build_hf_y(hy_ICD, valid_codes_y, code_map)\n",
    "test_hy_y = build_hf_y(hy_ICD, test_codes_y, code_map)\n",
    "print(len(train_hy_y), len(valid_hy_y), len(test_hy_y))\n",
    "print(sum(train_hy_y), sum(valid_hy_y), sum(test_hy_y))\n",
    "print(sum(train_hy_y) + sum(valid_hy_y) + sum(test_hy_y))\n",
    "print((sum(train_hy_y) + sum(valid_hy_y) + sum(test_hy_y)) / len(multiple))"
   ]
  },
  {
   "cell_type": "code",
   "execution_count": 19,
   "metadata": {},
   "outputs": [
    {
     "name": "stdout",
     "output_type": "stream",
     "text": [
      "building train/valid/test Target_Disease labels ...\n",
      "building train/valid/test Target_Disease labels ...\n",
      "building train/valid/test Target_Disease labels ...\n",
      "19279 2755 2755\n",
      "2812 418 418\n",
      "3648\n",
      "0.132452254738218\n"
     ]
    }
   ],
   "source": [
    "ns_ICD = ['F40', 'F41', 'F42', 'F43', 'F44', 'F45', 'F48']\n",
    "train_ns_y = build_hf_y(ns_ICD, train_codes_y, code_map)\n",
    "valid_ns_y = build_hf_y(ns_ICD, valid_codes_y, code_map)\n",
    "test_ns_y = build_hf_y(ns_ICD, test_codes_y, code_map)\n",
    "print(len(train_ns_y), len(valid_ns_y), len(valid_ns_y))\n",
    "print(sum(train_ns_y), sum(valid_ns_y), sum(valid_ns_y))\n",
    "print(sum(train_ns_y) + sum(valid_ns_y) + sum(valid_ns_y))\n",
    "print((sum(train_ns_y) + sum(valid_ns_y) + sum(valid_ns_y)) / len(multiple))"
   ]
  },
  {
   "cell_type": "code",
   "execution_count": 20,
   "metadata": {},
   "outputs": [
    {
     "name": "stdout",
     "output_type": "stream",
     "text": [
      "building train/valid/test Target_Disease labels ...\n",
      "building train/valid/test Target_Disease labels ...\n",
      "building train/valid/test Target_Disease labels ...\n",
      "19279 2755 5508\n",
      "2956 393 774\n",
      "4123\n",
      "0.14969864207392347\n"
     ]
    }
   ],
   "source": [
    "omd_ICD = ['F00', 'F01', 'F02', 'F03', 'F04', 'F05', 'F06', 'F07', 'F09']\n",
    "train_omd_y = build_hf_y(omd_ICD, train_codes_y, code_map)\n",
    "valid_omd_y = build_hf_y(omd_ICD, valid_codes_y, code_map)\n",
    "test_omd_y = build_hf_y(omd_ICD, test_codes_y, code_map)\n",
    "print(len(train_omd_y), len(valid_omd_y), len(test_omd_y))\n",
    "print(sum(train_omd_y), sum(valid_omd_y), sum(test_omd_y))\n",
    "print(sum(train_omd_y) + sum(valid_omd_y) + sum(test_omd_y))\n",
    "print((sum(train_omd_y) + sum(valid_omd_y) + sum(test_omd_y)) / len(multiple))"
   ]
  },
  {
   "cell_type": "code",
   "execution_count": 21,
   "metadata": {},
   "outputs": [],
   "source": [
    "Risk_For = (train_hy_y, train_ns_y, train_omd_y, valid_hy_y, valid_ns_y, valid_omd_y, test_hy_y, test_ns_y, test_omd_y)\n",
    "fw = open('./Mental-30/_Risk_For.pickle-6.5','wb')\n",
    "pickle.dump(Risk_For, fw)\n",
    "fw.close()"
   ]
  },
  {
   "cell_type": "code",
   "execution_count": 31,
   "metadata": {},
   "outputs": [
    {
     "name": "stdout",
     "output_type": "stream",
     "text": [
      "19279 2755 5508\n",
      "2659 379 674\n",
      "3712\n",
      "0.13477597850555514\n"
     ]
    }
   ],
   "source": [
    "# print(len(train_hf_y), len(valid_hf_y), len(test_hf_y))\n",
    "# print(sum(train_hf_y), sum(valid_hf_y), sum(test_hf_y))\n",
    "# print(sum(train_hf_y) + sum(valid_hf_y) + sum(test_hf_y))\n",
    "# print((sum(train_hf_y) + sum(valid_hf_y) + sum(test_hf_y)) / len(multiple))"
   ]
  },
  {
   "cell_type": "code",
   "execution_count": 32,
   "metadata": {},
   "outputs": [
    {
     "name": "stdout",
     "output_type": "stream",
     "text": [
      "19279 2755 5508\n",
      "2310 297 617\n",
      "3224\n",
      "0.11705758477960933\n"
     ]
    }
   ],
   "source": [
    "# print(len(train_da_y), len(valid_da_y), len(test_da_y))\n",
    "# print(sum(train_da_y), sum(valid_da_y), sum(test_da_y))\n",
    "# print(sum(train_da_y) + sum(valid_da_y) + sum(test_da_y))\n",
    "# print((sum(train_da_y) + sum(valid_da_y) + sum(test_da_y)) / len(multiple))"
   ]
  },
  {
   "cell_type": "code",
   "execution_count": 33,
   "metadata": {},
   "outputs": [
    {
     "name": "stdout",
     "output_type": "stream",
     "text": [
      "19279 2755 5508\n",
      "2812 418 894\n",
      "4124\n",
      "0.1497349502577881\n"
     ]
    }
   ],
   "source": [
    "# print(len(train_ns_y), len(valid_ns_y), len(test_ns_y))\n",
    "# print(sum(train_ns_y), sum(valid_ns_y), sum(test_ns_y))\n",
    "# print(sum(train_ns_y) + sum(valid_ns_y) + sum(test_ns_y))\n",
    "# print((sum(train_ns_y) + sum(valid_ns_y) + sum(test_ns_y)) / len(multiple))"
   ]
  },
  {
   "cell_type": "code",
   "execution_count": 34,
   "metadata": {},
   "outputs": [
    {
     "name": "stdout",
     "output_type": "stream",
     "text": [
      "19279 2755 5508\n",
      "3950 659 1249\n",
      "5858\n",
      "0.21269334107907922\n"
     ]
    }
   ],
   "source": [
    "# # Schizophrenia And Delusional Diseases\n",
    "# print(len(train_sd_y), len(valid_sd_y), len(test_sd_y))\n",
    "# print(sum(train_sd_y), sum(valid_sd_y), sum(test_sd_y))\n",
    "# print(sum(train_sd_y) + sum(valid_sd_y) + sum(test_sd_y))\n",
    "# print((sum(train_sd_y) + sum(valid_sd_y) + sum(test_sd_y)) / len(multiple))"
   ]
  },
  {
   "cell_type": "code",
   "execution_count": 35,
   "metadata": {},
   "outputs": [
    {
     "name": "stdout",
     "output_type": "stream",
     "text": [
      "19279 2755 5508\n",
      "6746 969 1865\n",
      "9580\n",
      "0.3478324014232808\n"
     ]
    }
   ],
   "source": [
    "# # Cerebrovascular Disease\n",
    "# print(len(train_cd_y), len(valid_cd_y), len(test_cd_y))\n",
    "# print(sum(train_cd_y), sum(valid_cd_y), sum(test_cd_y))\n",
    "# print(sum(train_cd_y) + sum(valid_cd_y) + sum(test_cd_y))\n",
    "# print((sum(train_cd_y) + sum(valid_cd_y) + sum(test_cd_y)) / len(multiple))"
   ]
  },
  {
   "cell_type": "code",
   "execution_count": 36,
   "metadata": {},
   "outputs": [
    {
     "name": "stdout",
     "output_type": "stream",
     "text": [
      "19279 2755 5508\n",
      "4504 686 1328\n",
      "6518\n",
      "0.23665674242974366\n"
     ]
    }
   ],
   "source": [
    "# # Esophagus Stomach and Duodenum Diseases\n",
    "# print(len(train_es_y), len(valid_es_y), len(test_es_y))\n",
    "# print(sum(train_es_y), sum(valid_es_y), sum(test_es_y))\n",
    "# print(sum(train_es_y) + sum(valid_es_y) + sum(test_es_y))\n",
    "# print((sum(train_es_y) + sum(valid_es_y) + sum(test_es_y)) / len(multiple))"
   ]
  },
  {
   "cell_type": "code",
   "execution_count": null,
   "metadata": {},
   "outputs": [],
   "source": []
  },
  {
   "cell_type": "code",
   "execution_count": null,
   "metadata": {},
   "outputs": [],
   "source": [
    "# Risk_For = (train_sd_y, train_cd_y, train_es_y, valid_sd_y, valid_cd_y, valid_es_y, test_sd_y, test_cd_y, test_es_y)\n",
    "# fw = open('./Mental-30/_Risk_For.pickle','wb')\n",
    "# pickle.dump(Risk_For, fw)\n",
    "# fw.close()"
   ]
  },
  {
   "cell_type": "code",
   "execution_count": 37,
   "metadata": {},
   "outputs": [],
   "source": [
    "# pretrain = (pretrain_codes_x, pretrain_codes_y, pretrain_codes_intervals, pretrain_visit_lens, pre_embeddings)\n",
    "train = (train_codes_x, train_codes_y, train_codes_intervals, train_visit_lens, train_embeddings, train_sd_y, train_cd_y, train_es_y)\n",
    "valid = (valid_codes_x, valid_codes_y, valid_codes_intervals, valid_visit_lens, valid_embeddings, valid_sd_y, valid_cd_y, valid_es_y)\n",
    "test = (test_codes_x, test_codes_y, test_codes_intervals, test_visit_lens, test_embeddings, test_sd_y, test_cd_y, test_es_y)\n",
    "# fw = open('./Mental-30/_pretraining.pickle','wb')\n",
    "# pickle.dump(pretrain, fw)\n",
    "# fw.close()\n",
    "fw = open('./Mental-30/_training.pickle','wb')\n",
    "pickle.dump(train, fw)\n",
    "fw.close()\n",
    "\n",
    "fw = open('./Mental-30/_testing.pickle','wb')\n",
    "pickle.dump(test, fw)\n",
    "fw.close()\n",
    "\n",
    "fw = open('./Mental-30/_validation.pickle','wb')\n",
    "pickle.dump(valid, fw)\n",
    "fw.close()\n",
    "\n",
    "fw = open('./Mental-30/_code2idx.pickle','wb')\n",
    "pickle.dump(code_map, fw)\n",
    "fw.close()"
   ]
  },
  {
   "cell_type": "code",
   "execution_count": 38,
   "metadata": {},
   "outputs": [],
   "source": [
    "Risk_For = (train_sd_y, train_cd_y, train_es_y, valid_sd_y, valid_cd_y, valid_es_y, test_sd_y, test_cd_y, test_es_y)\n",
    "fw = open('./Mental-30/_Risk_For.pickle','wb')\n",
    "pickle.dump(Risk_For, fw)\n",
    "fw.close()"
   ]
  },
  {
   "cell_type": "code",
   "execution_count": 35,
   "metadata": {},
   "outputs": [
    {
     "data": {
      "text/plain": [
       "(19279, 64)"
      ]
     },
     "execution_count": 35,
     "metadata": {},
     "output_type": "execute_result"
    }
   ],
   "source": [
    "train_embeddings.shape"
   ]
  },
  {
   "cell_type": "code",
   "execution_count": 12,
   "metadata": {},
   "outputs": [
    {
     "data": {
      "text/plain": [
       "4516"
      ]
     },
     "execution_count": 12,
     "metadata": {},
     "output_type": "execute_result"
    }
   ],
   "source": [
    "len(code_map)"
   ]
  },
  {
   "cell_type": "code",
   "execution_count": 13,
   "metadata": {},
   "outputs": [],
   "source": [
    "def parse_icd10_range(range_: str) -> (str, str, int, int): # type: ignore\n",
    "    ranges = range_.lstrip().split('-')\n",
    "    prefix = ranges[0][0]\n",
    "    format_ = '%02d'\n",
    "    start, end = int(ranges[0][1:]), int(ranges[1][1:])\n",
    "    return prefix, format_, start, end\n",
    "\n",
    "\n",
    "def generate_code_levels(path, code_map: dict) -> np.ndarray:\n",
    "    print('generating code levels ...')\n",
    "    three_level_code_set = set(code.split('.')[0] for code in code_map)\n",
    "    icd9_path = os.path.join(path, 'icd_10.txt')\n",
    "    icd9_range = list(open(icd9_path, 'r', encoding='utf-8').readlines())\n",
    "    three_level_dict = dict()\n",
    "    level1, level2, level3 = (1, 1, 1)\n",
    "    level1_can_add = False\n",
    "    for range_ in icd9_range:\n",
    "        range_ = range_.rstrip()\n",
    "        if range_[0] == '\\t':\n",
    "            prefix, format_, start, end = parse_icd10_range(range_)\n",
    "            level2_cannot_add = True\n",
    "            for i in range(start, end + 1):\n",
    "                code = prefix + format_ % i\n",
    "                if code in three_level_code_set:\n",
    "                    three_level_dict[code] = [level1, level2, level3]\n",
    "                    level3 += 1\n",
    "                    level1_can_add = True\n",
    "                    level2_cannot_add = False\n",
    "            if not level2_cannot_add:\n",
    "                level2 += 1\n",
    "        else:\n",
    "            if level1_can_add:\n",
    "                level1 += 1\n",
    "                level1_can_add = False\n",
    "\n",
    "    code_level = dict()\n",
    "    for code, cid in code_map.items():\n",
    "        three_level_code = code.split('.')[0]\n",
    "        three_level = three_level_dict[three_level_code]\n",
    "        code_level[code] = three_level + [cid]\n",
    "\n",
    "    code_level_matrix = np.zeros((len(code_map) + 1, 4), dtype=int)\n",
    "    for code, cid in code_map.items():\n",
    "        code_level_matrix[cid] = code_level[code]\n",
    "    print('Done!')\n",
    "    return code_level_matrix\n",
    "\n",
    "# 获得代码在同一组别的 代码放在一起  一层一层分下去 三层\n",
    "def generate_subclass_map(code_level_matrix: np.ndarray) -> list:\n",
    "    code_num, level_num = code_level_matrix.shape\n",
    "    max_level = np.max(code_level_matrix, axis=0)\n",
    "    subclass_map = [[np.array(list(set((code_level_matrix[np.where(code_level_matrix[:, i] == l)[0]][:, i + 1]))),\n",
    "                              dtype=int) - 1\n",
    "                     for l in range(1, max_level[i] + 1)] for i in range(level_num - 1)]\n",
    "    return subclass_map\n",
    "\n",
    "\n",
    "def generate_code_code_adjacent(pids: np.ndarray, patient_admission: dict, admission_codes_encoded: dict, code_num: int) -> np.ndarray:\n",
    "    print('Pretrain_p generating code code adjacent matrix ...')\n",
    "    n = code_num + 1\n",
    "    result = np.zeros((n, n), dtype=float)\n",
    "    for i, pid in enumerate(pids):\n",
    "        print('\\r\\t%d / %d' % (i, len(pids)), end='')\n",
    "        for admission in patient_admission[pid]:\n",
    "            codes = admission_codes_encoded[admission['admission_id']]\n",
    "            for row in range(len(codes) - 1):\n",
    "                for col in range(row + 1, len(codes)):\n",
    "                    c_i = codes[row]\n",
    "                    c_j = codes[col]\n",
    "                    result[c_i, c_j] += 1\n",
    "                    result[c_j, c_i] += 1\n",
    "    print('\\r\\t%d / %d' % (len(pids), len(pids)))\n",
    "    s = result.sum(axis=-1, keepdims=True)\n",
    "    s[s == 0] = 1\n",
    "    result = result / s\n",
    "    result = result + np.eye(result.shape[0]) * 9\n",
    "    # rowsum = result.sum(axis=-1)\n",
    "    # degree_mat_inv_sqrt = np.diag(np.power(rowsum, -0.5).flatten())\n",
    "    # result = result.dot(degree_mat_inv_sqrt).transpose().dot(degree_mat_inv_sqrt)\n",
    "    result = result / result.sum(axis=-1, keepdims=True)\n",
    "    print(\"Pretrain Codes Done!\")\n",
    "    return result.astype(np.float32)\n"
   ]
  },
  {
   "cell_type": "code",
   "execution_count": 14,
   "metadata": {},
   "outputs": [
    {
     "name": "stdout",
     "output_type": "stream",
     "text": [
      "generating code levels ...\n",
      "Done!\n",
      "Pretrain_p generating code code adjacent matrix ...\n",
      "\t93908 / 93908\n",
      "Pretrain Codes Done!\n"
     ]
    }
   ],
   "source": [
    "#%%\n",
    "if __name__ == '__main__':\n",
    "    # 层级分类\n",
    "    code_levels_pretrain= generate_code_levels(data_path, code_map_pretrain)\n",
    "    # 只保留codemap里面的\n",
    "    code_levels = code_levels_pretrain[:(code_num + 1)]\n",
    "    # 组织相似的代码。\n",
    "    subclass_maps_pretrain = generate_subclass_map(code_level_matrix=code_levels_pretrain)\n",
    "    subclass_maps = generate_subclass_map(code_level_matrix=code_levels)\n",
    "    # 构建共病关联矩阵 邻接矩阵的每一行进行归一化，以得到概率分布, 最后对矩阵进行行归一化\n",
    "    code_code_adj = generate_code_code_adjacent(pids=pretrain_pids, patient_admission=patient_admission,\n",
    "                                                admission_codes_encoded=admission_codes_encoded,\n",
    "                                                code_num=code_num_pretrain)\n",
    "    # 第一个(0)为不存在 占位用"
   ]
  },
  {
   "cell_type": "code",
   "execution_count": 15,
   "metadata": {},
   "outputs": [],
   "source": [
    "fw = open('./Mental5.15/_code_code_adj.pickle','wb')\n",
    "pickle.dump(code_code_adj, fw)\n",
    "fw.close()"
   ]
  },
  {
   "cell_type": "code",
   "execution_count": 16,
   "metadata": {},
   "outputs": [
    {
     "data": {
      "text/plain": [
       "(4931, 4931)"
      ]
     },
     "execution_count": 16,
     "metadata": {},
     "output_type": "execute_result"
    }
   ],
   "source": [
    "len(code_code_adj), len(code_code_adj[0])"
   ]
  },
  {
   "cell_type": "code",
   "execution_count": 17,
   "metadata": {},
   "outputs": [],
   "source": [
    "def build_hierarchical_y(code_levels, y):\n",
    "    print('building pretrain/train/valid/test hierarchical labels ...')\n",
    "    subclass_dims = np.max(code_levels, axis=0)\n",
    "    n = len(y)\n",
    "    y_trues = [np.zeros((n, dim), dtype=int) for dim in subclass_dims]\n",
    "    for i, codes_hot in enumerate(y):\n",
    "        print('\\r\\t%d / %d' % (i + 1, n), end='')\n",
    "        codes = np.where(codes_hot == 1)[0] + 1\n",
    "        for code in codes:\n",
    "            levels = code_levels[code]\n",
    "            for l, level in enumerate(levels):\n",
    "                y_trues[l][i][level - 1] = 1\n",
    "    print('\\r\\t%d / %d' % (n, n))\n",
    "    return y_trues\n",
    "\n",
    "\n",
    "def build_heart_failure_y(hf_prefix: str, codes_y: np.ndarray, code_map: dict) -> np.ndarray:\n",
    "    print('building train/valid/test heart failure labels ...')\n",
    "    hf_list = np.array([cid for code, cid in code_map.items() if code.startswith(hf_prefix)])\n",
    "    hfs = np.zeros((len(code_map), ), dtype=int)\n",
    "    hfs[hf_list - 1] = 1\n",
    "    hf_exist = np.logical_and(codes_y, hfs)\n",
    "    y = (np.sum(hf_exist, axis=-1) > 0).astype(int)\n",
    "    return y"
   ]
  },
  {
   "cell_type": "code",
   "execution_count": 18,
   "metadata": {},
   "outputs": [
    {
     "name": "stdout",
     "output_type": "stream",
     "text": [
      "building pretrain/train/valid/test hierarchical labels ...\n",
      "\t93908 / 93908\n",
      "building pretrain/train/valid/test hierarchical labels ...\n",
      "\t19279 / 19279\n",
      "building pretrain/train/valid/test hierarchical labels ...\n",
      "\t2755 / 2755\n",
      "building pretrain/train/valid/test hierarchical labels ...\n",
      "\t5508 / 5508\n",
      "building train/valid/test heart failure labels ...\n",
      "building train/valid/test heart failure labels ...\n",
      "building train/valid/test heart failure labels ...\n",
      "saving encoded data ...\n",
      "saving standard data ...\n"
     ]
    }
   ],
   "source": [
    "pretrain_y_h = build_hierarchical_y(code_levels_pretrain, pretrain_codes_y)\n",
    "train_y_h = build_hierarchical_y(code_levels, train_codes_y)\n",
    "valid_y_h = build_hierarchical_y(code_levels, valid_codes_y)\n",
    "test_y_h = build_hierarchical_y(code_levels, test_codes_y)\n",
    "\n",
    "train_hf_y = build_heart_failure_y('I50', train_codes_y, code_map)\n",
    "valid_hf_y = build_heart_failure_y('I50', valid_codes_y, code_map)\n",
    "test_hf_y = build_heart_failure_y('I50', test_codes_y, code_map)\n",
    "pretrain_codes_data = (pretrain_codes_x, pretrain_codes_y, pretrain_y_h, pretrain_visit_lens)\n",
    "train_codes_data = (train_codes_x, train_codes_y, train_y_h, train_visit_lens)\n",
    "valid_codes_data = (valid_codes_x, valid_codes_y, valid_y_h, valid_visit_lens)\n",
    "test_codes_data = (test_codes_x, test_codes_y, test_y_h, test_visit_lens)\n",
    "dataset_path = 'Mental5.15'\n",
    "encoded_path = os.path.join(dataset_path, 'encoded')\n",
    "if not os.path.exists(encoded_path):\n",
    "    os.makedirs(encoded_path)\n",
    "print('saving encoded data ...')\n",
    "pickle.dump(patient_admission, open(os.path.join(encoded_path, 'patient_admission.pkl'), 'wb'))\n",
    "pickle.dump(admission_codes_encoded, open(os.path.join(encoded_path, 'codes_encoded.pkl'), 'wb'))\n",
    "pickle.dump({\n",
    "    'code_map': code_map,\n",
    "    'code_map_pretrain': code_map_pretrain\n",
    "}, open(os.path.join(encoded_path, 'code_maps.pkl'), 'wb'))\n",
    "pickle.dump({\n",
    "    'pretrain_pids': pretrain_pids,\n",
    "    'train_pids': train_pids,\n",
    "    'valid_pids': valid_pids,\n",
    "    'test_pids': test_pids\n",
    "}, open(os.path.join(encoded_path, 'pids.pkl'), 'wb'))\n",
    "\n",
    "print('saving standard data ...')\n",
    "standard_path = os.path.join(dataset_path, 'standard')\n",
    "if not os.path.exists(standard_path):\n",
    "    os.makedirs(standard_path)\n",
    "pickle.dump(pretrain_codes_data, open(os.path.join(standard_path, 'pretrain_codes_dataset.pkl'), 'wb'))\n",
    "pickle.dump({\n",
    "    'train_codes_data': train_codes_data,\n",
    "    'valid_codes_data': valid_codes_data,\n",
    "    'test_codes_data': test_codes_data\n",
    "}, open(os.path.join(standard_path, 'codes_dataset.pkl'), 'wb'))\n",
    "pickle.dump({\n",
    "    'train_hf_y': train_hf_y,\n",
    "    'valid_hf_y': valid_hf_y,\n",
    "    'test_hf_y': test_hf_y\n",
    "}, open(os.path.join(standard_path, 'heart_failure.pkl'), 'wb'))\n",
    "pickle.dump({\n",
    "    'code_levels': code_levels,\n",
    "    'code_levels_pretrain': code_levels_pretrain,\n",
    "    'subclass_maps': subclass_maps,\n",
    "    'subclass_maps_pretrain': subclass_maps_pretrain,\n",
    "    'code_code_adj': code_code_adj\n",
    "}, open(os.path.join(standard_path, 'auxiliary.pkl'), 'wb'))"
   ]
  },
  {
   "cell_type": "code",
   "execution_count": null,
   "metadata": {},
   "outputs": [],
   "source": []
  },
  {
   "cell_type": "code",
   "execution_count": 19,
   "metadata": {},
   "outputs": [],
   "source": [
    "#%%\n",
    "def lr_decay(total_epoch, init_lr, split_val):\n",
    "    lr_map = [init_lr] * total_epoch\n",
    "    if len(split_val) > 0:\n",
    "        assert split_val[0][0] > 1\n",
    "        assert split_val[-1][0] <= total_epoch\n",
    "        current_split_index = 0\n",
    "        current_lr = init_lr\n",
    "        next_epoch, next_lr = split_val[current_split_index]\n",
    "        for i in range(total_epoch):\n",
    "            if i < next_epoch - 1:\n",
    "                lr_map[i] = current_lr\n",
    "            else:\n",
    "                current_lr = next_lr\n",
    "                lr_map[i] = current_lr\n",
    "                current_split_index += 1\n",
    "                if current_split_index >= len(split_val):\n",
    "                    next_epoch = total_epoch + 1\n",
    "                else:\n",
    "                    next_epoch, next_lr = split_val[current_split_index]\n",
    "\n",
    "    def lr_schedule_fn(epoch, lr):\n",
    "        return lr_map[epoch]\n",
    "\n",
    "    return lr_schedule_fn\n"
   ]
  },
  {
   "cell_type": "code",
   "execution_count": 20,
   "metadata": {},
   "outputs": [
    {
     "name": "stderr",
     "output_type": "stream",
     "text": [
      "2024-05-20 10:59:12.212600: I tensorflow/stream_executor/platform/default/dso_loader.cc:48] Successfully opened dynamic library libcudart.so.10.1\n"
     ]
    }
   ],
   "source": [
    "#%%\n",
    "import os\n",
    "import random\n",
    "import _pickle as pickle\n",
    "\n",
    "import tensorflow as tf\n",
    "from tensorflow.keras.callbacks import LearningRateScheduler\n",
    "from tensorflow.keras.layers import Layer\n",
    "from tensorflow.keras.models import Model\n",
    "from tensorflow.keras.optimizers import Adam\n",
    "import numpy as np\n",
    "\n",
    "\n",
    "seed = 6669\n",
    "random.seed(seed)\n",
    "np.random.seed(seed)\n",
    "tf.random.set_seed(seed)\n",
    "def flatten_hierarchy(subclass_dims, subclass_maps):\n",
    "    h2f_map = dict()\n",
    "    for level, subclass_dim in enumerate(subclass_dims):\n",
    "        for code in range(1, subclass_dim + 1):\n",
    "            h2f_map[(code, level)] = len(h2f_map) + 1\n",
    "    pc_map = dict()\n",
    "    pc_map[0] = [h2f_map[(code, 0)] for code in range(1, subclass_dims[0] + 1)]\n",
    "    for level, subclass_dim in enumerate(subclass_dims[:-1]):\n",
    "        for code in range(1, subclass_dim + 1):\n",
    "            pc_map[h2f_map[(code, level)]] = [h2f_map[(c + 1, level + 1)] for c in subclass_maps[level][code - 1]]\n",
    "    pc = []\n",
    "    for i in range(len(pc_map)):\n",
    "        pc.append(pc_map[i])\n",
    "    cp = np.zeros((len(h2f_map) + 1, ), dtype=int)\n",
    "    for parent, children in pc_map.items():\n",
    "        for c in children:\n",
    "            cp[c] = parent\n",
    "    return h2f_map, pc, cp\n",
    "\n",
    "\n",
    "def build_adjacent(node_num, pc):\n",
    "    result = np.zeros((node_num + 1, node_num + 1), dtype=np.float64)\n",
    "    for parent, children in enumerate(pc):\n",
    "        for c in children:\n",
    "            result[parent][c] = 1\n",
    "            result[c][parent] = 1\n",
    "    return result\n",
    "\n",
    "\n",
    "class HierarchicalEmbedding(Layer):\n",
    "    def __init__(self, pc, cp, node_num, embedding_size=128):\n",
    "        super().__init__(dtype=tf.float64)\n",
    "        self.pc = pc\n",
    "        self.cp = cp\n",
    "        self.node_num_with_children = len(pc)\n",
    "        self.node_num_without_parent = 1\n",
    "        self.s = self.add_weight(shape=(node_num + 1, embedding_size),\n",
    "                                 initializer=tf.keras.initializers.GlorotUniform())  # global\n",
    "        self.t = self.add_weight(shape=(node_num + 1, embedding_size),\n",
    "                                 initializer=tf.keras.initializers.GlorotUniform())  # local\n",
    "        self.lambda_ = self.add_weight(shape=(node_num + 1, 1),\n",
    "                                       initializer=tf.keras.initializers.GlorotUniform())\n",
    "\n",
    "    def call(self, inputs, **kwargs):\n",
    "        lambda_ = self.lambda_\n",
    "        e_prime = self.s * lambda_ + self.t * (1 - lambda_)\n",
    "        s_left = self.s[:self.node_num_without_parent]\n",
    "        s_right = tf.nn.embedding_lookup(e_prime, self.cp[self.node_num_without_parent:])\n",
    "        s = tf.concat([s_left, s_right], axis=0)\n",
    "        t_left = tf.stack([tf.reduce_mean(tf.nn.embedding_lookup(self.t, tf.cast(self.pc[i], dtype=tf.int32)), axis=0)\n",
    "                           for i in range(self.node_num_with_children)], axis=0)\n",
    "        t_right = self.t[self.node_num_with_children:]\n",
    "        t = tf.concat([t_left, t_right], axis=0)\n",
    "        e = s * lambda_ + t * (1 - lambda_)\n",
    "        return e\n",
    "\n",
    "\n",
    "class HyperbolicDecoder(Model):\n",
    "    def __init__(self, pc, cp, adj, adj_mask, embedding_size=128):\n",
    "        super().__init__(dtype=tf.float64)\n",
    "        self.embeddings = HierarchicalEmbedding(pc, cp, node_num, embedding_size)\n",
    "        self.adj = adj\n",
    "        self.mask = adj_mask\n",
    "        self.eps = 1e-10\n",
    "        self.max_norm = 1 - self.eps\n",
    "\n",
    "    def distance(self, u, v):\n",
    "        sq_u_norm = tf.clip_by_value(\n",
    "            tf.reduce_sum(u * u, axis=-1),\n",
    "            clip_value_min=0,\n",
    "            clip_value_max=self.max_norm\n",
    "        )\n",
    "        sq_v_norm = tf.clip_by_value(\n",
    "            tf.reduce_sum(v * v, axis=-1),\n",
    "            clip_value_min=0,\n",
    "            clip_value_max=self.max_norm\n",
    "        )\n",
    "        sq_dist = tf.reduce_sum((u - v) ** 2, axis=-1)\n",
    "        x = 1 + (sq_dist / ((1 - sq_u_norm) * (1 - sq_v_norm))) * 2\n",
    "        distance = 1 / (x + tf.sqrt(x ** 2 - 1))\n",
    "        return distance\n",
    "\n",
    "    def log_no_nan(self, x):\n",
    "        mask = tf.cast(x == 0, x.dtype)\n",
    "        return tf.math.log(x + mask)\n",
    "\n",
    "    def rec_loss(self, nid, distance):\n",
    "        a = distance\n",
    "        b = tf.reduce_sum(a * tf.nn.embedding_lookup(self.mask, nid), axis=-1, keepdims=True)\n",
    "        c = (a * tf.nn.embedding_lookup(self.adj, nid)) / (b + a)\n",
    "        d = self.log_no_nan(c)\n",
    "        loss = -tf.reduce_mean(tf.reduce_sum(d, axis=-1))\n",
    "        return loss\n",
    "\n",
    "    def call(self, nid, training=None, mask=None):\n",
    "        embeddings = self.embeddings(None)\n",
    "        u = tf.nn.embedding_lookup(embeddings, nid)\n",
    "        v = tf.expand_dims(embeddings, axis=0)\n",
    "        distance = self.distance(u, v)\n",
    "        nid = tf.squeeze(nid)\n",
    "        loss = self.rec_loss(nid, distance)\n",
    "        self.add_loss(loss)\n",
    "        return loss\n",
    "\n",
    "\n",
    "# if __name__ == '__main__':\n",
    "#     subclass_dims = np.max(code_levels_pretrain, axis=0)\n",
    "\n",
    "#     h2f_map, pc, cp = flatten_hierarchy(subclass_dims, subclass_maps_pretrain)\n",
    "#     node_num = len(h2f_map)\n",
    "#     adj = build_adjacent(node_num, pc)\n",
    "\n",
    "#     adj_mask = 1 - adj - np.eye(len(adj))\n",
    "#     with tf.device('/GPU:0'):\n",
    "#         embedding_size = 256\n",
    "#         epochs = 200\n",
    "#         batch_size = 256\n",
    "#         learning_rate = 1e-2\n",
    "#         # split_val = [(20, 1e-3), (27, 1e-8), (80, 1e-5), (100, 1e-8)]\n",
    "#         # split_val = [(20, 1e-3), (30, 1e-4), (40, 1e-5), (50, 1e-6), (60, 1e-7), (70, 1e-8)]\n",
    "#         split_val = [(50, 1e-3), (100, 1e-4), (150, 1e-5), (200, 1e-6)]\n",
    "#         # split_val = [(100, 1e-3), (200, 1e-4), (300, 1e-5), (400, 1e-6)]\n",
    "\n",
    "#         lr_schedule_fn = lr_decay(total_epoch=epochs, init_lr=learning_rate, split_val=split_val)\n",
    "#         lr_scheduler = LearningRateScheduler(lr_schedule_fn)\n",
    "\n",
    "#         optimizer = Adam(learning_rate=learning_rate)\n",
    "#         decoder = HyperbolicDecoder(pc, cp, adj=adj, adj_mask=adj_mask, embedding_size=embedding_size)\n",
    "#         decoder.compile(optimizer=Adam(learning_rate=learning_rate), loss=None)\n",
    "#         decoder.fit(x=np.arange(node_num + 1).reshape((-1, 1)), epochs=epochs, batch_size=batch_size,\n",
    "#                     callbacks=[lr_scheduler])\n",
    "\n",
    "#         embeddings = decoder.embeddings(None).numpy()\n",
    "#         level = len(subclass_dims) - 1\n",
    "#         leaf_embeddings = np.zeros((subclass_dims[-1] + 1, 256), dtype=np.float64)\n",
    "#         for i in range(1, subclass_dims[-1] + 1):\n",
    "#             c = h2f_map[(i, level)]\n",
    "#             vec = embeddings[c]\n",
    "#             leaf_embeddings[i] = vec\n",
    "#         # pickle.dump(leaf_embeddings, open('./saved/Ours1/%s_leaf_embeddings' % dataset, 'wb'))\n"
   ]
  },
  {
   "cell_type": "code",
   "execution_count": 21,
   "metadata": {},
   "outputs": [],
   "source": [
    "# pickle.dump(leaf_embeddings, open('./Mental/leaf_embeddings_', 'wb'))"
   ]
  },
  {
   "cell_type": "code",
   "execution_count": 22,
   "metadata": {},
   "outputs": [],
   "source": [
    "import networkx as nx\n",
    "import pandas as pd\n",
    "import matplotlib.pyplot as plt\n",
    "from networkx import bipartite"
   ]
  },
  {
   "cell_type": "code",
   "execution_count": 23,
   "metadata": {},
   "outputs": [
    {
     "data": {
      "text/plain": [
       "27542"
      ]
     },
     "execution_count": 23,
     "metadata": {},
     "output_type": "execute_result"
    }
   ],
   "source": [
    "id_list = multiple\n",
    "len(id_list)"
   ]
  },
  {
   "cell_type": "code",
   "execution_count": 24,
   "metadata": {},
   "outputs": [],
   "source": [
    "# 将列表保存为 pickle 文件\n",
    "with open('./raw/id_list.pkl', 'wb') as file:\n",
    "    pickle.dump(id_list, file)"
   ]
  },
  {
   "cell_type": "code",
   "execution_count": 25,
   "metadata": {},
   "outputs": [
    {
     "data": {
      "text/html": [
       "<div>\n",
       "<style scoped>\n",
       "    .dataframe tbody tr th:only-of-type {\n",
       "        vertical-align: middle;\n",
       "    }\n",
       "\n",
       "    .dataframe tbody tr th {\n",
       "        vertical-align: top;\n",
       "    }\n",
       "\n",
       "    .dataframe thead th {\n",
       "        text-align: right;\n",
       "    }\n",
       "</style>\n",
       "<table border=\"1\" class=\"dataframe\">\n",
       "  <thead>\n",
       "    <tr style=\"text-align: right;\">\n",
       "      <th></th>\n",
       "      <th>SUBJECT_ID</th>\n",
       "      <th>HADM_ID</th>\n",
       "      <th>ADMITTIME</th>\n",
       "      <th>ICD10_CODE</th>\n",
       "      <th>SEQ_NUM</th>\n",
       "    </tr>\n",
       "  </thead>\n",
       "  <tbody>\n",
       "    <tr>\n",
       "      <th>9</th>\n",
       "      <td>3</td>\n",
       "      <td>2</td>\n",
       "      <td>2020-04-09</td>\n",
       "      <td>J18.9</td>\n",
       "      <td>1</td>\n",
       "    </tr>\n",
       "    <tr>\n",
       "      <th>10</th>\n",
       "      <td>3</td>\n",
       "      <td>2</td>\n",
       "      <td>2020-04-09</td>\n",
       "      <td>K72.9</td>\n",
       "      <td>2</td>\n",
       "    </tr>\n",
       "    <tr>\n",
       "      <th>11</th>\n",
       "      <td>3</td>\n",
       "      <td>2</td>\n",
       "      <td>2020-04-09</td>\n",
       "      <td>N17.9</td>\n",
       "      <td>3</td>\n",
       "    </tr>\n",
       "    <tr>\n",
       "      <th>12</th>\n",
       "      <td>3</td>\n",
       "      <td>2</td>\n",
       "      <td>2020-04-09</td>\n",
       "      <td>K63.8</td>\n",
       "      <td>4</td>\n",
       "    </tr>\n",
       "    <tr>\n",
       "      <th>13</th>\n",
       "      <td>3</td>\n",
       "      <td>2</td>\n",
       "      <td>2020-04-09</td>\n",
       "      <td>I69.3</td>\n",
       "      <td>5</td>\n",
       "    </tr>\n",
       "    <tr>\n",
       "      <th>...</th>\n",
       "      <td>...</td>\n",
       "      <td>...</td>\n",
       "      <td>...</td>\n",
       "      <td>...</td>\n",
       "      <td>...</td>\n",
       "    </tr>\n",
       "    <tr>\n",
       "      <th>1315682</th>\n",
       "      <td>102408</td>\n",
       "      <td>348537</td>\n",
       "      <td>2023-01-31</td>\n",
       "      <td>G81.9</td>\n",
       "      <td>4</td>\n",
       "    </tr>\n",
       "    <tr>\n",
       "      <th>1315689</th>\n",
       "      <td>102408</td>\n",
       "      <td>348537</td>\n",
       "      <td>2023-01-31</td>\n",
       "      <td>E77.8</td>\n",
       "      <td>11</td>\n",
       "    </tr>\n",
       "    <tr>\n",
       "      <th>1315690</th>\n",
       "      <td>102408</td>\n",
       "      <td>348537</td>\n",
       "      <td>2023-01-31</td>\n",
       "      <td>R09.0</td>\n",
       "      <td>12</td>\n",
       "    </tr>\n",
       "    <tr>\n",
       "      <th>1315691</th>\n",
       "      <td>102408</td>\n",
       "      <td>348537</td>\n",
       "      <td>2023-01-31</td>\n",
       "      <td>E87.6</td>\n",
       "      <td>13</td>\n",
       "    </tr>\n",
       "    <tr>\n",
       "      <th>1315692</th>\n",
       "      <td>102408</td>\n",
       "      <td>348537</td>\n",
       "      <td>2023-01-31</td>\n",
       "      <td>N39.0</td>\n",
       "      <td>14</td>\n",
       "    </tr>\n",
       "  </tbody>\n",
       "</table>\n",
       "<p>456835 rows × 5 columns</p>\n",
       "</div>"
      ],
      "text/plain": [
       "         SUBJECT_ID  HADM_ID   ADMITTIME ICD10_CODE  SEQ_NUM\n",
       "9                 3        2  2020-04-09      J18.9        1\n",
       "10                3        2  2020-04-09      K72.9        2\n",
       "11                3        2  2020-04-09      N17.9        3\n",
       "12                3        2  2020-04-09      K63.8        4\n",
       "13                3        2  2020-04-09      I69.3        5\n",
       "...             ...      ...         ...        ...      ...\n",
       "1315682      102408   348537  2023-01-31      G81.9        4\n",
       "1315689      102408   348537  2023-01-31      E77.8       11\n",
       "1315690      102408   348537  2023-01-31      R09.0       12\n",
       "1315691      102408   348537  2023-01-31      E87.6       13\n",
       "1315692      102408   348537  2023-01-31      N39.0       14\n",
       "\n",
       "[456835 rows x 5 columns]"
      ]
     },
     "execution_count": 25,
     "metadata": {},
     "output_type": "execute_result"
    }
   ],
   "source": [
    "data = pd.read_csv('../data/raw/DIAGNOSES_ICD.csv')\n",
    "\n",
    "data1 = data[data.SUBJECT_ID.isin(id_list)]\n",
    "data1 = data1.drop_duplicates(subset=['SUBJECT_ID','ICD10_CODE'])\n",
    "data1"
   ]
  },
  {
   "cell_type": "code",
   "execution_count": 26,
   "metadata": {},
   "outputs": [],
   "source": [
    "data1.to_csv('./raw/data1.csv', index=False)"
   ]
  }
 ],
 "metadata": {
  "kernelspec": {
   "display_name": "Sherbet",
   "language": "python",
   "name": "python3"
  },
  "language_info": {
   "codemirror_mode": {
    "name": "ipython",
    "version": 3
   },
   "file_extension": ".py",
   "mimetype": "text/x-python",
   "name": "python",
   "nbconvert_exporter": "python",
   "pygments_lexer": "ipython3",
   "version": "3.8.18"
  }
 },
 "nbformat": 4,
 "nbformat_minor": 2
}
